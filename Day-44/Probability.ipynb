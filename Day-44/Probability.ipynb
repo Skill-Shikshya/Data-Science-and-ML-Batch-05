{
 "cells": [
  {
   "cell_type": "markdown",
   "id": "e8aa8da4-a36a-4f93-b1ef-6ba249998527",
   "metadata": {},
   "source": [
    "# Intorduction to Probability\n",
    "\n",
    "Probability is a branch of mathematics that deals with the study of random events and their likelihoods of occurrence. It is used to quantify uncertainty and measure the likelihood of different outcomes.\n",
    "\n",
    "\n",
    "Probability is a fundamental concept in data science that plays a crucial role in data analysis, modeling, and decision-making. It is the study of the likelihood or chance of an event occurring. Probability is used in data science to analyze and interpret data, build models, and make predictions.\n",
    "\n",
    "In data science, probability is used to:\n",
    "\n",
    "- **Describe the likelihood of events:** Probability theory provides a framework to describe the likelihood of events occurring. For example, it can be used to predict the likelihood of a customer buying a product or the likelihood of a patient developing a particular disease.\n",
    "\n",
    "- **Model uncertainty:** Probability theory is used to model uncertainty in data science. For instance, it can be used to model the uncertainty associated with the outcome of a marketing campaign.\n",
    "\n",
    "- **Build predictive models:** Probability theory is used to build predictive models that can be used to make predictions about future events. For example, it can be used to build a model that predicts the likelihood of a customer churning.\n",
    "\n",
    "- **Data analysis:** Probability theory is used to analyze data and make inferences. For instance, it can be used to analyze data from a survey to make conclusions about the population being studied.\n",
    "\n",
    "Some common applications of probability in data science include:\n",
    "\n",
    "- **Predictive modeling:** Probability theory is used to build predictive models for a wide range of applications, such as predicting customer behavior, stock prices, or weather patterns.\n",
    "\n",
    "- **Bayesian inference:** Probability theory is used in Bayesian inference, a statistical approach used to update probabilities based on new evidence or information.\n",
    "\n",
    "- **A/B testing:** Probability theory is used in A/B testing, a technique used to compare the effectiveness of two different versions of a product, webpage, or marketing campaign.\n",
    "\n",
    "- **Fraud detection:** Probability theory is used in fraud detection to identify anomalies and detect fraudulent activities.\n",
    "\n",
    "Overall, probability is a crucial tool for data scientists to make sense of data and build models that can be used to make predictions and informed decisions.\n"
   ]
  },
  {
   "cell_type": "markdown",
   "id": "0defeb84-7339-45cc-85f8-24e1e50cab67",
   "metadata": {},
   "source": [
    "\n",
    "## Random Experiment\n",
    "\n",
    "A random experiment is an experiment in which the outcome is uncertain, and it cannot be predicted with certainty. Examples of random experiments include tossing a coin, rolling a die, drawing a card from a deck, and so on.\n",
    "\n",
    "## Sample Space\n",
    "The sample space of a random experiment is the set of all possible outcomes of the experiment. For example, the sample space for tossing a coin is `{heads, tails}`, and the sample space for rolling a die is `{1, 2, 3, 4, 5, 6}`.\n",
    "\n",
    "## Events and their Probabilities\n",
    "\n",
    "An event is a subset of the sample space, which represents a specific outcome or a combination of outcomes. For example, getting heads when tossing a coin is an event, and getting an even number when rolling a die is also an event.\n",
    "\n",
    "The probability of an event is a number between `0` and `1`, which represents the likelihood of the event occurring. A probability of `0` means that the event is impossible, and a probability of `1` means that the event is certain.\n",
    "\n",
    "## Theoretical Probability\n",
    "\n",
    "Theoretical probability is the probability of an event based on mathematical calculations and assumptions. For example, the theoretical probability of getting heads when tossing a fair coin is `1/2`.\n",
    "\n",
    "## Experimental Probability\n",
    "\n",
    "Experimental probability is the probability of an event based on actual experiments or observations. For example, if you toss a coin `100` times and get `55` heads and `45` tails, the experimental probability of getting heads is `55/100 = 0.55`."
   ]
  },
  {
   "cell_type": "markdown",
   "id": "c1865d95-7193-4598-93df-a7e62d4f2e5c",
   "metadata": {},
   "source": [
    "## Laws of Probability\n",
    "\n",
    "- **Probability of an event:** The probability of an event `A` is denoted by `P(A)` and is a number between `0` and `1`.\n",
    "- **Complement rule:** The probability of the complement of an event `A` is `1` minus the probability of `A`. That is, `P(not A) = 1 - P(A)`.\n",
    "- **Union rule:** The probability of the union of two events `A` and `B` is given by `P(A or B) = P(A) + P(B) - P(A and B)`.\n",
    "- **Intersection rule:** The probability of the intersection of two events `A` and `B` is given by `P(A and B) = P(A) * P(B|A)`, where `P(B|A)` is the conditional probability of `B` given that `A` has occurred.\n",
    "- **Addition rule:** The addition rule of probability states that the probability of the union of two events `A` and `B` is given by `P(A or B) = P(A) + P(B) - P(A and B)` where `P(A and B)` denotes the probability of the intersection of events `A` and `B`.\n",
    "- **Multiplication rule:** The probability of the joint occurrence of two or more events is given by `P(A and B and C and ...) = P(A) * P(B|A) * P(C|A and B) * ...`, where the conditional probabilities are given by the product rule.\n",
    "- **Conditional probability:** The conditional probability of an event `B` given that an event `A` has occurred is denoted by `P(B|A)` and is given by `P(B|A) = P(A and B) / P(A)`, provided that `P(A) > 0`.\n",
    "- **Law of total probability:** Let `A1, A2, ...`, An be a partition of the sample space. Then, for any event `B`, the probability of `B` is given by the law of total probability: `P(B) = P(B|A1) * P(A1) + P(B|A2) * P(A2) + ... + P(B|An) * P(An)`."
   ]
  },
  {
   "cell_type": "code",
   "execution_count": null,
   "id": "e3f93046-b89d-4a75-ab29-08608cc0d130",
   "metadata": {},
   "outputs": [],
   "source": []
  }
 ],
 "metadata": {
  "kernelspec": {
   "display_name": "Python 3 (ipykernel)",
   "language": "python",
   "name": "python3"
  },
  "language_info": {
   "codemirror_mode": {
    "name": "ipython",
    "version": 3
   },
   "file_extension": ".py",
   "mimetype": "text/x-python",
   "name": "python",
   "nbconvert_exporter": "python",
   "pygments_lexer": "ipython3",
   "version": "3.10.12"
  }
 },
 "nbformat": 4,
 "nbformat_minor": 5
}
