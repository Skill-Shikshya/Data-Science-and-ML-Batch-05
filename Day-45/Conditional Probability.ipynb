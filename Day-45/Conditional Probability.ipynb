{
 "cells": [
  {
   "cell_type": "markdown",
   "id": "22b7a235-896b-4079-95b0-da0de194db0d",
   "metadata": {},
   "source": [
    "## Conditional Probability\n",
    "\n",
    "Conditional probability is the probability of an event occurring given that another event has occurred. It is denoted by `P(A|B)`, which represents the probability of event `A` occurring given that event `B` has occurred.\n",
    "\n",
    "The formula for conditional probability is:\n",
    "\n",
    "\\begin{equation}\n",
    "P(A|B) = \\frac{P(A and B)}{P(B)}\n",
    "\\end{equation}\n",
    "\n",
    "where `P(A and B)` is the probability of both events `A` and `B` occurring together, and `P(B)` is the probability of event `B` occurring.\n",
    "\n"
   ]
  },
  {
   "cell_type": "markdown",
   "id": "afe282fb-223f-4288-825b-e5d21ec70e6a",
   "metadata": {},
   "source": [
    "Conditional probability is an important concept in probability theory and is used in many real-world applications, such as predicting the likelihood of a disease given certain symptoms, or the probability of a customer buying a product given their demographic information.\n",
    "\n",
    "`Example:` A bag contains 5 red balls and 3 green balls. If a ball is randomly selected from the bag and it is known to be red, what is the probability that it was one of the first two balls drawn from the bag?\n",
    "\n",
    "`Solution:` Let `A` be the event that the ball was one of the first two balls drawn from the bag, and let `B` be the event that the ball is red. We want to find `P(A|B)`.\n",
    "\n",
    "The probability of event `A` is \n",
    "\n",
    "\\begin{equation}\n",
    "P(A) = 2/8 * 1/7 + 6/8 * 2/7 = 10/28\n",
    "\\end{equation}\n",
    "\n",
    "The probability of event `B` is\n",
    "\n",
    "\\begin{equation}\n",
    "P(B) = 5/8\n",
    "\\end{equation}\n",
    "\n",
    "The probability of both events `A and B` occurring together is\n",
    "\n",
    "\\begin{equation}\n",
    "P(A and B) = 2/8 * 1/7 = 1/28\n",
    "\\end{equation}\n",
    "\n",
    "Therefore, the conditional probability of `A` given `B` is:\n",
    "\n",
    "\\begin{equation}\n",
    "P(A|B) = \\frac{P(A and B)}{P(B)} = \\frac{(1/28)}{(5/8)} = 0.057\n",
    "\\end{equation}\n",
    "\n",
    "So the probability that the ball was one of the first two balls drawn from the bag, given that it is red, is `0.057`."
   ]
  },
  {
   "cell_type": "code",
   "execution_count": null,
   "id": "62ede3d6-c41c-4631-89fe-505d3c2f2a83",
   "metadata": {},
   "outputs": [],
   "source": []
  }
 ],
 "metadata": {
  "kernelspec": {
   "display_name": "Python 3 (ipykernel)",
   "language": "python",
   "name": "python3"
  },
  "language_info": {
   "codemirror_mode": {
    "name": "ipython",
    "version": 3
   },
   "file_extension": ".py",
   "mimetype": "text/x-python",
   "name": "python",
   "nbconvert_exporter": "python",
   "pygments_lexer": "ipython3",
   "version": "3.10.12"
  }
 },
 "nbformat": 4,
 "nbformat_minor": 5
}
