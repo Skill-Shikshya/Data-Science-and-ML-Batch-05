{
 "cells": [
  {
   "cell_type": "markdown",
   "id": "57cb11d9-66e8-4933-83e6-615bd94e9032",
   "metadata": {},
   "source": [
    "# Exception Handling\n",
    "\n",
    "Exceptions are errors that occur during program execution. Besides exceptions, Python suffers from other types of errors as well. Let's go through a brief overview of those errors.\n",
    "\n",
    "- `Syntax errors`: These errors occur when the code is not written in the correct syntax or structure expected by Python. These errors are caught by the interpreter during the compilation of the code.\n",
    "- `Runtime errors`: These errors occur during the execution of the program, when the program is unable to execute a specific instruction or operation. These errors are also known as exceptions.\n",
    "- `Logical errors`: These errors occur when the program runs without any syntax or runtime errors, but the output is not what was expected. These errors are caused due to incorrect or incomplete logic in the program.\n",
    "\n",
    "Exceptions cause the program to stop abruptly, and it can be challenging to identify and fix the issue without proper error handling. To address these issues, Python has a built-in exception handling mechanism that allows you to catch, handle, and recover from exceptions.\n",
    "\n",
    "## Types of Exceptions in Python\n",
    "\n",
    "### 1. Built-in Exceptions\n",
    "\n",
    "Python has several built-in exceptions. Each of these exceptions is raised when a specific error occurs in the program.\n",
    "\n",
    "- `SyntaxError`: Raised when there is a syntax error in the program\n",
    "- `TypeError`: Raised when an operation or function is applied to an object of inappropriate type\n",
    "- `ValueError`: Raised when an operation or function receives an argument of the correct type but with an inappropriate value\n",
    "- `IndexError`: Raised when trying to access an index that is out of range\n",
    "- `KeyError`: Raised when trying to access a key that does not exist in a dictionary\n",
    "- `AttributeError`: Raised when trying to access an attribute that does not exist in an object\n",
    "- `NameError`: Raised when a variable or name is not defined\n",
    "- `IOError`: Raised when there is an input/output error\n",
    "- `ImportError`: Raised when a module cannot be imported\n",
    "- `KeyboardInterrupt`: Raised when the user interrupts the execution of the program with a keyboard signal (Ctrl+C)\n",
    "\n",
    "### 2. User-defined Exceptions\n",
    "\n",
    "In addition to built-in exceptions, Python allows you to define your own exceptions. User-defined exceptions are used to signal specific errors in the program that are not covered by built-in exceptions.\n"
   ]
  },
  {
   "cell_type": "code",
   "execution_count": null,
   "id": "3599dfc0-e575-46d1-920f-b5ba6516a1e0",
   "metadata": {},
   "outputs": [],
   "source": []
  }
 ],
 "metadata": {
  "kernelspec": {
   "display_name": "Python 3 (ipykernel)",
   "language": "python",
   "name": "python3"
  },
  "language_info": {
   "codemirror_mode": {
    "name": "ipython",
    "version": 3
   },
   "file_extension": ".py",
   "mimetype": "text/x-python",
   "name": "python",
   "nbconvert_exporter": "python",
   "pygments_lexer": "ipython3",
   "version": "3.10.12"
  }
 },
 "nbformat": 4,
 "nbformat_minor": 5
}
