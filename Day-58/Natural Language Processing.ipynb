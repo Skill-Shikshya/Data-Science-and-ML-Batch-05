{
 "cells": [
  {
   "cell_type": "code",
   "execution_count": 1,
   "id": "8d9498db-c77a-4c3b-9801-a70f5d39512e",
   "metadata": {},
   "outputs": [],
   "source": [
    "#!pip install nltk"
   ]
  },
  {
   "cell_type": "markdown",
   "id": "8243ae23-225e-4042-a25a-68f87db99ce5",
   "metadata": {},
   "source": [
    "## Text Preprocessing\n",
    "\n",
    "Text preprocessing is an essential step in natural language processing (NLP) tasks. It involves transforming raw text data into a format that is more suitable for analysis and machine learning algorithms. In this tutorial, we will cover various common techniques for text preprocessing. Let's dive in!\n"
   ]
  },
  {
   "cell_type": "markdown",
   "id": "2d3faf1c-d2fd-46e9-8042-95c1555add81",
   "metadata": {},
   "source": [
    "### Lowercasing\n",
    "Converting all text to lowercase can help to normalize the data and reduce the vocabulary size. It ensures that words in different cases are treated as the same word. For example, \"apple\" and \"Apple\" will both be transformed to \"apple\"."
   ]
  },
  {
   "cell_type": "code",
   "execution_count": 2,
   "id": "c0359a82-0421-4384-a046-9f197b4e3dd0",
   "metadata": {},
   "outputs": [],
   "source": [
    "sent = \"Cunningham's system was inspired by his having used Apple's hypertext software HyperCard, which allowed users to create interlinked 'stacks' of virtual cards.\""
   ]
  },
  {
   "cell_type": "code",
   "execution_count": 3,
   "id": "d7143753-fd46-4c2e-8fcb-c5523d10ebb0",
   "metadata": {},
   "outputs": [
    {
     "data": {
      "text/plain": [
       "\"Cunningham's system was inspired by his having used Apple's hypertext software HyperCard, which allowed users to create interlinked 'stacks' of virtual cards.\""
      ]
     },
     "execution_count": 3,
     "metadata": {},
     "output_type": "execute_result"
    }
   ],
   "source": [
    "sent"
   ]
  },
  {
   "cell_type": "code",
   "execution_count": 4,
   "id": "9fbe67c6-a66b-420d-8d56-a2c00c1764c9",
   "metadata": {},
   "outputs": [
    {
     "data": {
      "text/plain": [
       "\"cunningham's system was inspired by his having used apple's hypertext software hypercard, which allowed users to create interlinked 'stacks' of virtual cards.\""
      ]
     },
     "execution_count": 4,
     "metadata": {},
     "output_type": "execute_result"
    }
   ],
   "source": [
    "lower_sent = sent.lower()\n",
    "lower_sent"
   ]
  },
  {
   "cell_type": "markdown",
   "id": "f79e2531-929d-4e97-952c-80fa3a4f7f39",
   "metadata": {},
   "source": [
    "### Removal of Punctuation and Special Characters\n",
    "Punctuation marks and special characters often do not add much meaning to the text and can be safely removed. Common punctuation marks include periods, commas, question marks, and exclamation marks. You can use regular expressions or string operations to remove them."
   ]
  },
  {
   "cell_type": "code",
   "execution_count": 5,
   "id": "3abefc20-7ede-46ff-a48c-a1dc75bcd955",
   "metadata": {},
   "outputs": [],
   "source": [
    "common_punctuation = ['.', ',', ':', ';', '!', '?', '(', ')', '\"', \"'\"]"
   ]
  },
  {
   "cell_type": "code",
   "execution_count": 6,
   "id": "5b79b234-48a5-400b-b703-8b36b695ae3d",
   "metadata": {},
   "outputs": [],
   "source": [
    "result = \"\"\n",
    "for each in lower_sent:\n",
    "    if each not in common_punctuation:\n",
    "        result += each"
   ]
  },
  {
   "cell_type": "code",
   "execution_count": 7,
   "id": "8e97f189-42d4-46fa-93fb-f168336b832c",
   "metadata": {},
   "outputs": [
    {
     "data": {
      "text/plain": [
       "'cunninghams system was inspired by his having used apples hypertext software hypercard which allowed users to create interlinked stacks of virtual cards'"
      ]
     },
     "execution_count": 7,
     "metadata": {},
     "output_type": "execute_result"
    }
   ],
   "source": [
    "import re\n",
    "\n",
    "cleaned = re.sub(r'[^\\w\\s]','', lower_sent)\n",
    "cleaned"
   ]
  },
  {
   "cell_type": "markdown",
   "id": "4932851c-26b3-482b-8ffa-b425b44b314d",
   "metadata": {},
   "source": [
    "### Stop Word Removal:\n",
    "Stop words are commonly occurring words in a language, such as \"a,\" \"an,\" \"the,\" \"is,\" and \"in.\" These words provide little semantic value and can be removed to reduce noise in the data. Libraries like NLTK provide a list of predefined stop words for different languages.\n",
    "\n",
    "Before using the code make sure you downloaded all the stopwords uning the first shell below."
   ]
  },
  {
   "cell_type": "code",
   "execution_count": 8,
   "id": "ade27058-45d4-4a29-a87c-594f7f3adb07",
   "metadata": {},
   "outputs": [],
   "source": [
    "# import nltk\n",
    "# nltk.download('stopwords')"
   ]
  },
  {
   "cell_type": "code",
   "execution_count": 9,
   "id": "c0f115fd-2dbf-48a8-8089-7dc1c080251a",
   "metadata": {},
   "outputs": [],
   "source": [
    "from nltk.corpus import stopwords"
   ]
  },
  {
   "cell_type": "code",
   "execution_count": 10,
   "id": "3c89c766-d37b-49ea-b4fe-5ff0fc56da35",
   "metadata": {
    "scrolled": true
   },
   "outputs": [],
   "source": [
    "stopwords_eng = stopwords.words('english')"
   ]
  },
  {
   "cell_type": "code",
   "execution_count": 11,
   "id": "09a97b4c-8309-4c4f-8863-245448646d82",
   "metadata": {},
   "outputs": [
    {
     "data": {
      "text/plain": [
       "'cunninghams system inspired used apples hypertext software hypercard allowed users create interlinked stacks virtual cards'"
      ]
     },
     "execution_count": 11,
     "metadata": {},
     "output_type": "execute_result"
    }
   ],
   "source": [
    "filtered = [word for word in cleaned.split() if word not in stopwords_eng]\n",
    "filtered = \" \".join(filtered)\n",
    "filtered"
   ]
  },
  {
   "cell_type": "code",
   "execution_count": null,
   "id": "4b829fd8-22e1-4cfc-b002-389ae64b0497",
   "metadata": {},
   "outputs": [],
   "source": []
  },
  {
   "cell_type": "markdown",
   "id": "2bc6f78f-a30f-4318-b13d-b391fac165ff",
   "metadata": {},
   "source": [
    "## Tokenization\n",
    "\n",
    "Tokenization is the process of breaking down a piece of text into smaller units called tokens. These tokens can be words, subwords, or even characters, depending on the level of granularity desired. Tokenization is a fundamental step in text preprocessing and is crucial for various natural language processing (NLP) tasks, such as machine translation, sentiment analysis, and language generation.\n"
   ]
  },
  {
   "cell_type": "markdown",
   "id": "2eb0d9b2-fd4f-49ee-811a-ab046aa4731d",
   "metadata": {},
   "source": [
    "### Word Tokenization\n",
    "Word tokenization is the most common form of tokenization, where the text is split into individual words. For example, given the sentence \"Tokenization is important for NLP tasks,\" the word tokens would be: [\"Tokenization\", \"is\", \"important\", \"for\", \"NLP\", \"tasks\"].\n",
    "\n",
    "Word tokenization is typically performed using whitespace as the delimiter. However, it's important to handle cases like punctuation marks, contractions, and hyphenated words correctly. For example, \"don't\" should be tokenized as [\"do\", \"n't\"] instead of [\"don\", \"'\", \"t\"].\n",
    "\n",
    "Libraries like NLTK, spaCy, and the tokenizers package provide ready-to-use word tokenization functions.\n",
    "\n",
    "***\n",
    "Before running any of these tokenization techniques, make sure you have `punkt` downloaded. `punkt` refers to the Punkt Tokenizer, which is a pre-trained unsupervised machine learning model for sentence tokenization. The NLTK Punkt Tokenizer is trained on large corpora and is capable of handling a wide range of sentence boundary detection for multiple languages. It uses a combination of rule-based heuristics and statistical models to identify sentence boundaries accurately."
   ]
  },
  {
   "cell_type": "code",
   "execution_count": 12,
   "id": "531510c2-8011-4dec-b55a-929cd6576c88",
   "metadata": {},
   "outputs": [],
   "source": [
    "import nltk\n",
    "# nltk.download('punkt')\n",
    "# nltk.download('punkt_tab')"
   ]
  },
  {
   "cell_type": "code",
   "execution_count": 13,
   "id": "b490ccbe-0a70-4791-8860-e844b484e4d1",
   "metadata": {},
   "outputs": [
    {
     "name": "stdout",
     "output_type": "stream",
     "text": [
      "['cunninghams', 'system', 'inspired', 'used', 'apples', 'hypertext', 'software', 'hypercard', 'allowed', 'users', 'create', 'interlinked', 'stacks', 'virtual', 'cards']\n"
     ]
    }
   ],
   "source": [
    "tokens = nltk.word_tokenize(filtered)\n",
    "print(tokens)"
   ]
  },
  {
   "cell_type": "code",
   "execution_count": null,
   "id": "fcf9ba3a-fe06-4e69-8911-9aa895af8c5d",
   "metadata": {},
   "outputs": [],
   "source": []
  },
  {
   "cell_type": "markdown",
   "id": "6a1c869a-8f7b-4027-ab48-bc388408837c",
   "metadata": {},
   "source": [
    "## Stemming and Lemmatization\n",
    "\n",
    "Stemming and lemmatization are techniques used in natural language processing (NLP) to reduce words to their base or root forms. Both approaches aim to normalize words and reduce inflectional variations, enabling better analysis and comparison of words. However, they differ in their methods and outputs. Let's dive into each technique in detail:"
   ]
  },
  {
   "cell_type": "markdown",
   "id": "7ea01ec9-e348-436b-9774-9c42dc5fd6df",
   "metadata": {},
   "source": [
    "### Stemming\n",
    "Stemming is a process of reducing words to their base or root forms by removing prefixes or suffixes. The resulting form is often a stem, which may not be an actual word itself. The primary goal of stemming is to simplify the vocabulary and group together words with the same base meaning.\n",
    "\n",
    "For example, when using a stemming algorithm on the words \"running,\" \"runs,\" and \"ran,\" the common stem would be \"run.\" The stemming process cuts off the suffixes (\"-ning,\" \"-s,\" and \"-\"), leaving behind the core form of the word.\n",
    "\n",
    "Stemming algorithms follow simple rules and heuristics based on linguistic patterns, rather than considering the context or part of speech of the word. Some popular stemming algorithms include the Porter stemming algorithm, the Snowball stemmer (which supports multiple languages), and the Lancaster stemming algorithm.\n",
    "\n",
    "Stemming is a computationally lightweight approach and can be useful in certain cases where the exact word form is not crucial. However, it may produce stems that are not actual words, leading to potential loss of meaning and ambiguity."
   ]
  },
  {
   "cell_type": "code",
   "execution_count": 14,
   "id": "5336c037-fc6e-43d6-9d80-93d88daa471f",
   "metadata": {},
   "outputs": [],
   "source": [
    "from nltk.stem import PorterStemmer, LancasterStemmer"
   ]
  },
  {
   "cell_type": "code",
   "execution_count": 15,
   "id": "01053b62-967d-4bef-ac86-820c4438bcd6",
   "metadata": {},
   "outputs": [
    {
     "data": {
      "text/plain": [
       "'eat'"
      ]
     },
     "execution_count": 15,
     "metadata": {},
     "output_type": "execute_result"
    }
   ],
   "source": [
    "stemmer = LancasterStemmer()\n",
    "stemmer.stem('eating')"
   ]
  },
  {
   "cell_type": "markdown",
   "id": "051a6a22-4779-46d2-b28f-f70726b005c8",
   "metadata": {},
   "source": [
    "### Lemmatization\n",
    "Lemmatization, on the other hand, aims to reduce words to their canonical or dictionary forms, known as lemmas. Unlike stemming, lemmatization considers the context and part of speech (POS) of the word to generate meaningful lemmas. The resulting lemmas are actual words found in the language's dictionary.\n",
    "\n",
    "For example, when lemmatizing the words \"running,\" \"runs,\" and \"ran,\" the lemma for each would be \"run.\" Lemmatization takes into account the POS information to accurately determine the base form of the word.\n",
    "\n",
    "Lemmatization algorithms use linguistic rules and morphological analysis to identify the appropriate lemma. They often rely on language-specific resources, such as word lists and morphological databases. Some popular lemmatization tools include the WordNet lemmatizer and the spaCy library (which supports lemmatization for multiple languages).\n",
    "\n",
    "Lemmatization typically produces more accurate and meaningful results compared to stemming because it retains the core meaning of words. It is especially useful in tasks that require precise word analysis, such as information retrieval, question answering, and sentiment analysis.\n",
    "\n",
    "However, lemmatization can be more computationally intensive compared to stemming due to its reliance on POS tagging and language-specific resources.\n",
    "\n",
    "Before running any of these tokenization techniques, make sure you have `wordnet` downloaded."
   ]
  },
  {
   "cell_type": "code",
   "execution_count": 16,
   "id": "c554eeed-792a-4e8b-bf65-f771273e576c",
   "metadata": {},
   "outputs": [],
   "source": [
    "# import nltk\n",
    "# nltk.download('wordnet')"
   ]
  },
  {
   "cell_type": "code",
   "execution_count": 17,
   "id": "1941c401-b30c-4a25-bd68-f0f2b8853ca3",
   "metadata": {},
   "outputs": [],
   "source": [
    "from nltk.stem import WordNetLemmatizer"
   ]
  },
  {
   "cell_type": "code",
   "execution_count": 18,
   "id": "2b80b218-43b9-4e8f-9754-ede591d589fe",
   "metadata": {},
   "outputs": [
    {
     "data": {
      "text/plain": [
       "'tasty'"
      ]
     },
     "execution_count": 18,
     "metadata": {},
     "output_type": "execute_result"
    }
   ],
   "source": [
    "lemmatizer = WordNetLemmatizer()\n",
    "lemmatizer.lemmatize('tasty')"
   ]
  },
  {
   "cell_type": "code",
   "execution_count": 19,
   "id": "0db2b6e4-a8ed-46ce-b7f8-a282c120edee",
   "metadata": {},
   "outputs": [
    {
     "name": "stdout",
     "output_type": "stream",
     "text": [
      "['cunningham', 'system', 'inspired', 'used', 'apple', 'hypertext', 'software', 'hypercard', 'allowed', 'user', 'create', 'interlinked', 'stack', 'virtual', 'card']\n"
     ]
    }
   ],
   "source": [
    "final = [lemmatizer.lemmatize(each) for each in tokens]\n",
    "print(final)"
   ]
  },
  {
   "cell_type": "markdown",
   "id": "7a5afd10-a919-4d7a-bfba-6c8bf2dd6d2d",
   "metadata": {},
   "source": [
    "When deciding between stemming and lemmatization, consider the trade-off between simplicity and accuracy. If you require speed and a broad reduction of word forms, stemming may be sufficient. However, if you need more accurate analysis and want to preserve the semantic meaning of words, lemmatization is generally the preferred choice.\n",
    "\n",
    "It's important to note that both stemming and lemmatization have limitations. They may not always produce the correct base forms, especially for irregular words or those not present in the chosen language's dictionary. Contextual information, such as word sense disambiguation, can further enhance the accuracy of both techniques."
   ]
  },
  {
   "cell_type": "code",
   "execution_count": null,
   "id": "72d9ebe3-c8ed-475c-9b6d-2ed4d46d0bf7",
   "metadata": {},
   "outputs": [],
   "source": []
  },
  {
   "attachments": {
    "33d9367a-ee36-4530-9193-1bca23b69241.png": {
     "image/png": "[encoded data removed]"
    }
   },
   "cell_type": "markdown",
   "id": "281575cb-4791-474a-945c-22aa53216073",
   "metadata": {},
   "source": [
    "## Word Embeddings\n",
    "\n",
    "![image.png](attachment:33d9367a-ee36-4530-9193-1bca23b69241.png)"
   ]
  },
  {
   "cell_type": "markdown",
   "id": "6ba33716-b49d-4a40-bf35-16762e389677",
   "metadata": {},
   "source": [
    "### Bag of words (BoW)\n",
    "\n",
    "**Bag of Words** model is the simplest and most popular form of word embedding. The key idea of **BoW** models is to encode every word in the vocabulary as one-hot-encoded vector.\n",
    "\n",
    "If r1, r2 and r3 be three records, the vectors corresponding to r1, r2 and r3 be v1, v2 and v3 respectively such that r1 and r2 are more similar to each other as compared to r3. Then, as general understanding, the vector distance between v1 and v2 is less than that between v1 and v3 or v2 and v3.\n",
    "\n",
    "<p align=\"center\"><b>\n",
    "    distance (v1, v2) < distance (v1, v3)<br/>\n",
    "    similarity (r1, r2) > similarity (r1, r3)\n",
    "</b></p>\n",
    "\n",
    "For easy understanding, let us consider a sweet example. Let there be three reviews for a product in ecommerce site as:\n",
    "\n",
    "    r1: This product is good and is affordable.\n",
    "    r2: This product is not good and affordable.\n",
    "    r3: This product is good and cheap.\n",
    "\n",
    "Let's see how BoW encodes the text data to machine compatible form. Follow along with the below points:\n",
    "\n",
    "**I. Construct a set of all the unique words present in the corpus:**\n",
    "\n",
    "    { this, product, is, good, and, affordable, not, cheap }\n",
    "\n",
    "There are a total of 8 uique words in the set formed. So the size of the vector generated for each review will be 8 as well, with the index position starting from 0 and ending to 7 i.e. \n",
    "\n",
    "    { 0: this, 1: product, 2: is, 3: good, 4: and, 5: affordable, 6: not, 7: cheap }\n",
    "\n",
    "**II. Construct a d-dimensional vector for each review separately:**\n",
    "\n",
    "Construct a d-dimensional vector (*d* being the vocabulary size) for each review. Each index/dimension of the vector corresponds to a unique word in the vocabulary. The value in each cell of the vector represents the number of times the word with that index occurs in the corpus.\n",
    "\n",
    " d | 0 | 1 | 2 | 3 | 4 | 5 | 6 | 7 |\n",
    "---|---|---|---|---|---|---|---|---|\n",
    "**v1**| 1 | 1 | 2 | 1 | 1 | 1 | 0 | 0 |\n",
    "**v2**| 1 | 1 | 1 | 1 | 1 | 1 | 1 | 0 |\n",
    "**v3**| 1 | 1 | 1 | 1 | 1 | 0 | 0 | 1 |\n",
    "\n",
    "<p style=\"text-align:center;\"><i><b>Table :</b> 8 dimensional vector representation of each review</i></p>\n",
    "\n",
    "#### Objective\n",
    "\n",
    "Similar texts (reviews, in this case) must result closer vector.\n",
    "\n",
    "    distance(v1-v2) = √((1-1)²+(1-1)²+(2-1)²+(1-1)²+(1-1)²+(1-1)²+(0-1)²+(0-0)²) = √2\n",
    "    distance(v1-v3) = √((1-1)²+(1-1)²+(2-1)²+(1-1)²+(1-1)²+(1-0)²+(0-0)²+(0-1)²) = √3 \n",
    "\n",
    "The Euclidean distance between vectors v1 and v2 is less than that between v1 and v3. However the meaning of review r1 is completely opposite to that of review r2. Thus, BoW does not preserve the semantic meaning of a words and fails to work when there is small change in the text statements.\n",
    "\n",
    "#### Limitations\n",
    "\n",
    "- Vector length is insanely large for large corpus.\n",
    "- BoW results to sparse matrix, which is what we would like to avoid.\n",
    "- Retains no information about grammar and ordering of words in a corpus.\n"
   ]
  },
  {
   "cell_type": "code",
   "execution_count": 20,
   "id": "b813475b-3518-40d3-96e4-89ce62ff4016",
   "metadata": {},
   "outputs": [],
   "source": [
    "from sklearn.feature_extraction.text import CountVectorizer\n",
    "\n",
    "corpus = [\n",
    "    \"This product is good and is affordable.\",\n",
    "    \"This product is not good and affordable.\",\n",
    "    \"This product is good and cheap.\"\n",
    "]\n",
    "vectorizer = CountVectorizer()\n",
    "output = vectorizer.fit_transform(corpus)"
   ]
  },
  {
   "cell_type": "code",
   "execution_count": 21,
   "id": "886b64c6-3acd-4b06-a3b2-784ffd043009",
   "metadata": {},
   "outputs": [
    {
     "data": {
      "text/plain": [
       "array([[1, 1, 0, 1, 2, 0, 1, 1],\n",
       "       [1, 1, 0, 1, 1, 1, 1, 1],\n",
       "       [0, 1, 1, 1, 1, 0, 1, 1]])"
      ]
     },
     "execution_count": 21,
     "metadata": {},
     "output_type": "execute_result"
    }
   ],
   "source": [
    "output.toarray()"
   ]
  },
  {
   "cell_type": "markdown",
   "id": "a9282614-0f7e-43e8-9287-e24815b9824b",
   "metadata": {},
   "source": [
    "### TF-IDF\n",
    "\n",
    "In NLP an independent text entity is known as document and the collection of all these documents over the project space is known as corpus. *tf-idf* stands for Term Frequency-Inverse Document Frequency. The entire technique can be studied by studying *tf* and *idf* separately.\n",
    "\n",
    "**Term-Frequency** is a measure of frequency of appearance of term *t* in a document *d*. In other words, the probability of finding term *t* in a document *d*. \n",
    "\n",
    "<p align=\"center\">\n",
    "    \\( \\text{tf}_{t,d} = \\frac{\\text{No of times } t \\text{ appears in } d}{\\text{Total no of terms in } d} \\)\n",
    "</p>\n",
    "\n",
    "\n",
    "**Inverse-Document-Frequency** is a measure of inverse of probability of finding a document that contains term t in a corpus. In other words, a measure of the importance of term t.\n",
    "\n",
    "<p align=\"center\">\n",
    "    \\( \\text{idf}_{t} = \\log \\frac{\\text{Total no of documents in corpus}}{\\text{No of documents with term } t} \\)\n",
    "</p>\n",
    "\n",
    "We can now compute the *tf-idf* score for each word in the corpus. *tf-idf* gives us the similarity between two documents in the corpus. Words with a higher score are more important. *tf-idf* score is high when both *idf* and *tf* values are high. So, *tf-idf* gives more importance to words that are:\n",
    "\n",
    "- More frequent in the entire corpus\n",
    "- Rare in the corpus but frequent in the document.\n",
    "\n",
    "Now this *tf-idf* score is used as a value for each cell of the document-term matrix, just like the frequency of words in case of Bag-of-Words. The formula below is used to compute *tf-idf* score for each cell:\n",
    "\n",
    "<p align=\"center\">\n",
    "    \\( (\\text{tf-idf})_{t,d} = \\text{tf}_{t,d} \\times \\text{idf}_{t} \\)\n",
    "</p>\n",
    "\n",
    "While computing *tf*, all terms are considered equally important. However, it is known that certain terms, such as *is*, *of*, *and*, *that*, *the*, etc may appear a lot of times but have no or little importance. Thus we need to weigh down such frequent terms while scaling the rare ones up using *idf*.\n",
    "\n",
    " Term | tf (r1) | tf (r2) | tf (r3)| idf | tf-idf (r1) | tf-idf (r2) | tf-idf (r3)\n",
    "---|:-:|:-:|:-:|:-:|:-:|:-:|:-:|\n",
    "this| 1/7 | 1/7 | 1/7 | 0.000 | 0.000 | 0.000 | 0.000 |\n",
    "product| 1/7 | 1/7 | 1/7 | 0.000 | 0.000 | 0.000 | 0.000 |\n",
    "is| 2/7 | 1/7 | 1/7 | 0.000 | 0.000 | 0.000 | 0.000 |\n",
    "good| 1/7 | 1/7 | 1/7 | 0.000 | 0.000 | 0.000 | 0.000 |\n",
    "and| 1/7 | 1/7 | 1/7 | 0.000 | 0.000 | 0.000 | 0.000 |\n",
    "affordable| 1/7 | 1/7 | 0 | 0.176 | 0.025 | 0.025 | 0.000 |\n",
    "not| 0 | 1/7 | 0 | 0.477 | 0.000 | 0.068 | 0.000 |\n",
    "cheap| 0 | 0 | 1/7 | 0.477 | 0.000 | 0.000 | 0.068 |\n"
   ]
  },
  {
   "cell_type": "code",
   "execution_count": 22,
   "id": "09a39963-7a13-43f8-9021-9efca85fc9b8",
   "metadata": {},
   "outputs": [],
   "source": [
    "from sklearn.feature_extraction.text import TfidfVectorizer\n",
    "\n",
    "corpus = [\n",
    "    \"This product is good and is affordable.\",\n",
    "    \"This product is not good and affordable.\",\n",
    "    \"This product is good and cheap.\"\n",
    "]\n",
    "vectorizer = TfidfVectorizer()\n",
    "output = vectorizer.fit_transform(corpus)"
   ]
  },
  {
   "cell_type": "code",
   "execution_count": 23,
   "id": "72af35ec-bf5c-4a4a-af19-dc412fc221ff",
   "metadata": {},
   "outputs": [
    {
     "data": {
      "text/plain": [
       "array([[0.41434513, 0.32177595, 0.        , 0.32177595, 0.64355191,\n",
       "        0.        , 0.32177595, 0.32177595],\n",
       "       [0.4172334 , 0.32401895, 0.        , 0.32401895, 0.32401895,\n",
       "        0.54861178, 0.32401895, 0.32401895],\n",
       "       [0.        , 0.35653519, 0.60366655, 0.35653519, 0.35653519,\n",
       "        0.        , 0.35653519, 0.35653519]])"
      ]
     },
     "execution_count": 23,
     "metadata": {},
     "output_type": "execute_result"
    }
   ],
   "source": [
    "output.toarray()"
   ]
  },
  {
   "cell_type": "code",
   "execution_count": null,
   "id": "c0aa7b4b-da77-4eca-8b0c-9be573e24ea2",
   "metadata": {},
   "outputs": [],
   "source": []
  },
  {
   "cell_type": "markdown",
   "id": "25f7dd8f-1d81-4903-8b16-c96a021dbc8c",
   "metadata": {},
   "source": [
    "### Word2Vec\n",
    "\n",
    "Word2Vec is a popular technique for learning word embeddings, which are dense vector representations of words in a continuous vector space. Word embeddings capture semantic relationships between words, allowing machines to understand and work with words in a more meaningful way. Word2Vec was introduced by researchers at Google in 2013, and it has since become one of the foundational techniques in natural language processing (NLP) and other related fields.\n",
    "\n",
    "The basic idea behind Word2Vec is to represent each word in a high-dimensional vector space, where words with similar meanings or contexts are located close to each other. The key intuition behind Word2Vec is the distributional hypothesis, which posits that words appearing in similar contexts tend to have similar meanings. For example, in the sentences \"I love cats\" and \"I adore felines,\" the words \"love\" and \"adore\" are likely to be used in similar contexts and have similar semantic meanings.\n",
    "\n",
    "Word2Vec can be trained using two main architectures: Continuous Bag of Words (CBOW) and Skip-gram. Let's explore each of these in detail:"
   ]
  },
  {
   "cell_type": "markdown",
   "id": "8c6fbc17-150d-44f7-b7b6-83ee62d02fc0",
   "metadata": {},
   "source": [
    "**1. Continuous Bag of Words (CBOW)**\n",
    "\n",
    "CBOW aims to predict a target word based on its surrounding context words. Given a sequence of words in a sentence, CBOW tries to predict the middle word based on the surrounding context words. The context window size determines how many words before and after the target word are considered as the context.\n",
    "\n",
    "For example, consider the sentence: \"The cat sat on the mat.\" If we set the context window size to 2 and assume \"sat\" is the target word, CBOW will use the context words \"The,\" \"cat,\" \"on,\" and \"the\" to predict the word \"sat.\"\n",
    "\n",
    "The architecture involves the following steps:\n",
    "- Convert the context words to their corresponding word embeddings.\n",
    "- Average these embeddings to create a context vector.\n",
    "- Use this context vector as input to a neural network to predict the target word.\n",
    "\n",
    "**2. Skip-gram**\n",
    "\n",
    "Skip-gram works in the opposite way of CBOW. It aims to predict context words given a target word. In other words, it tries to find the context words that are most likely to appear in the given sentence with a particular target word.\n",
    "\n",
    "For the same example sentence, \"The cat sat on the mat,\" if \"sat\" is the target word, Skip-gram will try to predict the context words \"The,\" \"cat,\" \"on,\" and \"the.\"\n",
    "\n",
    "The architecture involves the following steps:\n",
    "- Convert the target word to its corresponding word embedding.\n",
    "- Use this embedding as input to a neural network to predict the context words."
   ]
  },
  {
   "cell_type": "code",
   "execution_count": 24,
   "id": "e95a5c4a-abff-4c91-853d-2e7708a397b4",
   "metadata": {},
   "outputs": [],
   "source": [
    "# !pip install gensim"
   ]
  },
  {
   "cell_type": "code",
   "execution_count": 25,
   "id": "a94d5bfc-c36b-4e06-ab12-26db7b844f2e",
   "metadata": {},
   "outputs": [],
   "source": [
    "from gensim.models import Word2Vec"
   ]
  },
  {
   "cell_type": "code",
   "execution_count": 26,
   "id": "4e4b1f7f-6608-4184-8d2c-7cc9462f6d9c",
   "metadata": {},
   "outputs": [],
   "source": [
    "corpus = [\n",
    "    \"I love cats\",\n",
    "    \"I adore felines\",\n",
    "    \"Dogs are loyal\",\n",
    "    \"Cats and dogs are pets\",\n",
    "    \"The sun is shining\"\n",
    "]"
   ]
  },
  {
   "cell_type": "code",
   "execution_count": 27,
   "id": "854712cb-e163-4a97-aa46-3776a2be3af4",
   "metadata": {},
   "outputs": [],
   "source": [
    "tokenized = [sent.lower().split() for sent in corpus]"
   ]
  },
  {
   "cell_type": "code",
   "execution_count": 28,
   "id": "b30c8503-d849-4891-9574-56b6e26245e7",
   "metadata": {},
   "outputs": [],
   "source": [
    "cbow_model = Word2Vec(sentences=tokenized, vector_size=100, window=2, sg=0, min_count=1)\n",
    "sg_model = Word2Vec(sentences=tokenized, vector_size=100, window=2, sg=1, min_count=1)"
   ]
  },
  {
   "cell_type": "code",
   "execution_count": 29,
   "id": "82d7913a-023a-48fd-adf8-f37bd17c158b",
   "metadata": {},
   "outputs": [
    {
     "data": {
      "text/plain": [
       "[('pets', 0.19913175702095032),\n",
       " ('felines', 0.17272792756557465),\n",
       " ('shining', 0.17018885910511017),\n",
       " ('sun', 0.14589877426624298),\n",
       " ('is', 0.06408977508544922)]"
      ]
     },
     "execution_count": 29,
     "metadata": {},
     "output_type": "execute_result"
    }
   ],
   "source": [
    "cbow_model.wv.most_similar(['cats'], topn=5)"
   ]
  },
  {
   "cell_type": "code",
   "execution_count": 30,
   "id": "308a94bf-4f98-4235-a899-84be7a1b4219",
   "metadata": {},
   "outputs": [
    {
     "data": {
      "text/plain": [
       "[('pets', 0.19913214445114136),\n",
       " ('felines', 0.17272792756557465),\n",
       " ('shining', 0.17018885910511017),\n",
       " ('sun', 0.1459500789642334),\n",
       " ('is', 0.06408977508544922)]"
      ]
     },
     "execution_count": 30,
     "metadata": {},
     "output_type": "execute_result"
    }
   ],
   "source": [
    "sg_model.wv.most_similar(['cats'], topn=5)"
   ]
  },
  {
   "cell_type": "code",
   "execution_count": null,
   "id": "aab06262-9401-4f0a-8b13-dd81a7cf53ae",
   "metadata": {},
   "outputs": [],
   "source": []
  },
  {
   "cell_type": "markdown",
   "id": "d9af342e-76b8-4e99-aa0f-dd1289bf26f9",
   "metadata": {},
   "source": [
    "### BERT\n",
    "BERT (Bidirectional Encoder Representations from Transformers) is a neural network model that was pre-trained on a massive dataset of text and code. It can be used for a variety of natural language processing (NLP) tasks, such as question answering, text classification, and sentiment analysis.\n",
    "\n",
    "**How does BERT work?**\n",
    "\n",
    "BERT is a transformer-based model, which means that it uses a stack of self-attention layers to learn the relationships between words in a sentence. The model is pre-trained on a massive dataset of text and code, which allows it to learn the contextual meaning of words.\n",
    "\n",
    "**How to use BERT for embedding?**\n",
    "\n",
    "BERT can be used to generate word embeddings, which are vector representations of words that capture their semantic meaning. To generate word embeddings using BERT, you first need to tokenize the input text into individual words or subwords (using the BERT tokenizer). You can then pass the tokenized input through the BERT model to generate a sequence of hidden states. The hidden states can then be used to represent the words in the input text.\n",
    "\n",
    "To implement BERT, we will use HuggingFace's `transformers` library and `transformers` requires `pytorch` installed. So let's begin by installing the required libraries.\n",
    "\n",
    "```\n",
    "pip3 install torch\n",
    "pip3 install transformers\n",
    "```"
   ]
  },
  {
   "cell_type": "code",
   "execution_count": 33,
   "id": "5b6bc700-b477-4b11-85ff-957f57c0dda6",
   "metadata": {},
   "outputs": [
    {
     "name": "stderr",
     "output_type": "stream",
     "text": [
      "2024-12-02 07:32:19.550948: I tensorflow/core/util/port.cc:153] oneDNN custom operations are on. You may see slightly different numerical results due to floating-point round-off errors from different computation orders. To turn them off, set the environment variable `TF_ENABLE_ONEDNN_OPTS=0`.\n",
      "2024-12-02 07:32:21.925611: E external/local_xla/xla/stream_executor/cuda/cuda_fft.cc:477] Unable to register cuFFT factory: Attempting to register factory for plugin cuFFT when one has already been registered\n",
      "WARNING: All log messages before absl::InitializeLog() is called are written to STDERR\n",
      "E0000 00:00:1733104042.701322   13951 cuda_dnn.cc:8310] Unable to register cuDNN factory: Attempting to register factory for plugin cuDNN when one has already been registered\n",
      "E0000 00:00:1733104042.917959   13951 cuda_blas.cc:1418] Unable to register cuBLAS factory: Attempting to register factory for plugin cuBLAS when one has already been registered\n",
      "2024-12-02 07:32:25.147645: I tensorflow/core/platform/cpu_feature_guard.cc:210] This TensorFlow binary is optimized to use available CPU instructions in performance-critical operations.\n",
      "To enable the following instructions: AVX2 AVX_VNNI FMA, in other operations, rebuild TensorFlow with the appropriate compiler flags.\n"
     ]
    }
   ],
   "source": [
    "from transformers import BertTokenizer, BertModel"
   ]
  },
  {
   "cell_type": "code",
   "execution_count": 34,
   "id": "bf552651-a579-4f15-aa6b-77ba030c5d08",
   "metadata": {},
   "outputs": [],
   "source": [
    "tokenizer = BertTokenizer.from_pretrained('bert-base-uncased')\n",
    "model = BertModel.from_pretrained('bert-base-uncased')"
   ]
  },
  {
   "cell_type": "code",
   "execution_count": 35,
   "id": "af0258f3-80e7-4829-8f66-4589ef94b6b3",
   "metadata": {},
   "outputs": [],
   "source": [
    "tokens = tokenizer(text= \"The quick brown fox jumps over the lazy dog.\", return_tensors='pt')"
   ]
  },
  {
   "cell_type": "code",
   "execution_count": 37,
   "id": "1732881b-33e1-409e-8120-42fc6ba6980f",
   "metadata": {},
   "outputs": [],
   "source": [
    "embeddings = model(**tokens).last_hidden_state"
   ]
  },
  {
   "cell_type": "code",
   "execution_count": 40,
   "id": "313eee20-7c06-483c-8f48-4c6f96db06be",
   "metadata": {},
   "outputs": [
    {
     "data": {
      "text/plain": [
       "torch.Size([1, 12, 768])"
      ]
     },
     "execution_count": 40,
     "metadata": {},
     "output_type": "execute_result"
    }
   ],
   "source": [
    "embeddings.shape"
   ]
  },
  {
   "cell_type": "code",
   "execution_count": null,
   "id": "a547cdc8-cda5-4938-abcc-de7c72286b6f",
   "metadata": {},
   "outputs": [],
   "source": []
  }
 ],
 "metadata": {
  "kernelspec": {
   "display_name": "Python 3 (ipykernel)",
   "language": "python",
   "name": "python3"
  },
  "language_info": {
   "codemirror_mode": {
    "name": "ipython",
    "version": 3
   },
   "file_extension": ".py",
   "mimetype": "text/x-python",
   "name": "python",
   "nbconvert_exporter": "python",
   "pygments_lexer": "ipython3",
   "version": "3.10.12"
  }
 },
 "nbformat": 4,
 "nbformat_minor": 5
}
