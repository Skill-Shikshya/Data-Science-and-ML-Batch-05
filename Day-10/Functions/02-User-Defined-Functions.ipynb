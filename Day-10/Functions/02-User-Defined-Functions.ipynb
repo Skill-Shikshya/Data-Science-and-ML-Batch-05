{
 "cells": [
  {
   "cell_type": "markdown",
   "id": "9b240592",
   "metadata": {},
   "source": [
    "# Python Functions\n",
    "\n",
    "A function is a block of reusable code that performs a specific task. A function can take one or more arguments as input, perform some operations on the input, and then return a value as output. Here's the general syntax for defining a function in Python:\n"
   ]
  },
  {
   "cell_type": "markdown",
   "id": "4afb9ee6",
   "metadata": {},
   "source": [
    "```python\n",
    "def function_name(parameter1, parameter2, ...):\n",
    "    # Function body\n",
    "    return output_value\n",
    "```\n",
    "\n",
    "In this syntax, `def` is the keyword used to define a function, `function_name` is the name of the function, and `parameter1`, `parameter2`, etc. are the input parameters of the function. The `return` keyword is used to specify the output value of the function.\n"
   ]
  },
  {
   "cell_type": "markdown",
   "id": "735f89d9",
   "metadata": {},
   "source": [
    "Here's an example that demonstrates how to define a function that computes the sum of two numbers:"
   ]
  },
  {
   "cell_type": "code",
   "execution_count": 7,
   "id": "6d90fa93",
   "metadata": {},
   "outputs": [],
   "source": [
    "def add_numbers(num1, num2):\n",
    "    _sum = num1 + num2\n",
    "    return _sum\n",
    "    "
   ]
  },
  {
   "cell_type": "code",
   "execution_count": 11,
   "id": "27bc27d8-4933-46ef-a501-5d0a191be1f9",
   "metadata": {},
   "outputs": [],
   "source": [
    "result = add_numbers(3,5)"
   ]
  },
  {
   "cell_type": "code",
   "execution_count": 12,
   "id": "898d6476-283a-4f72-a4cd-a589143d6017",
   "metadata": {},
   "outputs": [
    {
     "data": {
      "text/plain": [
       "8"
      ]
     },
     "execution_count": 12,
     "metadata": {},
     "output_type": "execute_result"
    }
   ],
   "source": [
    "result"
   ]
  },
  {
   "cell_type": "markdown",
   "id": "a55df46b",
   "metadata": {},
   "source": [
    "In this example, we define a function called `add_numbers` that takes two input parameters `a` and `b`, computes their sum, and returns the result. We then call the function with arguments `3` and `5` and store the result in a variable called `result`. Finally, we print the value of result.\n",
    "\n",
    "Functions in Python can also have optional parameters with default values, which allows the caller to omit certain arguments if they are not needed. Here's an example that demonstrates how to define a function with optional parameters:"
   ]
  },
  {
   "cell_type": "code",
   "execution_count": 13,
   "id": "323b3744",
   "metadata": {},
   "outputs": [],
   "source": [
    "def greet(name, greeting='Hello'):\n",
    "    message = f\"{greeting}, {name}!\"\n",
    "    return message\n"
   ]
  },
  {
   "cell_type": "code",
   "execution_count": 14,
   "id": "b67be92c-f693-4cc7-ae24-564ef624a760",
   "metadata": {},
   "outputs": [
    {
     "name": "stdout",
     "output_type": "stream",
     "text": [
      "Hello, Alice!\n"
     ]
    }
   ],
   "source": [
    "print(greet('Alice'))"
   ]
  },
  {
   "cell_type": "code",
   "execution_count": 15,
   "id": "6426e3e9-ae98-4329-8163-8d7eb72dca87",
   "metadata": {},
   "outputs": [
    {
     "name": "stdout",
     "output_type": "stream",
     "text": [
      "Hi, Bob!\n"
     ]
    }
   ],
   "source": [
    "print(greet('Bob', 'Hi'))"
   ]
  },
  {
   "cell_type": "code",
   "execution_count": null,
   "id": "b094a5ea-7be8-46fa-8da4-e671227f4cd0",
   "metadata": {},
   "outputs": [],
   "source": []
  },
  {
   "cell_type": "markdown",
   "id": "1502b6c8",
   "metadata": {},
   "source": [
    "In this example, we define a function called `greet` that takes an input parameter `name` and an optional parameter `greeting` with a default value of `'Hello'`. The function returns a greeting message that includes the `name` and the `greeting`. We then call the function with only the name argument in the first case, and with both name and greeting arguments in the second case.\n",
    "\n",
    "Functions in Python can also have variable-length argument lists. These are called `*args` and `**kwargs`, and they allow the function to accept any number of arguments and keyword arguments, respectively. Here's an example that demonstrates how to define a function with variable-length argument lists:"
   ]
  },
  {
   "cell_type": "code",
   "execution_count": null,
   "id": "cce3abdb-fb4a-482a-a16f-2a97a3ab4507",
   "metadata": {},
   "outputs": [],
   "source": []
  },
  {
   "cell_type": "code",
   "execution_count": 24,
   "id": "c18ac5a0",
   "metadata": {},
   "outputs": [
    {
     "name": "stdout",
     "output_type": "stream",
     "text": [
      "Positional arguments:\n",
      "1\n",
      "hello\n",
      "ram\n",
      "--------------------\n",
      "Keyword arguments:\n",
      "{'age': 22, 'address': 'lalitpur'}\n",
      "age = 22\n",
      "address = lalitpur\n"
     ]
    }
   ],
   "source": [
    "def my_printer( *args, **kwargs):\n",
    "\n",
    "    print(\"Positional arguments:\")\n",
    "    for arg in args:\n",
    "        print(arg)\n",
    "        \n",
    "    print(\"-\"*20)\n",
    "    \n",
    "    print(\"Keyword arguments:\")\n",
    "    print(kwargs)\n",
    "    for key, value in kwargs.items():\n",
    "        print(key, \"=\", value)\n",
    "        \n",
    "\n",
    "result = my_printer(1, 'hello', \"ram\", age = 22, address = \"lalitpur\")"
   ]
  },
  {
   "cell_type": "code",
   "execution_count": null,
   "id": "22071ac7-5e6d-4bd5-81e3-68662366c670",
   "metadata": {},
   "outputs": [],
   "source": []
  },
  {
   "cell_type": "code",
   "execution_count": 42,
   "id": "0f94b886-db82-46f9-ba3c-c755660c5332",
   "metadata": {},
   "outputs": [],
   "source": [
    "def mean_error(*error):\n",
    "    total = sum(error)\n",
    "    mean = total / len(error)\n",
    "\n",
    "    return mean"
   ]
  },
  {
   "cell_type": "code",
   "execution_count": 44,
   "id": "de809fc5-2c0e-44bd-b978-b49611305ffc",
   "metadata": {},
   "outputs": [
    {
     "name": "stdout",
     "output_type": "stream",
     "text": [
      "4.230769230769231\n"
     ]
    }
   ],
   "source": [
    "print(\n",
    "    mean_error(*[1,4,5,8,3,8,0,3,6,8,3,5,1])\n",
    ")"
   ]
  },
  {
   "cell_type": "code",
   "execution_count": null,
   "id": "4ae1e6f0-1c7c-4f7a-a57e-41efa427d7f0",
   "metadata": {},
   "outputs": [],
   "source": []
  },
  {
   "cell_type": "code",
   "execution_count": 48,
   "id": "8d66e466-8931-49ff-b962-bd681d7bd861",
   "metadata": {},
   "outputs": [],
   "source": [
    "def create_model(name, **kwargs):\n",
    "    model_name = name\n",
    "    model_size = kwargs['size']\n",
    "    model_type = kwargs.get('type','liner')\n",
    "\n",
    "    return {model_name : f\"{model_type}_{model_size}\"}\n",
    "    "
   ]
  },
  {
   "cell_type": "code",
   "execution_count": 50,
   "id": "661e62a9-43a9-40d3-9637-aa9c5f8d487a",
   "metadata": {},
   "outputs": [
    {
     "data": {
      "text/plain": [
       "{'LR': 'deep_4000'}"
      ]
     },
     "execution_count": 50,
     "metadata": {},
     "output_type": "execute_result"
    }
   ],
   "source": [
    "create_model(`\"LR\", size = 4000, type = \"deep\", shape = (22,33,1))"
   ]
  },
  {
   "cell_type": "markdown",
   "id": "ff5535ad",
   "metadata": {},
   "source": [
    "In this example, we define a function called `print_arguments that accepts a variable number of positional arguments (*args) and keyword arguments (**kwargs). The function then prints the positional and keyword arguments to the console.\n",
    "\n",
    "When we call the function with arguments 1, 'hello', name='Alice', and age=30, the function prints the positional arguments 1 and 'hello', and the keyword arguments name='Alice' and age=30'."
   ]
  },
  {
   "cell_type": "markdown",
   "id": "020cb174",
   "metadata": {},
   "source": [
    "### Documentation in Function\n",
    "\n",
    "Python docstrings are the string literals that appear right after the definition of a function, method, class, or module. Let's take an example.\n",
    "\n",
    "Refer: [Programiz Docs](https://www.programiz.com/python-programming/docstrings)"
   ]
  },
  {
   "cell_type": "code",
   "execution_count": 3,
   "id": "aca00333-419b-4a7d-bb30-75586c48accc",
   "metadata": {},
   "outputs": [],
   "source": [
    "def square(n=4):\n",
    "    ''' Find a squre any given number    '''\n",
    "    ram = 345\n",
    "    return n**2"
   ]
  },
  {
   "cell_type": "code",
   "execution_count": 2,
   "id": "39188cda-2820-4286-980f-10f94022cbe5",
   "metadata": {},
   "outputs": [
    {
     "data": {
      "text/plain": [
       "25"
      ]
     },
     "execution_count": 2,
     "metadata": {},
     "output_type": "execute_result"
    }
   ],
   "source": [
    "square(5)"
   ]
  },
  {
   "cell_type": "code",
   "execution_count": 55,
   "id": "a8203cab",
   "metadata": {},
   "outputs": [
    {
     "name": "stdout",
     "output_type": "stream",
     "text": [
      "\n",
      "    Find a squre any given number\n",
      "\n",
      "    Parameters:\n",
      "    -----------\n",
      "    n : int or float, default = 4\n",
      "    User input number for squaring\n",
      "\n",
      "    Return:\n",
      "    -------\n",
      "    return square of a number\n",
      "    \n"
     ]
    }
   ],
   "source": [
    "print(square.__doc__)"
   ]
  },
  {
   "cell_type": "code",
   "execution_count": 56,
   "id": "7d5b2595-c3df-4ac0-aeef-b5bd0a45795b",
   "metadata": {
    "scrolled": true
   },
   "outputs": [
    {
     "name": "stdout",
     "output_type": "stream",
     "text": [
      "print(value, ..., sep=' ', end='\\n', file=sys.stdout, flush=False)\n",
      "\n",
      "Prints the values to a stream, or to sys.stdout by default.\n",
      "Optional keyword arguments:\n",
      "file:  a file-like object (stream); defaults to the current sys.stdout.\n",
      "sep:   string inserted between values, default a space.\n",
      "end:   string appended after the last value, default a newline.\n",
      "flush: whether to forcibly flush the stream.\n"
     ]
    }
   ],
   "source": [
    "print(print.__doc__)"
   ]
  },
  {
   "cell_type": "markdown",
   "id": "b54087f2",
   "metadata": {},
   "source": [
    "---"
   ]
  },
  {
   "cell_type": "markdown",
   "id": "f46f2b79",
   "metadata": {},
   "source": [
    "---"
   ]
  },
  {
   "cell_type": "markdown",
   "id": "fa747dc9",
   "metadata": {},
   "source": [
    "### Question: Default Parameter Values\n",
    "**Write a Program to Define a Function `power`** that takes two arguments, `base` and `exp`. The function should return `base` raised to the power of `exp`.\n",
    "\n",
    " If `exp` is not provided, it should default to 2. Call this function with and without the second argument and print the results."
   ]
  },
  {
   "cell_type": "code",
   "execution_count": null,
   "id": "b630c840-4275-49f3-ac98-4b643816b8bf",
   "metadata": {},
   "outputs": [],
   "source": []
  },
  {
   "cell_type": "code",
   "execution_count": null,
   "id": "8de5045c-ac5c-416e-9367-813951e75b70",
   "metadata": {},
   "outputs": [],
   "source": []
  },
  {
   "cell_type": "code",
   "execution_count": 9,
   "id": "4fc057a5",
   "metadata": {},
   "outputs": [
    {
     "name": "stdout",
     "output_type": "stream",
     "text": [
      "4\n",
      "32\n"
     ]
    }
   ],
   "source": [
    "def power(base: int, exp = 2):\n",
    "    result = base ** exp\n",
    "    return result\n",
    "\n",
    "squared = power(2)\n",
    "print(squared)\n",
    "\n",
    "print(power(2,5))"
   ]
  },
  {
   "cell_type": "markdown",
   "id": "5b433ebc",
   "metadata": {},
   "source": [
    "### Question : Variable-length Arguments (*args and **kwargs)\n",
    "**Write a Program to Define a Function `describe_pet`** that accepts a variable number of keyword arguments (`**kwargs`). \n",
    "\n",
    "The function should print the details of these keyword arguments as \"property: value\". Call this function with pet details like name, age, and type"
   ]
  },
  {
   "cell_type": "code",
   "execution_count": 10,
   "id": "4a3835d5",
   "metadata": {},
   "outputs": [
    {
     "name": "stdout",
     "output_type": "stream",
     "text": [
      "name : jojo\n",
      "type : dog\n",
      "age : 5\n",
      "breed : bulldog\n"
     ]
    }
   ],
   "source": [
    "# Input :  describe_pet(name=\"Rex\", age=5, type=\"dog\")\n",
    "# Output : name: Rex\n",
    "#          age: 5\n",
    "#          type: dog\n",
    "\n",
    "def describe_pet(**kwargs):\n",
    "    name = kwargs['name']\n",
    "    \n",
    "    for key,value in kwargs.items():\n",
    "        print(f'{key} : {value}')\n",
    "      \n",
    "describe_pet(name='jojo',type='dog',age=5,breed='bulldog')\n"
   ]
  },
  {
   "cell_type": "markdown",
   "id": "406d64b9",
   "metadata": {},
   "source": [
    "### Question : Calculate Std. Deviation of given list.\n",
    "\n",
    "Standard Deviation : $\\sqrt{\\frac{\\sum{(X - \\bar{X})}^2}{N}}$"
   ]
  },
  {
   "cell_type": "code",
   "execution_count": 11,
   "id": "a36c6373",
   "metadata": {},
   "outputs": [
    {
     "name": "stdout",
     "output_type": "stream",
     "text": [
      "6.340668863192041\n"
     ]
    }
   ],
   "source": [
    "from math import sqrt\n",
    "\n",
    "def std_deviation( value ):\n",
    "\n",
    "    # Find N\n",
    "    N = len(value)\n",
    "    \n",
    "    # Mean\n",
    "    x_bar = sum(value) / N\n",
    "    \n",
    "    # sq \n",
    "    summation = sum([(x - x_bar)**2 for x in value])\n",
    "    \n",
    "    # std\n",
    "    result = sqrt(summation / N )\n",
    "    \n",
    "    return result \n",
    "\n",
    "print(std_deviation([1,4,6,8,4,9,22]))"
   ]
  },
  {
   "cell_type": "markdown",
   "id": "582aea4e",
   "metadata": {},
   "source": [
    "### Question: Recursive Function\n",
    "**Write a Program to Define a Recursive Function `fibonacci`** that takes a number `n` as an argument and returns the `n`th number in the Fibonacci sequence. \n",
    "\n",
    "Recall that the Fibonacci sequence is defined as `fib(n) = fib(n-1) + fib(n-2)` with base cases `fib(0) = 0` and `fib(1) = 1`. Call this function with `n = 5` and print the result."
   ]
  },
  {
   "cell_type": "code",
   "execution_count": null,
   "id": "749ea88b-8c34-4bc2-bf11-e9a786fa8055",
   "metadata": {},
   "outputs": [],
   "source": []
  },
  {
   "cell_type": "code",
   "execution_count": null,
   "id": "da4ed421-7ff9-4684-b871-b9a7bd743575",
   "metadata": {},
   "outputs": [],
   "source": [
    "0 1 1 2 3 5"
   ]
  },
  {
   "cell_type": "code",
   "execution_count": 3,
   "id": "057bf68f",
   "metadata": {},
   "outputs": [
    {
     "name": "stdout",
     "output_type": "stream",
     "text": [
      "55\n"
     ]
    }
   ],
   "source": [
    "cache = {}\n",
    "def fibonacci(n):\n",
    "    # Base cases\n",
    "    if n == 0:\n",
    "        return 0\n",
    "    elif n == 1:\n",
    "        return 1\n",
    "    else:\n",
    "        # Recursive case\n",
    "        return fibonacci(n-1) + fibonacci(n-2)\n",
    "\n",
    "# Call the function with n = 5\n",
    "result = fibonacci(10)\n",
    "\n",
    "# Print the result\n",
    "print(result)\n"
   ]
  },
  {
   "cell_type": "markdown",
   "id": "7a276366",
   "metadata": {},
   "source": [
    "### Question: File Read and Write\n",
    "**Write a Program that Uses Functions `write_to_file` and `read_from_file`**:\n",
    "- `write_to_file(filename, content)`: Writes `content` to a file named `filename`. If the file doesn't exist, it should be created.\n",
    "- `read_from_file(filename)`: Reads and prints the content of a file named `filename`.\n",
    "Call `write_to_file` to write \"Hello, Python!\" to a file named \"greetings.txt\", then call `read_from_file` to read and print the content of this file."
   ]
  },
  {
   "cell_type": "code",
   "execution_count": null,
   "id": "d9c2e049",
   "metadata": {},
   "outputs": [],
   "source": []
  }
 ],
 "metadata": {
  "kernelspec": {
   "display_name": "Python 3 (ipykernel)",
   "language": "python",
   "name": "python3"
  },
  "language_info": {
   "codemirror_mode": {
    "name": "ipython",
    "version": 3
   },
   "file_extension": ".py",
   "mimetype": "text/x-python",
   "name": "python",
   "nbconvert_exporter": "python",
   "pygments_lexer": "ipython3",
   "version": "3.10.12"
  }
 },
 "nbformat": 4,
 "nbformat_minor": 5
}
