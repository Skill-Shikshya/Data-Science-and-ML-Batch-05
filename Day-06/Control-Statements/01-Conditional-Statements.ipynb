{
 "cells": [
  {
   "cell_type": "markdown",
   "id": "4cbe66f0",
   "metadata": {},
   "source": [
    "# Python Conditional statements\n",
    "\n",
    "The `if` statement is used in Python to check whether a condition is `True` or `False`, and then perform an action based on that condition. The basic syntax of the `if` statement is as follows:"
   ]
  },
  {
   "cell_type": "markdown",
   "id": "9a1d0c47",
   "metadata": {},
   "source": [
    "```python\n",
    "if condition:\n",
    "    do something\n",
    "```"
   ]
  },
  {
   "cell_type": "markdown",
   "id": "63818fd5",
   "metadata": {},
   "source": [
    "The `condition` is an expression that returns a boolean value (`True` or `False`). If the condition is `True`, then the code block that follows the `if` statement is executed. If the condition is `False`, then the code block is skipped.\n",
    "\n",
    "Here is an example of how to use the `if` statement in Python:"
   ]
  },
  {
   "cell_type": "code",
   "execution_count": 2,
   "id": "b44ead2b",
   "metadata": {},
   "outputs": [
    {
     "name": "stdout",
     "output_type": "stream",
     "text": [
      "x is positive\n",
      "Given Number is 10\n"
     ]
    }
   ],
   "source": [
    "x = 10\n",
    "\n",
    "if x > 0:\n",
    "    print(\"x is positive\")\n",
    "\n",
    "print(f\"Given Number is {x}\")"
   ]
  },
  {
   "cell_type": "code",
   "execution_count": 3,
   "id": "f879b364-7ec3-4e2d-a413-bfd592ee68a6",
   "metadata": {},
   "outputs": [
    {
     "name": "stdout",
     "output_type": "stream",
     "text": [
      "10\n",
      "out of block\n"
     ]
    }
   ],
   "source": [
    "if x != 0:\n",
    "    print(x)\n",
    "\n",
    "print(\"out of block\")\n"
   ]
  },
  {
   "cell_type": "markdown",
   "id": "650ac6b5",
   "metadata": {},
   "source": []
  },
  {
   "cell_type": "markdown",
   "id": "b1ea1470",
   "metadata": {},
   "source": [
    "In this example, the `if` statement checks whether `x` is greater than `0`. If the condition is `True`, then the code block that follows the `if` statement (which is just a print statement) is executed.\n",
    "\n",
    "Multiple conditions can be checked in an `if` statement by using logical operators like `and` and `or`. Here is an example:"
   ]
  },
  {
   "cell_type": "code",
   "execution_count": 7,
   "id": "0cb3492a",
   "metadata": {},
   "outputs": [],
   "source": [
    "x = 10\n",
    "y = -5\n",
    "\n",
    "if x > 0 and y > 0:\n",
    "    print(\"Both x and y are positive\")\n"
   ]
  },
  {
   "cell_type": "markdown",
   "id": "3159fde0",
   "metadata": {},
   "source": [
    "In this example, the `if` statement checks whether both `x` and `y` are greater than `0`. If the condition is `True`, then the code block that follows the `if` statement is executed.\n",
    "\n",
    "The `if` statement can also be followed by an `else` clause, which is executed if the condition is `False`. Here is an example:"
   ]
  },
  {
   "cell_type": "code",
   "execution_count": 8,
   "id": "ea39056d",
   "metadata": {},
   "outputs": [
    {
     "name": "stdout",
     "output_type": "stream",
     "text": [
      "number is neg\n"
     ]
    }
   ],
   "source": [
    "x = -10\n",
    "\n",
    "if x > 0:\n",
    "    print(\"number is pos\")\n",
    "    \n",
    "else:\n",
    "    print(\"number is neg\")\n",
    "    "
   ]
  },
  {
   "cell_type": "code",
   "execution_count": null,
   "id": "2995b13b-94cc-4890-b79e-e63bc38ff20d",
   "metadata": {},
   "outputs": [],
   "source": []
  },
  {
   "cell_type": "code",
   "execution_count": 10,
   "id": "c231d496-e31c-4d0d-9a42-e0f54d91ce58",
   "metadata": {},
   "outputs": [
    {
     "name": "stdout",
     "output_type": "stream",
     "text": [
      "Even\n"
     ]
    }
   ],
   "source": [
    "number = 12\n",
    "\n",
    "if number % 2 == 0:\n",
    "    print(\"Even\")\n",
    "    \n",
    "else:\n",
    "    print(\"odd\")"
   ]
  },
  {
   "cell_type": "code",
   "execution_count": null,
   "id": "2cc5a7a0-1a90-4cbc-90d3-6f1137195d10",
   "metadata": {},
   "outputs": [],
   "source": []
  },
  {
   "cell_type": "markdown",
   "id": "f2bfefb4",
   "metadata": {},
   "source": [
    "In this example, the `if` statement checks whether `x` is greater than `0`. If the condition is `True`, then the first print statement is executed. If the condition is `False`, then the code block that follows the `else` statement (which is the second print statement) is executed.\n",
    "\n",
    "In addition to the `else` clause, the `if` statement can also be followed by an `elif` (short for \"else if\") clause, which allows for multiple conditions to be checked. Here is an example:"
   ]
  },
  {
   "cell_type": "code",
   "execution_count": 11,
   "id": "c0c66927",
   "metadata": {},
   "outputs": [
    {
     "name": "stdout",
     "output_type": "stream",
     "text": [
      "x is positive\n"
     ]
    }
   ],
   "source": [
    "x = 10\n",
    "\n",
    "if x < 0:\n",
    "    print(\"x is negative\")\n",
    "    \n",
    "elif x == 0:\n",
    "    print(\"x is zero\")\n",
    "    \n",
    "else:\n",
    "    print(\"x is positive\")"
   ]
  },
  {
   "cell_type": "markdown",
   "id": "7f8d530e",
   "metadata": {},
   "source": [
    "We used a single `elif` statement here but it can be followed by multiple other `elif` statements with different possible conditions as:\n"
   ]
  },
  {
   "cell_type": "markdown",
   "id": "903a8a3b",
   "metadata": {},
   "source": [
    "```python\n",
    "if condition 1:\n",
    "    do something\n",
    "elif condition 2:\n",
    "    do something\n",
    "...\n",
    "...\n",
    "elif condition n:\n",
    "    do something\n",
    "else:\n",
    "    do something\n",
    "```"
   ]
  },
  {
   "cell_type": "markdown",
   "id": "8db35b48",
   "metadata": {},
   "source": [
    "## Question 2: WAP to grade a number (100-80) Grade A, (80-60) Grade B , (60-40) Grade C and less than 40 Grade D."
   ]
  },
  {
   "cell_type": "code",
   "execution_count": 20,
   "id": "87d41449-521d-466f-b525-baba3ca81b4b",
   "metadata": {},
   "outputs": [
    {
     "name": "stdout",
     "output_type": "stream",
     "text": [
      "A\n"
     ]
    }
   ],
   "source": [
    "marks = 163\n",
    "if marks >= 80:\n",
    "    print(\"A\")\n",
    "elif marks >= 60 and marks < 80:\n",
    "    print(\"B\")\n",
    "elif marks >= 40 and marks < 60:\n",
    "    print(\"C\")\n",
    "else:\n",
    "    print(\"D\")\n"
   ]
  },
  {
   "cell_type": "code",
   "execution_count": null,
   "id": "0ef2c302-d29e-4d1a-bb1d-585f4780a1b6",
   "metadata": {},
   "outputs": [],
   "source": []
  },
  {
   "cell_type": "code",
   "execution_count": null,
   "id": "3f6ddd21-a30e-4aae-bd91-1fc5a95f215d",
   "metadata": {},
   "outputs": [],
   "source": []
  },
  {
   "cell_type": "markdown",
   "id": "11f03a35",
   "metadata": {},
   "source": [
    "## Question 1: WAP to check if number is positive , negative or zero."
   ]
  },
  {
   "cell_type": "code",
   "execution_count": 27,
   "id": "025a2331-ee40-4161-9e3d-9cd21588ebf1",
   "metadata": {},
   "outputs": [
    {
     "name": "stdout",
     "output_type": "stream",
     "text": [
      "Given number-200 is negative\n"
     ]
    }
   ],
   "source": [
    "x =-200\n",
    "\n",
    "if x > 0:\n",
    "    print(f\"Given number {x} is positive\")\n",
    "    if x >= 100:\n",
    "        print(\"Higher positive number\")\n",
    "    else:\n",
    "        print(\"Lower positive number\")\n",
    "        \n",
    "elif x < 0:\n",
    "    print(f\"Given number{x} is negative\")\n",
    "else:\n",
    "    print(f\"Given number {x} is zero\")"
   ]
  },
  {
   "cell_type": "code",
   "execution_count": null,
   "id": "a82f3621-8190-46ab-b361-efa2a355acbc",
   "metadata": {},
   "outputs": [],
   "source": []
  },
  {
   "cell_type": "code",
   "execution_count": null,
   "id": "4e283665-8cf2-4e53-ab24-e99a70b5f90b",
   "metadata": {},
   "outputs": [],
   "source": []
  },
  {
   "cell_type": "code",
   "execution_count": 30,
   "id": "867e898a-12f8-4e11-9bc0-27b56a8095ed",
   "metadata": {},
   "outputs": [
    {
     "name": "stdout",
     "output_type": "stream",
     "text": [
      "list is full\n",
      "[1, 'g']\n"
     ]
    }
   ],
   "source": [
    "lst = [1,\"g\"]\n",
    "\n",
    "if bool(lst):\n",
    "    print(\"list is full\")\n",
    "    print(lst)\n",
    "    \n",
    "else:\n",
    "    lst.append(1)\n",
    "    print(lst)"
   ]
  }
 ],
 "metadata": {
  "kernelspec": {
   "display_name": "Python 3 (ipykernel)",
   "language": "python",
   "name": "python3"
  },
  "language_info": {
   "codemirror_mode": {
    "name": "ipython",
    "version": 3
   },
   "file_extension": ".py",
   "mimetype": "text/x-python",
   "name": "python",
   "nbconvert_exporter": "python",
   "pygments_lexer": "ipython3",
   "version": "3.11.9"
  }
 },
 "nbformat": 4,
 "nbformat_minor": 5
}
