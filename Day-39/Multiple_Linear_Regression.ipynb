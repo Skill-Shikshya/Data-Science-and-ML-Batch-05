{
 "cells": [
  {
   "cell_type": "markdown",
   "metadata": {
    "id": "CDt1753kIKtn",
    "pycharm": {
     "name": "#%% md\n"
    }
   },
   "source": [
    "## Implementation on Real World Dataset\n",
    "\n",
    "For implementation, we will use same Advertising dataset.\n",
    "\n",
    "A popular introductory statistics book, [An Introduction to Statistical Learning](https://www.statlearning.com/resources-second-edition), provides this dataset on their website. This dataset can be downloaded from the following address:\n",
    "  * https://www.statlearning.com/s/Advertising.csv\n",
    "\n",
    "This dataset has got three inputs as advertising mediums, i.e. _TV_, _radio_ and _newspaper_. Similarly the output variable is _sales_. This is a sales prediction problem with investment in any of the advertising mediums. \n",
    "\n",
    "\n"
   ]
  },
  {
   "cell_type": "markdown",
   "metadata": {
    "id": "MuubnjzfJTJF",
    "pycharm": {
     "name": "#%% md\n"
    }
   },
   "source": [
    "## Imports"
   ]
  },
  {
   "cell_type": "code",
   "execution_count": 1,
   "metadata": {
    "id": "UgpitlvHI0kc",
    "pycharm": {
     "name": "#%%\n"
    }
   },
   "outputs": [],
   "source": [
    "import numpy as np\n",
    "import pandas as pd\n",
    "\n",
    "import matplotlib as mpl\n",
    "from matplotlib import pyplot as plt\n"
   ]
  },
  {
   "cell_type": "code",
   "execution_count": 2,
   "metadata": {
    "colab": {
     "base_uri": "https://localhost:8080/",
     "height": 197
    },
    "id": "TJAn-h7EJtCc",
    "outputId": "0ceb3a29-9008-4068-f9b6-7afdff0a77fc",
    "pycharm": {
     "name": "#%%\n"
    }
   },
   "outputs": [
    {
     "data": {
      "text/html": [
       "<div>\n",
       "<style scoped>\n",
       "    .dataframe tbody tr th:only-of-type {\n",
       "        vertical-align: middle;\n",
       "    }\n",
       "\n",
       "    .dataframe tbody tr th {\n",
       "        vertical-align: top;\n",
       "    }\n",
       "\n",
       "    .dataframe thead th {\n",
       "        text-align: right;\n",
       "    }\n",
       "</style>\n",
       "<table border=\"1\" class=\"dataframe\">\n",
       "  <thead>\n",
       "    <tr style=\"text-align: right;\">\n",
       "      <th></th>\n",
       "      <th>TV</th>\n",
       "      <th>radio</th>\n",
       "      <th>newspaper</th>\n",
       "      <th>sales</th>\n",
       "    </tr>\n",
       "  </thead>\n",
       "  <tbody>\n",
       "    <tr>\n",
       "      <th>1</th>\n",
       "      <td>230.1</td>\n",
       "      <td>37.8</td>\n",
       "      <td>69.2</td>\n",
       "      <td>22.1</td>\n",
       "    </tr>\n",
       "    <tr>\n",
       "      <th>2</th>\n",
       "      <td>44.5</td>\n",
       "      <td>39.3</td>\n",
       "      <td>45.1</td>\n",
       "      <td>10.4</td>\n",
       "    </tr>\n",
       "    <tr>\n",
       "      <th>3</th>\n",
       "      <td>17.2</td>\n",
       "      <td>45.9</td>\n",
       "      <td>69.3</td>\n",
       "      <td>9.3</td>\n",
       "    </tr>\n",
       "    <tr>\n",
       "      <th>4</th>\n",
       "      <td>151.5</td>\n",
       "      <td>41.3</td>\n",
       "      <td>58.5</td>\n",
       "      <td>18.5</td>\n",
       "    </tr>\n",
       "    <tr>\n",
       "      <th>5</th>\n",
       "      <td>180.8</td>\n",
       "      <td>10.8</td>\n",
       "      <td>58.4</td>\n",
       "      <td>12.9</td>\n",
       "    </tr>\n",
       "  </tbody>\n",
       "</table>\n",
       "</div>"
      ],
      "text/plain": [
       "      TV  radio  newspaper  sales\n",
       "1  230.1   37.8       69.2   22.1\n",
       "2   44.5   39.3       45.1   10.4\n",
       "3   17.2   45.9       69.3    9.3\n",
       "4  151.5   41.3       58.5   18.5\n",
       "5  180.8   10.8       58.4   12.9"
      ]
     },
     "execution_count": 2,
     "metadata": {},
     "output_type": "execute_result"
    }
   ],
   "source": [
    "data_path = \"https://www.statlearning.com/s/Advertising.csv\" \n",
    "\n",
    "# Read the CSV data from the link\n",
    "data_df = pd.read_csv(data_path,index_col=0)\n",
    "\n",
    "# Print out first 5 samples from the DataFrame\n",
    "data_df.head()"
   ]
  },
  {
   "cell_type": "markdown",
   "metadata": {
    "id": "VucR9RU9xMrY",
    "pycharm": {
     "name": "#%% md\n"
    }
   },
   "source": [
    "The first plot shows a sharp upward trend in the number of units sold as TV advertising increases. A similar trend is also found as radio advertising increases. However, in the last plot, there does not appear to be a relationship between newspaper advertising and the number of units sold."
   ]
  },
  {
   "cell_type": "markdown",
   "metadata": {
    "id": "3nf2Q3YLBspA",
    "pycharm": {
     "name": "#%% md\n"
    }
   },
   "source": [
    "## Multiple Linear regression using Ordinary Least Squares"
   ]
  },
  {
   "cell_type": "code",
   "execution_count": 3,
   "metadata": {},
   "outputs": [],
   "source": [
    "X = data_df[[\"TV\", \"radio\"]]\n",
    "Y = data_df[[\"sales\"]]"
   ]
  },
  {
   "cell_type": "code",
   "execution_count": 6,
   "metadata": {},
   "outputs": [],
   "source": [
    "X = np.c_[ np.ones((len(X), 1)), X ]"
   ]
  },
  {
   "cell_type": "code",
   "execution_count": 8,
   "metadata": {},
   "outputs": [],
   "source": [
    "X_t = X.T"
   ]
  },
  {
   "attachments": {
    "fba72c53-89d0-4d56-86f6-fec409c73a25.png": {
     "image/png": "[encoded data removed]"
    }
   },
   "cell_type": "markdown",
   "metadata": {},
   "source": [
    "![image.png](attachment:fba72c53-89d0-4d56-86f6-fec409c73a25.png)"
   ]
  },
  {
   "cell_type": "code",
   "execution_count": 10,
   "metadata": {},
   "outputs": [],
   "source": [
    "betas =  np.linalg.inv(X_t.dot(X)).dot(X_t).dot(Y)"
   ]
  },
  {
   "cell_type": "code",
   "execution_count": 11,
   "metadata": {},
   "outputs": [
    {
     "data": {
      "text/plain": [
       "array([[2.92109991],\n",
       "       [0.04575482],\n",
       "       [0.18799423]])"
      ]
     },
     "execution_count": 11,
     "metadata": {},
     "output_type": "execute_result"
    }
   ],
   "source": [
    "betas"
   ]
  },
  {
   "cell_type": "code",
   "execution_count": 12,
   "metadata": {},
   "outputs": [
    {
     "name": "stdout",
     "output_type": "stream",
     "text": [
      "y = [2.92109991] + [0.04575482]x_1 + [0.18799423]x_2\n"
     ]
    }
   ],
   "source": [
    "print(f\"y = {betas[0]} + {betas[1]}x_1 + {betas[2]}x_2\")"
   ]
  },
  {
   "cell_type": "code",
   "execution_count": null,
   "metadata": {},
   "outputs": [],
   "source": []
  },
  {
   "cell_type": "markdown",
   "metadata": {},
   "source": [
    "## Potential Issues with Ordinary Least Squares"
   ]
  },
  {
   "cell_type": "markdown",
   "metadata": {},
   "source": [
    "While calculating 𝛽 , we assume that (𝐗𝑇.𝐗)−1 exists. When doesn't it exist?\n",
    "\n",
    "The inverse doesn't exist when the matrix, 𝐗𝑇.𝐗, is not a full rank matrix. The matrix 𝐗 with dimension\n",
    "𝑛 × (𝑑 + 1) should have at least (𝑑 + 1) linearly independent rows to make 𝐗𝑇 𝐗 a full rank matrix. \n",
    "\n",
    "If there is perfect colinearity between any two independent input variables, then the matrix doesn't become\n",
    "full rank and the issues arise. There should be correlation between dependent(output) and\n",
    "independent(input) variable but the independent variables should be independent of each other."
   ]
  },
  {
   "cell_type": "code",
   "execution_count": null,
   "metadata": {},
   "outputs": [],
   "source": []
  }
 ],
 "metadata": {
  "colab": {
   "collapsed_sections": [],
   "name": "Read 1 : 1.1 OLS_Simple Linear Regression.ipynb",
   "provenance": []
  },
  "kernelspec": {
   "display_name": "Python 3 (ipykernel)",
   "language": "python",
   "name": "python3"
  },
  "language_info": {
   "codemirror_mode": {
    "name": "ipython",
    "version": 3
   },
   "file_extension": ".py",
   "mimetype": "text/x-python",
   "name": "python",
   "nbconvert_exporter": "python",
   "pygments_lexer": "ipython3",
   "version": "3.10.12"
  }
 },
 "nbformat": 4,
 "nbformat_minor": 4
}
