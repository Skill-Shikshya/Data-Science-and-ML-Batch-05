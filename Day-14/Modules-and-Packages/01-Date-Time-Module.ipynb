{
 "cells": [
  {
   "cell_type": "markdown",
   "id": "730964fc",
   "metadata": {},
   "source": [
    "# Modules and Packages\n",
    "\n",
    "A module is a file containing Python definitions and statements, which can be used in other Python scripts. In Python Modules can be imported using the `import` statement followed by the module name. Once the module is imported, you can access its functions and variables using `dot` notation.\n",
    "\n",
    "A package is simply a way of organizing modules into directories and sub-directories, making it easier to manage large-scale Python projects.\n"
   ]
  },
  {
   "cell_type": "markdown",
   "id": "88c4dacc",
   "metadata": {},
   "source": [
    "# Python Date and Time Modules\n",
    "\n",
    "Python has several built-in modules for working with date and time. Some of the most commonly used modules are:\n",
    "\n",
    "- **datetime:** The datetime module provides classes for working with dates and times, including formatting and arithmetic operations.\n",
    "- **time:** The time module provides functions for working with time, including formatting and arithmetic operations.\n",
    "- **calendar:** The calendar module provides functions for working with calendars, including generating month and year calendars.\n"
   ]
  },
  {
   "cell_type": "markdown",
   "id": "00a0e6ff",
   "metadata": {},
   "source": [
    "## 1. datetime\n",
    "\n",
    "The `datetime` module in Python is used to work with dates, times, and time intervals. It provides several classes for working with date and time, including `date`, `time`, `datetime`, `timedelta`, and `tzinfo`.\n",
    "\n",
    "- `datetime.date:` This class represents a date (year, month, and day) in the Gregorian calendar. Dates can be created using the constructor `date(year, month, day)`.\n",
    "- `datetime.time:` This class represents a time (hour, minute, second, and microsecond). Times can be created using the constructor `time(hour=0, minute=0, second=0, microsecond=0)`.\n",
    "- `datetime.datetime:` This class represents a date and time. Datetimes can be created using the constructor `datetime(year, month, day, hour=0, minute=0, second=0, microsecond=0)`.\n",
    "- `datetime.timedelta:` This class represents a duration or the difference between two dates or times. Timedeltas can be created using the constructor `timedelta(days=0, seconds=0, microseconds=0, milliseconds=0, minutes=0, hours=0, weeks=0)`.\n",
    "- `datetime.tzinfo:` This is an abstract base class that can be used to define time zones."
   ]
  },
  {
   "cell_type": "code",
   "execution_count": 13,
   "id": "4ba32f23",
   "metadata": {},
   "outputs": [
    {
     "name": "stdout",
     "output_type": "stream",
     "text": [
      "2024-03-07\n"
     ]
    }
   ],
   "source": [
    "import datetime\n",
    "\n",
    "# Create a date object\n",
    "date1 = datetime.date(2024, 3, 7)\n",
    "date2 = datetime.date(2024, 3, 9)\n",
    "print(date1)"
   ]
  },
  {
   "cell_type": "code",
   "execution_count": 14,
   "id": "00029aae-5993-429f-bef0-1618d6cbc5a1",
   "metadata": {},
   "outputs": [
    {
     "data": {
      "text/plain": [
       "3"
      ]
     },
     "execution_count": 14,
     "metadata": {},
     "output_type": "execute_result"
    }
   ],
   "source": [
    "date1.weekday()"
   ]
  },
  {
   "cell_type": "code",
   "execution_count": 16,
   "id": "f6dfdd71-e7f7-4276-9e8d-92f694f13ec8",
   "metadata": {},
   "outputs": [
    {
     "data": {
      "text/plain": [
       "True"
      ]
     },
     "execution_count": 16,
     "metadata": {},
     "output_type": "execute_result"
    }
   ],
   "source": [
    "date1 < date2"
   ]
  },
  {
   "cell_type": "code",
   "execution_count": 5,
   "id": "9cbf2020-006c-4cd9-946e-8cf8c78ef987",
   "metadata": {},
   "outputs": [
    {
     "data": {
      "text/plain": [
       "['__add__',\n",
       " '__class__',\n",
       " '__delattr__',\n",
       " '__dir__',\n",
       " '__doc__',\n",
       " '__eq__',\n",
       " '__format__',\n",
       " '__ge__',\n",
       " '__getattribute__',\n",
       " '__gt__',\n",
       " '__hash__',\n",
       " '__init__',\n",
       " '__init_subclass__',\n",
       " '__le__',\n",
       " '__lt__',\n",
       " '__ne__',\n",
       " '__new__',\n",
       " '__radd__',\n",
       " '__reduce__',\n",
       " '__reduce_ex__',\n",
       " '__repr__',\n",
       " '__rsub__',\n",
       " '__setattr__',\n",
       " '__sizeof__',\n",
       " '__str__',\n",
       " '__sub__',\n",
       " '__subclasshook__',\n",
       " 'ctime',\n",
       " 'day',\n",
       " 'fromisocalendar',\n",
       " 'fromisoformat',\n",
       " 'fromordinal',\n",
       " 'fromtimestamp',\n",
       " 'isocalendar',\n",
       " 'isoformat',\n",
       " 'isoweekday',\n",
       " 'max',\n",
       " 'min',\n",
       " 'month',\n",
       " 'replace',\n",
       " 'resolution',\n",
       " 'strftime',\n",
       " 'timetuple',\n",
       " 'today',\n",
       " 'toordinal',\n",
       " 'weekday',\n",
       " 'year']"
      ]
     },
     "execution_count": 5,
     "metadata": {},
     "output_type": "execute_result"
    }
   ],
   "source": [
    "dir(date1)"
   ]
  },
  {
   "cell_type": "code",
   "execution_count": null,
   "id": "8b256961-cd10-4806-a5c5-27ce37a65192",
   "metadata": {},
   "outputs": [],
   "source": []
  },
  {
   "cell_type": "code",
   "execution_count": 17,
   "id": "9efae103",
   "metadata": {},
   "outputs": [
    {
     "name": "stdout",
     "output_type": "stream",
     "text": [
      "12:30:45\n"
     ]
    }
   ],
   "source": [
    "time = datetime.time(12, 30, 45)\n",
    "print(time)"
   ]
  },
  {
   "cell_type": "code",
   "execution_count": 34,
   "id": "c266bebf-baba-4cc3-b13e-7c305cd4b261",
   "metadata": {},
   "outputs": [
    {
     "data": {
      "text/plain": [
       "'1900-30-01 12:30:45'"
      ]
     },
     "execution_count": 34,
     "metadata": {},
     "output_type": "execute_result"
    }
   ],
   "source": [
    "time.strftime(\"%Y-%M-%d %H:%M:%S\")"
   ]
  },
  {
   "cell_type": "code",
   "execution_count": 18,
   "id": "6a580ff7",
   "metadata": {},
   "outputs": [
    {
     "name": "stdout",
     "output_type": "stream",
     "text": [
      "2022-02-18 12:30:45\n"
     ]
    }
   ],
   "source": [
    "dt = datetime.datetime(2022, 2, 18, 12, 30, 45)\n",
    "print(dt)"
   ]
  },
  {
   "cell_type": "code",
   "execution_count": null,
   "id": "5803254a-7cfb-4899-abd4-1638b1798da5",
   "metadata": {},
   "outputs": [],
   "source": []
  },
  {
   "cell_type": "code",
   "execution_count": 21,
   "id": "38039758",
   "metadata": {},
   "outputs": [
    {
     "name": "stdout",
     "output_type": "stream",
     "text": [
      "7 days, 3:15:00\n"
     ]
    }
   ],
   "source": [
    "td = datetime.timedelta(days=7, hours=3, minutes=15)\n",
    "print(td)"
   ]
  },
  {
   "cell_type": "code",
   "execution_count": 23,
   "id": "1c2b9de0-1bee-434c-ac8a-d301108ea1dd",
   "metadata": {},
   "outputs": [],
   "source": [
    "date1 = datetime.datetime(2024, 9, 16)"
   ]
  },
  {
   "cell_type": "code",
   "execution_count": 24,
   "id": "36f1ae96",
   "metadata": {},
   "outputs": [
    {
     "name": "stdout",
     "output_type": "stream",
     "text": [
      "2024-09-23 03:15:00\n"
     ]
    }
   ],
   "source": [
    "# Add a timedelta to a datetime\n",
    "new_dt = date1 + td\n",
    "print(new_dt)"
   ]
  },
  {
   "cell_type": "code",
   "execution_count": null,
   "id": "002963fd-9a2b-4016-bf32-ad2301928295",
   "metadata": {},
   "outputs": [],
   "source": []
  },
  {
   "cell_type": "markdown",
   "id": "fcceae52",
   "metadata": {},
   "source": [
    "Each class of `datetime` module is associated with a number of methods. Here are some of the important methods of respective classes in the Python `datetime` module:\n",
    "\n",
    "- **class datetime.date:**\n",
    "    - `today()`: Returns the current date.\n",
    "    - `fromisoformat(date_string)`: Returns a date object corresponding to a date string in the format 'YYYY-MM-DD'.\n",
    "    - `weekday()`: Returns the day of the week as an integer, where Monday is 0 and Sunday is 6.\n",
    "    - `strftime(format)`: Returns a string representing the date according to the format string specified.\n",
    "\n",
    "- **class datetime.time:**\n",
    "    - `hour`: Returns the hour of the time as an integer, in the range 0 to 23.\n",
    "    - `minute`: Returns the minute of the time as an integer, in the range 0 to 59.\n",
    "    - `second`: Returns the second of the time as an integer, in the range 0 to 59.\n",
    "    - `strftime(format)`: Returns a string representing the time according to the format string specified.\n",
    "\n",
    "- **class datetime.datetime:**\n",
    "    - `now([tz])`: Returns the current date and time as a datetime object.\n",
    "    - `fromtimestamp(timestamp[, tz])`: Returns a datetime object corresponding to a POSIX timestamp.\n",
    "    - `ctime()`: Returns a string representing the datetime object in the format 'Day Month Date Time Year'.\n",
    "    - `strftime(format)`: Returns a string representing the datetime object according to the format string specified.\n",
    "\n",
    "- **class datetime.timedelta:**\n",
    "    - `days`: Returns the number of days in the timedelta object.\n",
    "    - `seconds`: Returns the number of seconds in the timedelta object.\n",
    "    - `total_seconds()`: Returns the total number of seconds in the timedelta object.\n",
    "    - `__add__(other)`: Adds two timedelta objects together.\n",
    "    \n",
    "- **class datetime.tzinfo:**\n",
    "    - `utcoffset(self, dt)`: returns the UTC offset for a given datetime object.\n",
    "    - `dst(self, dt)`: returns the daylight saving time (DST) adjustment, if any, for a given datetime object.\n",
    "    - `tzname(self, dt)`: returns the name of the time zone.\n",
    "    - `fromutc(self, dt)`: converts a UTC time to the local time for the time zone.\n",
    "    - `localize(self, dt, is_dst=None)`: attaches the time zone information to a naive datetime object.\n",
    "    - `normalize(self, dt)`: adjusts the date and time for the time zone."
   ]
  },
  {
   "cell_type": "code",
   "execution_count": 51,
   "id": "3a672617-a280-4e62-a0d5-891e5d68afad",
   "metadata": {},
   "outputs": [],
   "source": [
    "nst = datetime.timezone(datetime.timedelta(hours=5, minutes=45))"
   ]
  },
  {
   "cell_type": "code",
   "execution_count": 37,
   "id": "e7783ce7",
   "metadata": {},
   "outputs": [
    {
     "name": "stdout",
     "output_type": "stream",
     "text": [
      "Year: 2024\n",
      "Month: 9\n",
      "Day: 16\n"
     ]
    }
   ],
   "source": [
    "import datetime\n",
    "\n",
    "# Create a date object for today\n",
    "today = datetime.date.today()\n",
    "\n",
    "# Print the year, month, and day attributes of the date object\n",
    "print(\"Year:\", today.year)\n",
    "print(\"Month:\", today.month)\n",
    "print(\"Day:\", today.day)\n"
   ]
  },
  {
   "cell_type": "code",
   "execution_count": 46,
   "id": "9edebd4b-f666-44d7-a55b-bef673b185e9",
   "metadata": {},
   "outputs": [
    {
     "name": "stdout",
     "output_type": "stream",
     "text": [
      "Hour: 8\n",
      "Minute: 34\n",
      "Second: 39\n"
     ]
    }
   ],
   "source": [
    "# Create a time object for the current time\n",
    "now = datetime.datetime.now().time()\n",
    "\n",
    "# Print the hour, minute, and second attributes of the time object\n",
    "print(\"Hour:\", now.hour)\n",
    "print(\"Minute:\", now.minute)\n",
    "print(\"Second:\", now.second)"
   ]
  },
  {
   "cell_type": "code",
   "execution_count": 52,
   "id": "45596c73-feae-4594-b1fd-77159fc66fe1",
   "metadata": {},
   "outputs": [
    {
     "name": "stdout",
     "output_type": "stream",
     "text": [
      "Year: 2024\n",
      "Month: 9\n",
      "Day: 16\n",
      "Hour: 8\n",
      "Minute: 36\n",
      "Second: 0\n"
     ]
    }
   ],
   "source": [
    "# Create a datetime object for the current date and time\n",
    "now_datetime = datetime.datetime.now(tz = nst)\n",
    "\n",
    "# Print the year, month, day, hour, minute, and second attributes of the datetime object\n",
    "print(\"Year:\", now_datetime.year)\n",
    "print(\"Month:\", now_datetime.month)\n",
    "print(\"Day:\", now_datetime.day)\n",
    "print(\"Hour:\", now_datetime.hour)\n",
    "print(\"Minute:\", now_datetime.minute)\n",
    "print(\"Second:\", now_datetime.second)\n"
   ]
  },
  {
   "cell_type": "code",
   "execution_count": 40,
   "id": "2481a15e-7756-4195-b52f-ba3cf62e470f",
   "metadata": {},
   "outputs": [
    {
     "name": "stdout",
     "output_type": "stream",
     "text": [
      "Formatted date and time: 2023-02-18 12:30:45\n"
     ]
    }
   ],
   "source": [
    "# Create a datetime object for a specific date and time\n",
    "specific_datetime = datetime.datetime(2023, 2, 18, 12, 30, 45)\n",
    "\n",
    "# Print the formatted date and time string using the strftime() method\n",
    "print(\"Formatted date and time:\", specific_datetime.strftime(\"%Y-%m-%d %H:%M:%S\"))"
   ]
  },
  {
   "cell_type": "code",
   "execution_count": null,
   "id": "e91bc472-ed43-4ee3-8d1e-6e0d08185869",
   "metadata": {},
   "outputs": [],
   "source": []
  },
  {
   "cell_type": "code",
   "execution_count": null,
   "id": "b85e41ac-1601-4d78-ba3f-c5672bd3984b",
   "metadata": {},
   "outputs": [],
   "source": []
  },
  {
   "cell_type": "markdown",
   "id": "2d2d52d2",
   "metadata": {},
   "source": [
    "## 2. time\n",
    "\n",
    "The `time` module in Python provides various time-related functions. It includes both functions to get the current time and functions to sleep for a specified amount of time. Some of the commonly used functions of the `time` module are:\n",
    "\n",
    "- `time()`: returns the current time in seconds since the Epoch (January 1, 1970, 00:00:00 UTC).\n",
    "- `sleep()`: suspends the execution of the current thread for a given number of seconds.\n",
    "- `ctime()`: returns a string representing the current time and date.\n",
    "- `gmtime()`: returns the current time in Coordinated Universal Time (UTC).\n",
    "- `localtime()`: returns the current time in local time.\n",
    "- `asctime()`: returns a string representing the current time and date in a particular format."
   ]
  },
  {
   "cell_type": "code",
   "execution_count": 53,
   "id": "af656cbf",
   "metadata": {},
   "outputs": [
    {
     "name": "stdout",
     "output_type": "stream",
     "text": [
      "1726455304.3156219\n"
     ]
    }
   ],
   "source": [
    "import time\n",
    "\n",
    "# Get current time in seconds since the Epoch\n",
    "current_time = time.time()\n",
    "print(current_time)"
   ]
  },
  {
   "cell_type": "code",
   "execution_count": 57,
   "id": "af93b3cd-a841-4369-b263-570f4bd558cd",
   "metadata": {},
   "outputs": [
    {
     "name": "stdout",
     "output_type": "stream",
     "text": [
      "Loading ...\n",
      "Completed\n"
     ]
    }
   ],
   "source": [
    "# Sleep for 2 seconds\n",
    "print(\"Loading ...\")\n",
    "time.sleep(2)\n",
    "print(\"Completed\")"
   ]
  },
  {
   "cell_type": "code",
   "execution_count": 58,
   "id": "aa529f4f-6dfb-437c-8999-a544429dae5a",
   "metadata": {},
   "outputs": [
    {
     "name": "stdout",
     "output_type": "stream",
     "text": [
      "Mon Sep 16 08:42:04 2024\n"
     ]
    }
   ],
   "source": [
    "# Get current time in a string format\n",
    "current_time_str = time.ctime()\n",
    "print(current_time_str)"
   ]
  },
  {
   "cell_type": "code",
   "execution_count": 59,
   "id": "61b66313-1e28-45ba-9b54-d6e0d62ad945",
   "metadata": {},
   "outputs": [
    {
     "name": "stdout",
     "output_type": "stream",
     "text": [
      "time.struct_time(tm_year=2024, tm_mon=9, tm_mday=16, tm_hour=2, tm_min=57, tm_sec=11, tm_wday=0, tm_yday=260, tm_isdst=0)\n"
     ]
    }
   ],
   "source": [
    "# Get current time in UTC\n",
    "current_time_utc = time.gmtime()\n",
    "print(current_time_utc)"
   ]
  },
  {
   "cell_type": "code",
   "execution_count": 60,
   "id": "5643b9ec-f9be-4841-a646-52078c79ea16",
   "metadata": {},
   "outputs": [
    {
     "name": "stdout",
     "output_type": "stream",
     "text": [
      "time.struct_time(tm_year=2024, tm_mon=9, tm_mday=16, tm_hour=8, tm_min=42, tm_sec=17, tm_wday=0, tm_yday=260, tm_isdst=0)\n"
     ]
    }
   ],
   "source": [
    "# Get current time in local time\n",
    "current_time_local = time.localtime()\n",
    "print(current_time_local)"
   ]
  },
  {
   "cell_type": "code",
   "execution_count": 61,
   "id": "3f278109-79c2-4412-9001-cf7bc77c8e8b",
   "metadata": {},
   "outputs": [
    {
     "name": "stdout",
     "output_type": "stream",
     "text": [
      "Mon Sep 16 08:42:17 2024\n"
     ]
    }
   ],
   "source": [
    "# Format the current time as a string\n",
    "current_time_formatted = time.asctime(current_time_local)\n",
    "print(current_time_formatted)"
   ]
  },
  {
   "cell_type": "code",
   "execution_count": 62,
   "id": "76de3661-dab6-4c53-aae1-3675ae1d6d48",
   "metadata": {},
   "outputs": [
    {
     "name": "stdout",
     "output_type": "stream",
     "text": [
      "Hello\n",
      "Hello Again\n",
      "2.002639055252075\n"
     ]
    }
   ],
   "source": [
    "start = time.time()\n",
    "print(\"Hello\")\n",
    "\n",
    "time.sleep(2)\n",
    "\n",
    "print(\"Hello Again\")\n",
    "end = time.time()\n",
    "\n",
    "print(end-start)"
   ]
  },
  {
   "cell_type": "markdown",
   "id": "561abc53",
   "metadata": {},
   "source": [
    "## 3. calendar\n",
    "\n",
    "The `calendar` module in Python provides functions for working with calendars, including functions to print formatted calendars and determine various properties of the calendar such as leap years and weekdays. Some of the important functions in the calendar module are:\n",
    "\n",
    "- `calendar(year, w=2, l=1, c=6)`: Returns a formatted calendar for the given year as a multi-line string. The first argument is the year and the remaining arguments are optional and specify the width of the date columns (w), the number of lines per week (l), and the number of spaces between month columns (c).\n",
    "- `calendar.month(year, month[, w[, l]])`: Returns a month’s calendar in a multi-line string format.\n",
    "- `calendar.monthcalendar(year, month)`: This function returns a matrix representing a month's calendar. Each row of the matrix represents a week and each column represents a day.\n",
    "- `isleap(year)`: Returns True if the given year is a leap year, otherwise False.\n",
    "- `leapdays(y1, y2)`: Returns the number of leap years between the years y1 and y2.\n",
    "- `monthrange(year, month)`: Returns a tuple containing the weekday of the first day of the month (0-6, where Monday is 0) and the number of days in the month for the given year and month.\n",
    "- `weekday(year, month, day)`: Returns the day of the week (0-6, where Monday is 0) for the given date.\n",
    "- `day_name`: A list of weekday names, starting with Monday.\n",
    "- `month_name`: A list of month names, starting with January."
   ]
  },
  {
   "cell_type": "code",
   "execution_count": 63,
   "id": "874bfa0d",
   "metadata": {},
   "outputs": [
    {
     "name": "stdout",
     "output_type": "stream",
     "text": [
      "                                  2060\n",
      "\n",
      "      January                   February                   March\n",
      "Mo Tu We Th Fr Sa Su      Mo Tu We Th Fr Sa Su      Mo Tu We Th Fr Sa Su\n",
      "          1  2  3  4                         1       1  2  3  4  5  6  7\n",
      " 5  6  7  8  9 10 11       2  3  4  5  6  7  8       8  9 10 11 12 13 14\n",
      "12 13 14 15 16 17 18       9 10 11 12 13 14 15      15 16 17 18 19 20 21\n",
      "19 20 21 22 23 24 25      16 17 18 19 20 21 22      22 23 24 25 26 27 28\n",
      "26 27 28 29 30 31         23 24 25 26 27 28 29      29 30 31\n",
      "\n",
      "       April                      May                       June\n",
      "Mo Tu We Th Fr Sa Su      Mo Tu We Th Fr Sa Su      Mo Tu We Th Fr Sa Su\n",
      "          1  2  3  4                      1  2          1  2  3  4  5  6\n",
      " 5  6  7  8  9 10 11       3  4  5  6  7  8  9       7  8  9 10 11 12 13\n",
      "12 13 14 15 16 17 18      10 11 12 13 14 15 16      14 15 16 17 18 19 20\n",
      "19 20 21 22 23 24 25      17 18 19 20 21 22 23      21 22 23 24 25 26 27\n",
      "26 27 28 29 30            24 25 26 27 28 29 30      28 29 30\n",
      "                          31\n",
      "\n",
      "        July                     August                  September\n",
      "Mo Tu We Th Fr Sa Su      Mo Tu We Th Fr Sa Su      Mo Tu We Th Fr Sa Su\n",
      "          1  2  3  4                         1             1  2  3  4  5\n",
      " 5  6  7  8  9 10 11       2  3  4  5  6  7  8       6  7  8  9 10 11 12\n",
      "12 13 14 15 16 17 18       9 10 11 12 13 14 15      13 14 15 16 17 18 19\n",
      "19 20 21 22 23 24 25      16 17 18 19 20 21 22      20 21 22 23 24 25 26\n",
      "26 27 28 29 30 31         23 24 25 26 27 28 29      27 28 29 30\n",
      "                          30 31\n",
      "\n",
      "      October                   November                  December\n",
      "Mo Tu We Th Fr Sa Su      Mo Tu We Th Fr Sa Su      Mo Tu We Th Fr Sa Su\n",
      "             1  2  3       1  2  3  4  5  6  7             1  2  3  4  5\n",
      " 4  5  6  7  8  9 10       8  9 10 11 12 13 14       6  7  8  9 10 11 12\n",
      "11 12 13 14 15 16 17      15 16 17 18 19 20 21      13 14 15 16 17 18 19\n",
      "18 19 20 21 22 23 24      22 23 24 25 26 27 28      20 21 22 23 24 25 26\n",
      "25 26 27 28 29 30 31      29 30                     27 28 29 30 31\n",
      "\n"
     ]
    }
   ],
   "source": [
    "import calendar\n",
    "\n",
    "cal = calendar.calendar(2060)\n",
    "print(cal)"
   ]
  },
  {
   "cell_type": "code",
   "execution_count": 17,
   "id": "14b364d0",
   "metadata": {},
   "outputs": [
    {
     "name": "stdout",
     "output_type": "stream",
     "text": [
      "     March 2023\n",
      "Mo Tu We Th Fr Sa Su\n",
      "       1  2  3  4  5\n",
      " 6  7  8  9 10 11 12\n",
      "13 14 15 16 17 18 19\n",
      "20 21 22 23 24 25 26\n",
      "27 28 29 30 31\n",
      "\n"
     ]
    }
   ],
   "source": [
    "print(calendar.month(2023, 3))"
   ]
  },
  {
   "cell_type": "code",
   "execution_count": 18,
   "id": "eb2e836e",
   "metadata": {},
   "outputs": [
    {
     "name": "stdout",
     "output_type": "stream",
     "text": [
      "[[0, 0, 1, 2, 3, 4, 5], [6, 7, 8, 9, 10, 11, 12], [13, 14, 15, 16, 17, 18, 19], [20, 21, 22, 23, 24, 25, 26], [27, 28, 29, 30, 31, 0, 0]]\n"
     ]
    }
   ],
   "source": [
    "print(calendar.monthcalendar(2023, 3))"
   ]
  },
  {
   "cell_type": "code",
   "execution_count": 64,
   "id": "fd395fba",
   "metadata": {},
   "outputs": [
    {
     "name": "stdout",
     "output_type": "stream",
     "text": [
      "(6, 30)\n"
     ]
    }
   ],
   "source": [
    "print(calendar.monthrange(2024, 9))"
   ]
  },
  {
   "cell_type": "code",
   "execution_count": 65,
   "id": "c32e975a",
   "metadata": {},
   "outputs": [
    {
     "name": "stdout",
     "output_type": "stream",
     "text": [
      "0\n"
     ]
    }
   ],
   "source": [
    "print(calendar.weekday(2024, 9, 16))"
   ]
  },
  {
   "cell_type": "code",
   "execution_count": 66,
   "id": "63b92277-5aef-4b55-81cf-1acab213e4e1",
   "metadata": {},
   "outputs": [
    {
     "data": {
      "text/plain": [
       "1970"
      ]
     },
     "execution_count": 66,
     "metadata": {},
     "output_type": "execute_result"
    }
   ],
   "source": [
    "calendar.EPOCH"
   ]
  },
  {
   "cell_type": "code",
   "execution_count": 69,
   "id": "e9f06566-1b7d-4490-8b1a-8e3cda7ed52d",
   "metadata": {},
   "outputs": [
    {
     "data": {
      "text/plain": [
       "True"
      ]
     },
     "execution_count": 69,
     "metadata": {},
     "output_type": "execute_result"
    }
   ],
   "source": [
    "calendar.isleap(2028)"
   ]
  },
  {
   "cell_type": "code",
   "execution_count": null,
   "id": "88f7af15-9412-46c7-ae8d-633cdcc89d59",
   "metadata": {},
   "outputs": [],
   "source": []
  }
 ],
 "metadata": {
  "kernelspec": {
   "display_name": "Python 3 (ipykernel)",
   "language": "python",
   "name": "python3"
  },
  "language_info": {
   "codemirror_mode": {
    "name": "ipython",
    "version": 3
   },
   "file_extension": ".py",
   "mimetype": "text/x-python",
   "name": "python",
   "nbconvert_exporter": "python",
   "pygments_lexer": "ipython3",
   "version": "3.10.12"
  }
 },
 "nbformat": 4,
 "nbformat_minor": 5
}
