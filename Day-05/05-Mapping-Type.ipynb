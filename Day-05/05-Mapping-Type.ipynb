{
 "cells": [
  {
   "cell_type": "markdown",
   "metadata": {},
   "source": [
    "# Mapping Type\n",
    "\n",
    "Mapping Types are popularly known as dictionaries in python represented by `dict` keyword. In Python, dict is a built-in type that represents a collection of key-value pairs. It is also known as a dictionary or associative array in other programming languages.\n",
    "\n",
    "A dictionary is an unordered collection of elements where each element is a pair consisting of a key and a value. The key is used to index and uniquely identify the value in the dictionary.\n",
    "\n",
    "Here are some key features of Python dictionaries:\n",
    "\n",
    "- Dictionaries are unordered, meaning that the order of elements is not guaranteed.\n",
    "- Keys must be unique and immutable, while values can be of any data type, including other dictionaries (nested dictionaries).\n",
    "- Dictionary elements are accessed using the keys, rather than the index as in a list or tuple.\n",
    "- Dictionaries are mutable, meaning that you can add, delete, or modify elements after the dictionary has been created.\n",
    "\n",
    "\n",
    "## Creating a Dictionary\n",
    "\n",
    "You can create a dictionary by enclosing key-value pairs in curly braces {} or by using the dict() constructor."
   ]
  },
  {
   "cell_type": "markdown",
   "metadata": {},
   "source": [
    "dict1 = {\n",
    "    key : value\n",
    "    key : value\n",
    "    key : value\n",
    "    ....\n",
    "}"
   ]
  },
  {
   "cell_type": "code",
   "execution_count": 1,
   "metadata": {},
   "outputs": [
    {
     "name": "stdout",
     "output_type": "stream",
     "text": [
      "{'name': 'John', 'age': 30, 'city': 'New York', 'gender': 'Male'}\n"
     ]
    }
   ],
   "source": [
    "person = {\n",
    "    \"name\": \"John\", \n",
    "    \"age\": 30, \n",
    "    \"city\": \"New York\",\n",
    "    \"gender\" : \"Male\"\n",
    "}\n",
    "print(person)  # {\"name\": \"John\", \"age\": 30, \"city\": \"New York\"}"
   ]
  },
  {
   "cell_type": "code",
   "execution_count": 2,
   "metadata": {},
   "outputs": [
    {
     "name": "stdout",
     "output_type": "stream",
     "text": [
      "{'name': 'John', 'age': 30, 'city': 'New York'}\n"
     ]
    }
   ],
   "source": [
    "person = dict(name=\"John\", age=30, city=\"New York\")\n",
    "print(person)  # {\"name\": \"John\", \"age\": 30, \"city\": \"New York\"}"
   ]
  },
  {
   "cell_type": "markdown",
   "metadata": {},
   "source": [
    "## Accessing Elements\n",
    "\n",
    "You can access the value of a dictionary element by specifying the key inside square brackets []. If you try to access a key that doesn't exist, Python will raise a `KeyError` exception. You can avoid this by using the `get()` method, which returns None (or a default value you provide) instead of raising an exception."
   ]
  },
  {
   "cell_type": "code",
   "execution_count": 3,
   "metadata": {},
   "outputs": [
    {
     "name": "stdout",
     "output_type": "stream",
     "text": [
      "John\n"
     ]
    }
   ],
   "source": [
    "person = {\"name\": \"John\", \"age\": 30, \"city\": \"New York\"}\n",
    "print(person[\"name\"])\n",
    "# print(person[\"age\"])\n",
    "# print(person[\"city\"])"
   ]
  },
  {
   "cell_type": "code",
   "execution_count": 9,
   "metadata": {},
   "outputs": [
    {
     "data": {
      "text/plain": [
       "'unknown'"
      ]
     },
     "execution_count": 9,
     "metadata": {},
     "output_type": "execute_result"
    }
   ],
   "source": [
    "person.get(\"lastname\",\"unknown\")"
   ]
  },
  {
   "cell_type": "code",
   "execution_count": 6,
   "metadata": {},
   "outputs": [
    {
     "ename": "KeyError",
     "evalue": "'gender'",
     "output_type": "error",
     "traceback": [
      "\u001b[0;31m---------------------------------------------------------------------------\u001b[0m",
      "\u001b[0;31mKeyError\u001b[0m                                  Traceback (most recent call last)",
      "Cell \u001b[0;32mIn[6], line 1\u001b[0m\n\u001b[0;32m----> 1\u001b[0m \u001b[38;5;28mprint\u001b[39m(\u001b[43mperson\u001b[49m\u001b[43m[\u001b[49m\u001b[38;5;124;43m\"\u001b[39;49m\u001b[38;5;124;43mgender\u001b[39;49m\u001b[38;5;124;43m\"\u001b[39;49m\u001b[43m]\u001b[49m)  \u001b[38;5;66;03m# KeyError: 'gender'\u001b[39;00m\n",
      "\u001b[0;31mKeyError\u001b[0m: 'gender'"
     ]
    }
   ],
   "source": [
    "print(person[\"gender\"])  # KeyError: 'gender'\n"
   ]
  },
  {
   "cell_type": "code",
   "execution_count": 10,
   "metadata": {},
   "outputs": [
    {
     "name": "stdout",
     "output_type": "stream",
     "text": [
      "male\n"
     ]
    }
   ],
   "source": [
    "print(person.get(\"gender\", \"male\"))  # Specifying a default value \"male\"\n"
   ]
  },
  {
   "cell_type": "markdown",
   "metadata": {},
   "source": [
    "## Modifying Elements\n",
    "\n",
    "You can modify the value of a dictionary element by specifying the key and assigning a new value to it."
   ]
  },
  {
   "cell_type": "code",
   "execution_count": 18,
   "metadata": {},
   "outputs": [
    {
     "name": "stdout",
     "output_type": "stream",
     "text": [
      "{'name': 'John', 'age': 35, 'city': 'New York'}\n"
     ]
    }
   ],
   "source": [
    "person = {\"name\": \"John\", \"age\": 30, \"city\": \"New York\"}\n",
    "person[\"age\"] = 35\n",
    "print(person)"
   ]
  },
  {
   "cell_type": "code",
   "execution_count": 19,
   "metadata": {},
   "outputs": [
    {
     "name": "stdout",
     "output_type": "stream",
     "text": [
      "{'name': 'John', 'age': 35, 'city': 'New York', 'gender': 'male'}\n"
     ]
    }
   ],
   "source": [
    "person['gender'] = \"male\"\n",
    "print(person)"
   ]
  },
  {
   "cell_type": "code",
   "execution_count": 20,
   "metadata": {},
   "outputs": [
    {
     "name": "stdout",
     "output_type": "stream",
     "text": [
      "{'name': 'John', 'age': 35, 'gender': 'male'}\n"
     ]
    }
   ],
   "source": [
    "del person[\"city\"]  # Deleting Element \"city\"\n",
    "print(person)"
   ]
  },
  {
   "cell_type": "code",
   "execution_count": null,
   "metadata": {},
   "outputs": [],
   "source": []
  },
  {
   "cell_type": "markdown",
   "metadata": {},
   "source": [
    "## Dictionary Methods\n",
    "\n",
    "Some commonly used methods in Python dictionaries are `keys()`, `values()`, `items()`, `pop()`, `copy()`, `clear()`."
   ]
  },
  {
   "cell_type": "code",
   "execution_count": 36,
   "metadata": {},
   "outputs": [
    {
     "name": "stdout",
     "output_type": "stream",
     "text": [
      "dict_keys(['name', 'age', 'city'])\n"
     ]
    }
   ],
   "source": [
    "person = {\"name\": \"John\", \"age\": 30, \"city\": \"New York\"}\n",
    "\n",
    "print(person.keys())  # Returns a view object that contains keys of the dictionary\n",
    "# print(person.items())  # Returns a view object that contains key-value pairs of the dictionary as tuples"
   ]
  },
  {
   "cell_type": "code",
   "execution_count": 37,
   "metadata": {},
   "outputs": [
    {
     "name": "stdout",
     "output_type": "stream",
     "text": [
      "dict_values(['John', 30, 'New York'])\n"
     ]
    }
   ],
   "source": [
    "print(person.values())  # Returns a view object that contains values of the dictionary"
   ]
  },
  {
   "cell_type": "code",
   "execution_count": 38,
   "metadata": {},
   "outputs": [
    {
     "name": "stdout",
     "output_type": "stream",
     "text": [
      "dict_items([('name', 'John'), ('age', 30), ('city', 'New York')])\n"
     ]
    }
   ],
   "source": [
    "print(person.items())"
   ]
  },
  {
   "cell_type": "code",
   "execution_count": 39,
   "metadata": {},
   "outputs": [
    {
     "name": "stdout",
     "output_type": "stream",
     "text": [
      "30\n",
      "{'name': 'John', 'city': 'New York'}\n"
     ]
    }
   ],
   "source": [
    "age = person.pop('age')  # Removes the key-value pair with the given key and returns the value\n",
    "print(age)               # If the key is not found, a KeyError exception is raised.\n",
    "print(person)"
   ]
  },
  {
   "cell_type": "code",
   "execution_count": 40,
   "metadata": {},
   "outputs": [
    {
     "name": "stdout",
     "output_type": "stream",
     "text": [
      "New York\n",
      "{'name': 'John'}\n"
     ]
    }
   ],
   "source": [
    "city = person.pop(\"city\", \"NYC\")  # Providing a default value avoids the KeyError\n",
    "print(city)\n",
    "print(person)"
   ]
  },
  {
   "cell_type": "markdown",
   "metadata": {},
   "source": [
    "You can use the `pop()` method to remove and get the value of a key in a single operation. If you don't need the value, you can use the `del` statement to remove the key-value pair as done earlier.\n",
    "\n",
    "We can also sort the dictionary elements both by dictionary keys and values using `sorted()` method. Let's see how we can do it for real:"
   ]
  },
  {
   "cell_type": "code",
   "execution_count": 44,
   "metadata": {},
   "outputs": [
    {
     "name": "stdout",
     "output_type": "stream",
     "text": [
      "{'age': '30', 'city': 'New York', 'name': 'John'}\n",
      "{'age': '30', 'name': 'John', 'city': 'New York'}\n"
     ]
    }
   ],
   "source": [
    "person = {\"name\": \"John\", \"age\": \"30\", \"city\": \"New York\"}\n",
    "\n",
    "key_sorted = dict(sorted(person.items(), key=lambda item: item[0])) # Sort by Key\n",
    "print(key_sorted)\n",
    "\n",
    "value_sorted = dict(sorted(person.items(), key=lambda item: item[1])) # Sort by Value\n",
    "print(value_sorted)"
   ]
  },
  {
   "cell_type": "code",
   "execution_count": null,
   "metadata": {},
   "outputs": [],
   "source": []
  },
  {
   "cell_type": "code",
   "execution_count": null,
   "metadata": {},
   "outputs": [],
   "source": []
  },
  {
   "cell_type": "code",
   "execution_count": 45,
   "metadata": {},
   "outputs": [],
   "source": [
    "newspaper = {\n",
    "    \"name\" : \"tkp\",\n",
    "    \"price\" : 5.00,\n",
    "    \"pages\" : 16,\n",
    "    \"address\" : \"laltipur\",\n",
    "    \"branches\" : ['pokhara','butwal'],\n",
    "    \"active\" : True,\n",
    "    \"last_published\" : \"02, Sept 2024\"\n",
    "}"
   ]
  },
  {
   "cell_type": "code",
   "execution_count": 46,
   "metadata": {},
   "outputs": [
    {
     "name": "stdout",
     "output_type": "stream",
     "text": [
      "{'name': 'tkp', 'price': 5.0, 'pages': 16, 'address': 'laltipur', 'branches': ['pokhara', 'butwal'], 'active': True, 'last_published': '02, Sept 2024'}\n"
     ]
    }
   ],
   "source": [
    "print(newspaper)"
   ]
  },
  {
   "cell_type": "code",
   "execution_count": null,
   "metadata": {},
   "outputs": [],
   "source": []
  }
 ],
 "metadata": {
  "kernelspec": {
   "display_name": "Python 3 (ipykernel)",
   "language": "python",
   "name": "python3"
  },
  "language_info": {
   "codemirror_mode": {
    "name": "ipython",
    "version": 3
   },
   "file_extension": ".py",
   "mimetype": "text/x-python",
   "name": "python",
   "nbconvert_exporter": "python",
   "pygments_lexer": "ipython3",
   "version": "3.11.9"
  },
  "vscode": {
   "interpreter": {
    "hash": "c791da6e143d5c1c10fa1ed7f1815151e7a056a8f495bad5d982eb2a99eb5509"
   }
  }
 },
 "nbformat": 4,
 "nbformat_minor": 4
}
