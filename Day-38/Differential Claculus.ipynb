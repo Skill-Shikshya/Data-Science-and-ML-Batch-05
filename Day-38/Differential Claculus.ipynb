{
 "cells": [
  {
   "cell_type": "markdown",
   "id": "d62d1793-4d27-4f88-aa23-998f4aaeb93a",
   "metadata": {},
   "source": [
    "# Differential Calculus\n",
    "\n",
    "Differential calculus is the study of rates at which quantities change. It is concerned with the study of slopes of curves, tangent lines, and the instantaneous rate of change of functions. This tutorial will cover the basic concepts and techniques of differential calculus.\n"
   ]
  },
  {
   "cell_type": "markdown",
   "id": "ed552f2c-7156-46d1-b20a-ca918d879966",
   "metadata": {},
   "source": [
    "## Slope of a Line\n",
    "\n",
    "In the study of differential calculus, the slope of a straight line is an important concept. The slope of a straight line is defined as the ratio of the change in the y-coordinate to the change in the x-coordinate between any two points on the line.\n",
    "\n",
    "If we have two points on the line, (x1, y1) and (x2, y2), then the slope of the line can be calculated using the following formula:\n",
    "\n",
    "\\begin{equation}\n",
    "slope = \\frac{\\Delta y}{\\Delta x} = \\frac{y_2 - y_1}{x_2 - x_1}\n",
    "\\end{equation}\n",
    "\n",
    "This formula gives us the average rate of change of the y-coordinate with respect to the x-coordinate over the interval between the two points. In calculus, we use this concept of slope to study the behavior of functions and their derivatives. For example, the derivative of a function at a point represents the instantaneous rate of change of the function at that point, which can be thought of as the slope of the tangent line to the function at that point.\n"
   ]
  },
  {
   "cell_type": "markdown",
   "id": "365412a6-4220-4cf1-b086-0b484e819127",
   "metadata": {},
   "source": [
    "## Derivative of a Function\n",
    "\n",
    "The derivative of a function is the slope of the tangent line to the function at a given point. The derivative of a function is defined as the limit of the difference quotient as the independent variable approaches a certain value. The derivative of a function `f(x)` is denoted by:\n",
    "\n",
    "\\begin{equation}\n",
    "f'(x) =  \\frac{df(x)}{dx}\n",
    "\\end{equation}"
   ]
  },
  {
   "cell_type": "markdown",
   "id": "a2f5e1b6-5fdd-4307-a1ad-c66eb8a7a5eb",
   "metadata": {},
   "source": [
    "## Partial Differentiation\n",
    "\n",
    "Partial differentiation is a technique used to find the partial derivatives of a multivariable function with respect to its independent variables. It is used when a function depends on two or more variables, and we want to know how the function changes as one variable changes while the other variables are held constant.\n",
    "\n",
    "Suppose we have a function `f(x, y)` that depends on two variables `x` and `y`. To find the partial derivative of `f` with respect to `x`, we differentiate `f` with respect to `x` while treating `y` as a constant. We represent this partial derivative as `∂f/∂x`. Similarly, to find the partial derivative of `f` with respect to `y`, we differentiate `f` with respect to `y` while treating `x` as a constant, and represent this partial derivative as `∂f/∂y`.\n",
    "\n",
    "For example, consider the function `f(x, y) = x^2 + 3xy + y^2`. To find the partial derivative of `f` with respect to `x` and `y` are given as:\n",
    "\n",
    "\\begin{equation}\n",
    "\\frac{∂f}{∂x} = \\frac{d(x^2 + 3xy + y^2)}{dx} = 2x + 3y\n",
    "\\end{equation}\n",
    "\n",
    "\\begin{equation}\n",
    "\\frac{∂f}{∂y} = \\frac{d(x^2 + 3xy + y^2)}{dy} = 3x + 2y\n",
    "\\end{equation}"
   ]
  },
  {
   "cell_type": "code",
   "execution_count": null,
   "id": "ac22b32d-652a-4538-9f50-cd19741dc4a1",
   "metadata": {},
   "outputs": [],
   "source": []
  }
 ],
 "metadata": {
  "kernelspec": {
   "display_name": "Python 3 (ipykernel)",
   "language": "python",
   "name": "python3"
  },
  "language_info": {
   "codemirror_mode": {
    "name": "ipython",
    "version": 3
   },
   "file_extension": ".py",
   "mimetype": "text/x-python",
   "name": "python",
   "nbconvert_exporter": "python",
   "pygments_lexer": "ipython3",
   "version": "3.10.12"
  }
 },
 "nbformat": 4,
 "nbformat_minor": 5
}
