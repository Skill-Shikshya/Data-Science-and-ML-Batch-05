{
 "cells": [
  {
   "cell_type": "markdown",
   "id": "ff204ee4-975a-4048-b828-daa09ddd800c",
   "metadata": {},
   "source": [
    "### Scenario:\n",
    "\n",
    "You are tasked with designing a simplified library management system in Python for a local library. The system needs to manage books, library members, and their borrowings. Implement the following classes based on the requirements:\n",
    "\n",
    "1. **Class: `Book`**\n",
    "   - Properties: `title`, `author`, `ISBN`, `is_available`.\n",
    "   - Methods:\n",
    "     - `__init__(self, title, author, ISBN)`: Initializes the book with the title, author, and ISBN.\n",
    "     - `borrow(self)`: Marks the book as borrowed (`is_available = False`) if it is available.\n",
    "     - `return_book(self)`: Marks the book as available (`is_available = True`).\n",
    "   - Encapsulate the properties to prevent direct modification from outside the class.\n",
    "\n",
    "2. **Class: `Member`**\n",
    "   - Properties: `name`, `member_id`, and `borrowed_books` (a list of borrowed book instances).\n",
    "   - Methods:\n",
    "     - `__init__(self, name, member_id)`: Initializes the member with a name and ID.\n",
    "     - `borrow_book(self, book: Book)`: Allows the member to borrow a book. Adds the book to `borrowed_books` if the book is available.\n",
    "     - `return_book(self, book: Book)`: Allows the member to return a borrowed book and remove it from their borrowed list.\n",
    "\n",
    "3. **Class: `Staff` (Inherits from `Member`)**\n",
    "   - Additional Property: `position`.\n",
    "   - Additional Method:\n",
    "     - `__init__(self, name, member_id, position)`: Initializes the staff member with a name, member ID, and position.\n",
    "\n",
    "4. **Class: `Librarian` (Inherits from `Staff`)**\n",
    "   - Additional Method:\n",
    "     - `add_book(self, book: Book)`: Allows the librarian to add new books to the library collection.\n",
    "\n",
    "5. **Polymorphism Requirement:**\n",
    "   - Implement a method `get_details(self)` in both `Member` and `Staff` classes to return information specific to that class.\n",
    "   - For `Member`, it should return the member's name and ID.\n",
    "   - For `Staff`, it should additionally return the staff's position.\n",
    "\n",
    "6. **Abstraction Requirement:**\n",
    "   - Create an abstract base class `LibraryUser` with abstract methods `borrow_book` and `return_book`. Both `Member` and `Staff` should inherit from `LibraryUser` and implement these methods.\n",
    "\n",
    "---\n",
    "\n",
    "### Task:\n",
    "\n",
    "- Write the code to implement the scenario above, demonstrating the following OOP concepts:\n",
    "  1. **Encapsulation**: Use private attributes and provide getters and setters if needed.\n",
    "  2. **Inheritance**: Show the use of inheritance with `Staff` and `Librarian` classes.\n",
    "  3. **Polymorphism**: Demonstrate how `get_details` behaves differently for `Member` and `Staff`.\n",
    "  4. **Abstraction**: Use the abstract base class `LibraryUser` to enforce the interface for borrowing and returning books."
   ]
  },
  {
   "cell_type": "code",
   "execution_count": null,
   "id": "909e274a-9a09-4961-981f-82fd88c25bbf",
   "metadata": {},
   "outputs": [],
   "source": []
  },
  {
   "cell_type": "code",
   "execution_count": 1,
   "id": "6c12f043-60a2-4f5c-b90c-92d77d0eea5c",
   "metadata": {},
   "outputs": [],
   "source": [
    "# Class: Book\n",
    "\n",
    "# Properties: title, author, ISBN, is_available.\n",
    "# Methods:\n",
    "# __init__(self, title, author, ISBN): Initializes the book with the title, author, and ISBN.\n",
    "# borrow(self): Marks the book as borrowed (is_available = False) if it is available.\n",
    "# return_book(self): Marks the book as available (is_available = True).\n",
    "# Encapsulate the properties to prevent direct modification from outside the class.\n",
    "\n",
    "class Book:\n",
    "    def __init__(self, title, author, ISBN):\n",
    "        self.title = title\n",
    "        self.__author = author\n",
    "        self.__ISBN = ISBN\n",
    "        self.__is_available = True\n",
    "\n",
    "    def borrow(self):\n",
    "        if self.__is_available:\n",
    "            self. __is_available = False\n",
    "            return True\n",
    "\n",
    "        return self.__is_available\n",
    "\n",
    "    def return_book(self):\n",
    "        self.__is_available = True\n",
    "\n",
    "    def get_book_author(self):\n",
    "        return self.__author\n",
    "\n",
    "    def is_available(self):\n",
    "        return self.__is_available\n",
    "        \n",
    "        "
   ]
  },
  {
   "cell_type": "code",
   "execution_count": 2,
   "id": "87591965-409b-45fe-80c2-40f97ada7bb0",
   "metadata": {},
   "outputs": [],
   "source": [
    "# Abstraction Requirement:\n",
    "\n",
    "# Create an abstract base class LibraryUser with abstract methods borrow_book and return_book. \n",
    "# Both Member and Staff should inherit from LibraryUser and implement these methods.\n",
    "\n",
    "from abc import ABC , abstractmethod\n",
    "\n",
    "class LibraryUser(ABC):\n",
    "    @abstractmethod\n",
    "    def borrow_book(self):\n",
    "        pass\n",
    "\n",
    "    @abstractmethod\n",
    "    def return_book(self):\n",
    "        pass\n"
   ]
  },
  {
   "cell_type": "code",
   "execution_count": 3,
   "id": "2e88cc5d-276f-432d-80e0-7d4bd2aa52a7",
   "metadata": {},
   "outputs": [],
   "source": [
    "# Class: Member\n",
    "\n",
    "# Properties: name, member_id, and borrowed_books (a list of borrowed book instances).\n",
    "# Methods:\n",
    "# __init__(self, name, member_id): Initializes the member with a name and ID.\n",
    "# borrow_book(self, book: Book): Allows the member to borrow a book. Adds the book to borrowed_books if the book is available.\n",
    "# return_book(self, book: Book): Allows the member to return a borrowed book and remove it from their borrowed list.\n",
    "\n",
    "class Member(LibraryUser):\n",
    "    def __init__(self, name, member_id):\n",
    "        self.name = name\n",
    "        self.__member_id = member_id\n",
    "        self.__burrowed_books = []\n",
    "\n",
    "    def borrow_book(self, book:Book):\n",
    "        if book.borrow():\n",
    "            self.__burrowed_books.append(book)\n",
    "            print(f\"{self.name} burrowed {book.title}\")\n",
    "        else:\n",
    "            print(f\"{book.title} is not available !\")\n",
    "\n",
    "    def return_book(self, book:Book):\n",
    "        if book in self.__burrowed_books:\n",
    "            book.return_book()\n",
    "            self.__burrowed_books.remove(book)\n",
    "            print(f\"{self.name} returned {book.title}\")\n",
    "        else:\n",
    "            print(f\"{self.name} doesn't have {book.title}\")\n",
    "\n",
    "    def get_details(self):\n",
    "        return f\"Member Name: {self.name}, Member ID: {self.__member_id}\"\n"
   ]
  },
  {
   "cell_type": "code",
   "execution_count": 11,
   "id": "13873d2f-3b5a-43b9-99d2-040ba5e77bd5",
   "metadata": {},
   "outputs": [],
   "source": [
    "# Class: Staff (Inherits from Member)\n",
    "\n",
    "# Additional Property: position.\n",
    "# Additional Method:\n",
    "# __init__(self, name, member_id, position): Initializes the staff member with a name, member ID, and position.\n",
    "\n",
    "class Staff(Member):\n",
    "    def __init__(self, name, member_id, position):\n",
    "        super().__init__(name, member_id)\n",
    "        self.__position = position\n",
    "\n",
    "    def get_details(self):\n",
    "        return f\"Member Name: {self.name}, Member ID: {self._Member__member_id}, Position: {self.__position}\"\n"
   ]
  },
  {
   "cell_type": "code",
   "execution_count": 19,
   "id": "2ebe9fb5-5705-4f3b-a9a7-77e50546be17",
   "metadata": {},
   "outputs": [],
   "source": [
    "# Class: Librarian (Inherits from Staff)\n",
    "\n",
    "# Additional Method:\n",
    "# add_book(self, book: Book): Allows the librarian to add new books to the library collection.\n",
    "\n",
    "class Librarian(Staff):\n",
    "    def __init__(self, name, member_id, position):\n",
    "        super().__init__(name, member_id, position)\n",
    "        self.library_books = []\n",
    "\n",
    "    def add_book(self, book : Book):\n",
    "        self.library_books.append(book)\n",
    "        print(f\"Book '{book.title}' added to the library by {self.name}.\")"
   ]
  },
  {
   "cell_type": "markdown",
   "id": "519b57b7-8a17-4d71-89f9-9868fb492ef1",
   "metadata": {},
   "source": [
    "---"
   ]
  },
  {
   "cell_type": "code",
   "execution_count": 13,
   "id": "2dd8906b-ccc9-4859-b1b6-0861994cb5d3",
   "metadata": {},
   "outputs": [],
   "source": [
    "book1 = Book(\"1984\", \"George Orwell\", \"AD3344724\")\n",
    "book2 = Book(\"Shoe Dog\", \"Knight Philip\", \"GB786654\")"
   ]
  },
  {
   "cell_type": "code",
   "execution_count": 20,
   "id": "e6251a0d-8cd0-42e2-97eb-635267654773",
   "metadata": {},
   "outputs": [
    {
     "data": {
      "text/plain": [
       "'Member Name: Alice, Member ID: LIB003, Position: Chief Librarian'"
      ]
     },
     "execution_count": 20,
     "metadata": {},
     "output_type": "execute_result"
    }
   ],
   "source": [
    "librarian = Librarian(\"Alice\", \"LIB003\", \"Chief Librarian\")\n",
    "librarian.get_details()"
   ]
  },
  {
   "cell_type": "code",
   "execution_count": 21,
   "id": "b58b50b6-0a00-47bc-a299-a1b2d1ac805d",
   "metadata": {},
   "outputs": [
    {
     "name": "stdout",
     "output_type": "stream",
     "text": [
      "Book '1984' added to the library by Alice.\n",
      "Book 'Shoe Dog' added to the library by Alice.\n"
     ]
    }
   ],
   "source": [
    "librarian.add_book(book1)\n",
    "librarian.add_book(book2)"
   ]
  },
  {
   "cell_type": "code",
   "execution_count": 23,
   "id": "03d99a1f-45d3-4472-aded-29f49ce3bb48",
   "metadata": {},
   "outputs": [
    {
     "data": {
      "text/plain": [
       "'Member Name: Bob, Member ID: STD003'"
      ]
     },
     "execution_count": 23,
     "metadata": {},
     "output_type": "execute_result"
    }
   ],
   "source": [
    "member = Member(\"Bob\" , \"STD003\")\n",
    "member.get_details()"
   ]
  },
  {
   "cell_type": "code",
   "execution_count": 24,
   "id": "67bbd041-678b-41a2-ada6-2ca1f784cec6",
   "metadata": {},
   "outputs": [
    {
     "name": "stdout",
     "output_type": "stream",
     "text": [
      "Bob burrowed 1984\n"
     ]
    }
   ],
   "source": [
    "member.borrow_book(book1)"
   ]
  },
  {
   "cell_type": "code",
   "execution_count": 27,
   "id": "672141c8-862b-42fb-a967-872585b778be",
   "metadata": {},
   "outputs": [
    {
     "name": "stdout",
     "output_type": "stream",
     "text": [
      "Bob returned 1984\n"
     ]
    }
   ],
   "source": [
    "member.return_book(book1)"
   ]
  },
  {
   "cell_type": "code",
   "execution_count": null,
   "id": "209bf040-c493-47c7-91aa-d2b2bc457af0",
   "metadata": {},
   "outputs": [],
   "source": []
  }
 ],
 "metadata": {
  "kernelspec": {
   "display_name": "Python 3 (ipykernel)",
   "language": "python",
   "name": "python3"
  },
  "language_info": {
   "codemirror_mode": {
    "name": "ipython",
    "version": 3
   },
   "file_extension": ".py",
   "mimetype": "text/x-python",
   "name": "python",
   "nbconvert_exporter": "python",
   "pygments_lexer": "ipython3",
   "version": "3.10.12"
  }
 },
 "nbformat": 4,
 "nbformat_minor": 5
}
