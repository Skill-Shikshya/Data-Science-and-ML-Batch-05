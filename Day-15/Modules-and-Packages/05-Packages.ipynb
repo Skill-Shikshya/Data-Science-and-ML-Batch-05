{
 "cells": [
  {
   "cell_type": "markdown",
   "id": "6be32fc3",
   "metadata": {},
   "source": [
    "# Packages in Python\n",
    "\n",
    "Packages are a way of grouping related modules together. A package is essentially a directory containing Python modules, with an additional `__init__.py` file in the directory to specify that it is a package. For example, consider a package named `mypackage` that contains two modules module1 and module2. The directory structure would be:\n",
    "\n",
    "```markdown\n",
    "mypackage/\n",
    "    __init__.py\n",
    "    module1.py\n",
    "    module2.py\n",
    "\n",
    "```\n",
    "\n",
    "To import modules from a package, you use `dot` notation with the package name and module name. For example, to import `module1` from `mypackage`:\n",
    "\n",
    "```python\n",
    "import mypackage.module1\n",
    "\n",
    "mypackage.module1.my_function()\n",
    "```\n",
    "\n",
    "You can also use the `from` statement to import specific functions or variables from a module or a package.\n",
    "\n",
    "```python\n",
    "from mypackage.module1 import my_function\n",
    "\n",
    "my_function()\n",
    "```\n",
    "\n",
    "In addition to this, if you encounter two or more functions or variables with same name from different packages you can assign a different recognizable name to each functions or variables using `as` keyword.\n",
    "\n",
    "```python\n",
    "from package1.module3 import myfunction as mf1\n",
    "from package2 import myfunction as mf2\n",
    "\n",
    "mf1()\n",
    "mf2()\n",
    "```\n",
    "\n",
    "Overall, modules and packages are essential in organizing and reusing code in Python, and understanding how to work with them is important for any Python developer."
   ]
  },
  {
   "cell_type": "code",
   "execution_count": 1,
   "id": "e0054c4d-99a6-40da-864f-1b7a7efc40d8",
   "metadata": {},
   "outputs": [],
   "source": [
    "import vritmath"
   ]
  },
  {
   "cell_type": "code",
   "execution_count": 2,
   "id": "552d178e-f376-4e98-bed7-d44950d09cf2",
   "metadata": {},
   "outputs": [
    {
     "data": {
      "text/plain": [
       "['__builtins__',\n",
       " '__cached__',\n",
       " '__doc__',\n",
       " '__file__',\n",
       " '__loader__',\n",
       " '__name__',\n",
       " '__package__',\n",
       " '__path__',\n",
       " '__spec__',\n",
       " 'add_two',\n",
       " 'add_two_numbers',\n",
       " 'divide',\n",
       " 'divide_two_numbers',\n",
       " 'multiply',\n",
       " 'multiply_two_numbers']"
      ]
     },
     "execution_count": 2,
     "metadata": {},
     "output_type": "execute_result"
    }
   ],
   "source": [
    "dir(vritmath)"
   ]
  },
  {
   "cell_type": "code",
   "execution_count": 3,
   "id": "bb281458-b188-4777-b045-b2285492ef5d",
   "metadata": {},
   "outputs": [],
   "source": [
    "add_object = vritmath.add_two_numbers(4,5)"
   ]
  },
  {
   "cell_type": "code",
   "execution_count": 4,
   "id": "ec3a9cd2-07a8-44c8-b919-9fcef10c0544",
   "metadata": {},
   "outputs": [
    {
     "data": {
      "text/plain": [
       "9"
      ]
     },
     "execution_count": 4,
     "metadata": {},
     "output_type": "execute_result"
    }
   ],
   "source": [
    "add_object.add()"
   ]
  },
  {
   "cell_type": "code",
   "execution_count": 5,
   "id": "f02db3ce-76ae-4daa-a270-19d03a61aa75",
   "metadata": {},
   "outputs": [
    {
     "ename": "NameError",
     "evalue": "name 'divide_two_numbers' is not defined",
     "output_type": "error",
     "traceback": [
      "\u001b[0;31m---------------------------------------------------------------------------\u001b[0m",
      "\u001b[0;31mNameError\u001b[0m                                 Traceback (most recent call last)",
      "Cell \u001b[0;32mIn[5], line 1\u001b[0m\n\u001b[0;32m----> 1\u001b[0m \u001b[43mdivide_two_numbers\u001b[49m(\u001b[38;5;241m10\u001b[39m,\u001b[38;5;241m0\u001b[39m)\n",
      "\u001b[0;31mNameError\u001b[0m: name 'divide_two_numbers' is not defined"
     ]
    }
   ],
   "source": [
    "divide_two_numbers(10,0)"
   ]
  },
  {
   "cell_type": "code",
   "execution_count": 7,
   "id": "ae4aa5fb-1bb4-42e4-94f0-56ad183e124c",
   "metadata": {},
   "outputs": [
    {
     "data": {
      "text/plain": [
       "1.0"
      ]
     },
     "execution_count": 7,
     "metadata": {},
     "output_type": "execute_result"
    }
   ],
   "source": [
    "vritmath.divide_two_numbers(10,10)"
   ]
  },
  {
   "cell_type": "code",
   "execution_count": null,
   "id": "7dfdb829-7309-45ea-bf52-9a78eeee9cda",
   "metadata": {},
   "outputs": [],
   "source": []
  }
 ],
 "metadata": {
  "kernelspec": {
   "display_name": "Python 3 (ipykernel)",
   "language": "python",
   "name": "python3"
  },
  "language_info": {
   "codemirror_mode": {
    "name": "ipython",
    "version": 3
   },
   "file_extension": ".py",
   "mimetype": "text/x-python",
   "name": "python",
   "nbconvert_exporter": "python",
   "pygments_lexer": "ipython3",
   "version": "3.10.12"
  }
 },
 "nbformat": 4,
 "nbformat_minor": 5
}
