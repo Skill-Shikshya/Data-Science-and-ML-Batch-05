{
 "cells": [
  {
   "cell_type": "markdown",
   "id": "52816b5d",
   "metadata": {},
   "source": [
    "# Magic Methods in Python\n",
    "\n",
    "In Python, magic methods are special methods that start and end with double underscores (e.g., __init__), hence also known as `dunder` (double undersocres) methods. They are used to define various built-in operations and behaviors of objects in Python. Here are some of the most commonly used magic methods in Python:\n",
    "\n",
    "- **\\__init\\__:** Initializes an object of a class when it is created\n",
    "- **\\__str\\__:** Defines how an object is printed as a string\n",
    "- **\\__repr\\__:** Defines the string representation of an object, which can be used to recreate the object\n",
    "- **\\__len\\__:** Defines length of an object\n",
    "- **\\__call\\__:** Calls objects of the class like a normal function"
   ]
  },
  {
   "cell_type": "code",
   "execution_count": 13,
   "id": "1bc175af",
   "metadata": {},
   "outputs": [],
   "source": [
    "class Person:\n",
    "    def __init__(self, name, age):\n",
    "        self.name = name\n",
    "        self.age = age\n",
    "\n",
    "    def __str__(self): #<- Overloading print()\n",
    "        return f\"{self.name} is {self.age} years old\"\n",
    "\n",
    "    def __repr__(self):\n",
    "        return f\"Person({self.name}, {self.age})\"\n",
    "\n",
    "    def __len__(self):\n",
    "        return self.age\n",
    "\n",
    "    def __call__(self): #<- Callable method :obj() (eg. person())\n",
    "        return f\"{self.name} is being called\"\n",
    "\n",
    "person = Person(\"Alice\", 30)"
   ]
  },
  {
   "cell_type": "code",
   "execution_count": 21,
   "id": "be800c46-8190-480c-98b1-e3864eb8d0a8",
   "metadata": {},
   "outputs": [
    {
     "name": "stdout",
     "output_type": "stream",
     "text": [
      "Alice is 30 years old\n"
     ]
    }
   ],
   "source": [
    "print(str(person))   # also prints \"Alice is 30 years old\""
   ]
  },
  {
   "cell_type": "code",
   "execution_count": 22,
   "id": "a9d3b0f1-895b-44df-9767-ea01948d05ba",
   "metadata": {},
   "outputs": [
    {
     "name": "stdout",
     "output_type": "stream",
     "text": [
      "Person(Alice, 30)\n"
     ]
    }
   ],
   "source": [
    "print(repr(person))  # prints \"Person('Alice', 30)\"\n"
   ]
  },
  {
   "cell_type": "code",
   "execution_count": 23,
   "id": "d11a71c1-915a-42d9-b88c-b5a9540a5fad",
   "metadata": {},
   "outputs": [
    {
     "name": "stdout",
     "output_type": "stream",
     "text": [
      "30\n"
     ]
    }
   ],
   "source": [
    "print(len(person))   # prints 30\n"
   ]
  },
  {
   "cell_type": "code",
   "execution_count": 24,
   "id": "8a5eb7d9-4de9-4a54-975a-4a241bba7034",
   "metadata": {},
   "outputs": [
    {
     "name": "stdout",
     "output_type": "stream",
     "text": [
      "Alice is being called\n"
     ]
    }
   ],
   "source": [
    "print(person())      # prints \"Alice is being called\""
   ]
  },
  {
   "cell_type": "code",
   "execution_count": null,
   "id": "00333c58-af77-4105-a9ec-baaa63e4ed47",
   "metadata": {},
   "outputs": [],
   "source": []
  },
  {
   "cell_type": "markdown",
   "id": "7cf02dd6",
   "metadata": {},
   "source": [
    "In this example, the `__init__` method is used to initialize the `name` and `age` instance variables. The `__str__` method returns a string representation of the object when it is printed, and the `__repr__` method returns a string representation of the object that can be used to recreate the object. The `__len__` method returns the age of the person, and the `__call__` method returns a string indicating that the object is being called.\n",
    "\n",
    "**`__str__` and `__repr` methods seem similar. How do they serve different purposes?**\n",
    "- `str(obj)` method is used to return a string representation of an object that is meant to be human-readable. It is generally used for printing the object, logging, and displaying information to the user.\n",
    "- `repr(obj)` method, on the other hand, is used to return a string representation of an object that is meant to be unambiguous and suitable for debugging. It should ideally return a string that can be used to recreate the object.\n",
    "\n",
    "## Operator Overloading\n",
    "\n",
    "Operator overloading is the ability to redefine the built-in operators such as `+, -, *, /, ==, >, <, and so on` for custom classes. In Python, it is possible to define how these operators should work on objects of user-defined classes by implementing certain special methods called magic methods or dunder methods. There are several magic methods available with python that support `operator overloading`. Here's a list of some of the popular magic methods that support `operator overloading` with python:\n",
    "\n",
    "| Operation | Implementation | Expression |\n",
    "| :-- | :-: | :-: |\n",
    "| Addition | `a + b` | `a.__add__(b)` |\n",
    "| Subtraction | `a  - b` | `a.__sub__(b)` |\n",
    "| Multiplication | `a * b` | `a.__mul__(b)` |\n",
    "| Division | `a / b` | `a.__truediv__(b)` |\n",
    "| Floor Division | `a // b` | `a.__floordiv__(b)` |\n",
    "| Remainder (Modulo) | `a % b` | `a.__mod__(b)` |\n",
    "| Power | `a ** b` | `a.__pow__(b)` |\n",
    "| Equals To | `a == b` | `a.__eq__(b)` |\n",
    "| Less Than | `a < b` | `a.__lt__(b)` |\n",
    "| Greater Than | `a > b` | `a.__gt__(b)` |\n",
    "| Bitwise AND | `a & b` | `a.__and__(b)` |\n",
    "| Bitwise OR | `a \\| b` | `a.__or__(b)` |\n",
    "| Bitwise NOT | `~a` | `a.__invert__()` |\n",
    "| Bitwise XOR | `a ^ b` | `a.__xor__(b)` |\n",
    "| Bitwise Left Shift | `a << b` | `a.__lshift__(b)` |\n",
    "| Bitwise Right Shift | `a >> b` | `a.__rshift__(b)` |"
   ]
  },
  {
   "cell_type": "code",
   "execution_count": 61,
   "id": "73752167",
   "metadata": {},
   "outputs": [
    {
     "name": "stdout",
     "output_type": "stream",
     "text": [
      "(4, 6)\n",
      "(2, 2)\n",
      "(3, 8)\n",
      "(3.0, 2.0)\n",
      "False\n",
      "True\n"
     ]
    }
   ],
   "source": [
    "class Point:\n",
    "    \"\"\"\n",
    "    Operation og 2D points.\n",
    "    \"\"\"\n",
    "    def __init__(self, x, y):\n",
    "        self.x = x\n",
    "        self.y = y\n",
    "\n",
    "    def __str__(self):\n",
    "        return f\"({self.x}, {self.y})\"\n",
    "    \n",
    "    def __add__(self, other):\n",
    "        x = self.x + other.x\n",
    "        y = self.y + other.y\n",
    "        return Point(x, y)\n",
    "    \n",
    "    def __sub__(self, other):\n",
    "        x = self.x - other.x\n",
    "        y = self.y - other.y\n",
    "        return Point(x, y)\n",
    "    \n",
    "    def __mul__(self, other):\n",
    "        x = self.x * other.x\n",
    "        y = self.y * other.y\n",
    "        return Point(x, y)\n",
    "    \n",
    "    def __truediv__(self, other):\n",
    "        x = self.x / other.x\n",
    "        y = self.y / other.y\n",
    "        return Point(x, y)\n",
    "    \n",
    "    def __eq__(self, other):\n",
    "        return self.x == other.x and self.y == other.y\n",
    "    \n",
    "    def __lt__(self, other):\n",
    "        return self.x < other.x and self.y < other.y\n",
    "\n",
    "p1 = Point(1, 2)\n",
    "p2 = Point(3, 4)\n",
    "\n",
    "print(p1 + p2)  # Output: (4, 6)\n",
    "print(p2 - p1)  # Output: (2, 2)\n",
    "print(p1 * p2)  # Output: (3, 8)\n",
    "print(p2 / p1)  # Output: (3.0, 2.0)\n",
    "print(p1 == p2) # Output: False\n",
    "print(p1 < p2)  # Output: True"
   ]
  },
  {
   "cell_type": "code",
   "execution_count": 62,
   "id": "668e80a5-03a0-44ec-a911-672532c49bc8",
   "metadata": {},
   "outputs": [
    {
     "name": "stdout",
     "output_type": "stream",
     "text": [
      "\n",
      "    Operation og 2D points.\n",
      "    \n"
     ]
    }
   ],
   "source": [
    "print(Point.__doc__)"
   ]
  },
  {
   "cell_type": "code",
   "execution_count": 51,
   "id": "ec6e5c58-e17e-4868-9a40-e078d13c859d",
   "metadata": {},
   "outputs": [],
   "source": [
    "import pandas"
   ]
  },
  {
   "cell_type": "code",
   "execution_count": 52,
   "id": "114f4114-f748-47e2-a9f5-da86ec14cbd3",
   "metadata": {},
   "outputs": [
    {
     "data": {
      "text/plain": [
       "['ArrowDtype',\n",
       " 'BooleanDtype',\n",
       " 'Categorical',\n",
       " 'CategoricalDtype',\n",
       " 'CategoricalIndex',\n",
       " 'DataFrame',\n",
       " 'DateOffset',\n",
       " 'DatetimeIndex',\n",
       " 'DatetimeTZDtype',\n",
       " 'ExcelFile',\n",
       " 'ExcelWriter',\n",
       " 'Flags',\n",
       " 'Float32Dtype',\n",
       " 'Float64Dtype',\n",
       " 'Grouper',\n",
       " 'HDFStore',\n",
       " 'Index',\n",
       " 'IndexSlice',\n",
       " 'Int16Dtype',\n",
       " 'Int32Dtype',\n",
       " 'Int64Dtype',\n",
       " 'Int8Dtype',\n",
       " 'Interval',\n",
       " 'IntervalDtype',\n",
       " 'IntervalIndex',\n",
       " 'MultiIndex',\n",
       " 'NA',\n",
       " 'NaT',\n",
       " 'NamedAgg',\n",
       " 'Period',\n",
       " 'PeriodDtype',\n",
       " 'PeriodIndex',\n",
       " 'RangeIndex',\n",
       " 'Series',\n",
       " 'SparseDtype',\n",
       " 'StringDtype',\n",
       " 'Timedelta',\n",
       " 'TimedeltaIndex',\n",
       " 'Timestamp',\n",
       " 'UInt16Dtype',\n",
       " 'UInt32Dtype',\n",
       " 'UInt64Dtype',\n",
       " 'UInt8Dtype',\n",
       " '__all__',\n",
       " '__builtins__',\n",
       " '__cached__',\n",
       " '__doc__',\n",
       " '__docformat__',\n",
       " '__file__',\n",
       " '__git_version__',\n",
       " '__loader__',\n",
       " '__name__',\n",
       " '__package__',\n",
       " '__path__',\n",
       " '__spec__',\n",
       " '__version__',\n",
       " '_built_with_meson',\n",
       " '_config',\n",
       " '_is_numpy_dev',\n",
       " '_libs',\n",
       " '_pandas_datetime_CAPI',\n",
       " '_pandas_parser_CAPI',\n",
       " '_testing',\n",
       " '_typing',\n",
       " '_version_meson',\n",
       " 'annotations',\n",
       " 'api',\n",
       " 'array',\n",
       " 'arrays',\n",
       " 'bdate_range',\n",
       " 'compat',\n",
       " 'concat',\n",
       " 'core',\n",
       " 'crosstab',\n",
       " 'cut',\n",
       " 'date_range',\n",
       " 'describe_option',\n",
       " 'errors',\n",
       " 'eval',\n",
       " 'factorize',\n",
       " 'from_dummies',\n",
       " 'get_dummies',\n",
       " 'get_option',\n",
       " 'infer_freq',\n",
       " 'interval_range',\n",
       " 'io',\n",
       " 'isna',\n",
       " 'isnull',\n",
       " 'json_normalize',\n",
       " 'lreshape',\n",
       " 'melt',\n",
       " 'merge',\n",
       " 'merge_asof',\n",
       " 'merge_ordered',\n",
       " 'notna',\n",
       " 'notnull',\n",
       " 'offsets',\n",
       " 'option_context',\n",
       " 'options',\n",
       " 'pandas',\n",
       " 'period_range',\n",
       " 'pivot',\n",
       " 'pivot_table',\n",
       " 'plotting',\n",
       " 'qcut',\n",
       " 'read_clipboard',\n",
       " 'read_csv',\n",
       " 'read_excel',\n",
       " 'read_feather',\n",
       " 'read_fwf',\n",
       " 'read_gbq',\n",
       " 'read_hdf',\n",
       " 'read_html',\n",
       " 'read_json',\n",
       " 'read_orc',\n",
       " 'read_parquet',\n",
       " 'read_pickle',\n",
       " 'read_sas',\n",
       " 'read_spss',\n",
       " 'read_sql',\n",
       " 'read_sql_query',\n",
       " 'read_sql_table',\n",
       " 'read_stata',\n",
       " 'read_table',\n",
       " 'read_xml',\n",
       " 'reset_option',\n",
       " 'set_eng_float_format',\n",
       " 'set_option',\n",
       " 'show_versions',\n",
       " 'test',\n",
       " 'testing',\n",
       " 'timedelta_range',\n",
       " 'to_datetime',\n",
       " 'to_numeric',\n",
       " 'to_pickle',\n",
       " 'to_timedelta',\n",
       " 'tseries',\n",
       " 'unique',\n",
       " 'util',\n",
       " 'value_counts',\n",
       " 'wide_to_long']"
      ]
     },
     "execution_count": 52,
     "metadata": {},
     "output_type": "execute_result"
    }
   ],
   "source": [
    "dir(pandas)"
   ]
  },
  {
   "cell_type": "code",
   "execution_count": 57,
   "id": "5d28b9bc-b60a-4f2e-acaf-d4cdd1efc1ec",
   "metadata": {},
   "outputs": [
    {
     "name": "stdout",
     "output_type": "stream",
     "text": [
      "\n",
      "pandas - a powerful data analysis and manipulation library for Python\n",
      "=====================================================================\n",
      "\n",
      "**pandas** is a Python package providing fast, flexible, and expressive data\n",
      "structures designed to make working with \"relational\" or \"labeled\" data both\n",
      "easy and intuitive. It aims to be the fundamental high-level building block for\n",
      "doing practical, **real world** data analysis in Python. Additionally, it has\n",
      "the broader goal of becoming **the most powerful and flexible open source data\n",
      "analysis / manipulation tool available in any language**. It is already well on\n",
      "its way toward this goal.\n",
      "\n",
      "Main Features\n",
      "-------------\n",
      "Here are just a few of the things that pandas does well:\n",
      "\n",
      "  - Easy handling of missing data in floating point as well as non-floating\n",
      "    point data.\n",
      "  - Size mutability: columns can be inserted and deleted from DataFrame and\n",
      "    higher dimensional objects\n",
      "  - Automatic and explicit data alignment: objects can be explicitly aligned\n",
      "    to a set of labels, or the user can simply ignore the labels and let\n",
      "    `Series`, `DataFrame`, etc. automatically align the data for you in\n",
      "    computations.\n",
      "  - Powerful, flexible group by functionality to perform split-apply-combine\n",
      "    operations on data sets, for both aggregating and transforming data.\n",
      "  - Make it easy to convert ragged, differently-indexed data in other Python\n",
      "    and NumPy data structures into DataFrame objects.\n",
      "  - Intelligent label-based slicing, fancy indexing, and subsetting of large\n",
      "    data sets.\n",
      "  - Intuitive merging and joining data sets.\n",
      "  - Flexible reshaping and pivoting of data sets.\n",
      "  - Hierarchical labeling of axes (possible to have multiple labels per tick).\n",
      "  - Robust IO tools for loading data from flat files (CSV and delimited),\n",
      "    Excel files, databases, and saving/loading data from the ultrafast HDF5\n",
      "    format.\n",
      "  - Time series-specific functionality: date range generation and frequency\n",
      "    conversion, moving window statistics, date shifting and lagging.\n",
      "\n"
     ]
    }
   ],
   "source": [
    "print(pandas.__doc__)"
   ]
  },
  {
   "cell_type": "code",
   "execution_count": 58,
   "id": "13f2df35-bbbc-40d9-b9fe-fa829ae0d678",
   "metadata": {},
   "outputs": [
    {
     "data": {
      "text/plain": [
       "'2.2.2'"
      ]
     },
     "execution_count": 58,
     "metadata": {},
     "output_type": "execute_result"
    }
   ],
   "source": [
    "pandas.__version__"
   ]
  },
  {
   "cell_type": "code",
   "execution_count": null,
   "id": "f9d220f1-0442-4ac7-8f2b-cac94b68f5cf",
   "metadata": {},
   "outputs": [],
   "source": []
  },
  {
   "cell_type": "markdown",
   "id": "b2eb9916",
   "metadata": {},
   "source": [
    "In this example, the Point class has overloaded various operators such as `+, -, *, /, ==, and <` using the magic methods `add`, `sub`, `mul`, `truediv`, `eq`, and `lt` respectively."
   ]
  }
 ],
 "metadata": {
  "kernelspec": {
   "display_name": "Python 3 (ipykernel)",
   "language": "python",
   "name": "python3"
  },
  "language_info": {
   "codemirror_mode": {
    "name": "ipython",
    "version": 3
   },
   "file_extension": ".py",
   "mimetype": "text/x-python",
   "name": "python",
   "nbconvert_exporter": "python",
   "pygments_lexer": "ipython3",
   "version": "3.10.12"
  }
 },
 "nbformat": 4,
 "nbformat_minor": 5
}
