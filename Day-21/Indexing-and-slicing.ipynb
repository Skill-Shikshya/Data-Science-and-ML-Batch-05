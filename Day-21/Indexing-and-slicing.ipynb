{
 "cells": [
  {
   "cell_type": "code",
   "execution_count": 1,
   "id": "2dfc88af-62a4-4aa1-b1c7-c3590ffd8a8d",
   "metadata": {},
   "outputs": [],
   "source": [
    "import numpy as np"
   ]
  },
  {
   "cell_type": "markdown",
   "id": "437fade2-674f-4a69-98fd-8db497f1cc50",
   "metadata": {},
   "source": [
    "## Indexing and Slicing NumPy Arrays\n",
    "\n",
    "NumPy arrays can be indexed and sliced in several ways depending on the number of dimensions.\n",
    "\n",
    "### Indexing:\n",
    "\n",
    "Indexing follows a simple rule that we may have encountered before. Let's give it a try.\n",
    "\n",
    "- 1D Array: array_name[idx] (Similar to Python list)\n",
    "- 2D Array: array_name[row_idx, col_idx] (Similar to Matrix)\n",
    "- ND Array: array_name[dim1_idx, dim2_idx, ..., dimN_idx]\n",
    "\n",
    "**OR**\n",
    "\n",
    "- 2D Array: array_name[row_idx][col_idx]\n",
    "- ND Array: array_name[dim1_idx][dim2_idx] ... [dimN_idx]\n",
    "\n",
    "\n",
    " ### Slicing:\n",
    "\n",
    "Slicing follows the same rule as indexing. The only difference is that for each dimension we provide it with a range of indeces and sometimes (optional) step size (similar to arange() function discussed above).\n",
    "\n",
    "- 1D Array: array_name[idx1:idx2:step]\n",
    "- 2D Array: array_name[row_idx1:row_idx2:step1, col_idx1:col_idx2:step2]\n",
    "- ND Array: array_name[dim1_idx1:dim1_idx2:step1, ..., dimN_idx1:dimN_idx2:stepN]"
   ]
  },
  {
   "cell_type": "code",
   "execution_count": 2,
   "id": "5ad1b492-a1c2-4d15-8540-9b4482eb69ce",
   "metadata": {},
   "outputs": [],
   "source": [
    "# 1D Array -> Similar to list\n",
    "a = np.array([1,5,3,7])"
   ]
  },
  {
   "cell_type": "code",
   "execution_count": 4,
   "id": "28894b73-4e5d-4acb-89d1-260ff3352794",
   "metadata": {},
   "outputs": [
    {
     "name": "stdout",
     "output_type": "stream",
     "text": [
      "1\n"
     ]
    }
   ],
   "source": [
    "print(a[0])"
   ]
  },
  {
   "cell_type": "code",
   "execution_count": 6,
   "id": "87819051-7eb6-4501-be30-7ac7762bb179",
   "metadata": {},
   "outputs": [
    {
     "name": "stdout",
     "output_type": "stream",
     "text": [
      "[5 7]\n"
     ]
    }
   ],
   "source": [
    "print(a[1::2])"
   ]
  },
  {
   "cell_type": "code",
   "execution_count": 23,
   "id": "3ec92ebb-d664-4bce-9731-304c0003b4f9",
   "metadata": {},
   "outputs": [
    {
     "data": {
      "text/plain": [
       "array([[ 2,  5,  7,  5],\n",
       "       [ 4,  9, 11, 55],\n",
       "       [64,  6, 34, 99],\n",
       "       [64,  6, 34, 33]])"
      ]
     },
     "execution_count": 23,
     "metadata": {},
     "output_type": "execute_result"
    }
   ],
   "source": [
    "# 2D Array > Similar to matrix\n",
    "list2 = [\n",
    "    [2,5,7, 5],\n",
    "    [4, 9,11, 55],\n",
    "    [64, 6,34, 99],\n",
    "    [64, 6,34, 33]\n",
    "    \n",
    "]\n",
    "array2 = np.array(list2)\n",
    "array2"
   ]
  },
  {
   "cell_type": "code",
   "execution_count": 24,
   "id": "ced3b81c-b1c8-4013-a96b-9c9514879859",
   "metadata": {},
   "outputs": [
    {
     "name": "stdout",
     "output_type": "stream",
     "text": [
      "11\n"
     ]
    }
   ],
   "source": [
    "print(array2[1][2])"
   ]
  },
  {
   "cell_type": "code",
   "execution_count": 25,
   "id": "cf2192a7-8686-4525-a419-0c9346dfc79b",
   "metadata": {},
   "outputs": [
    {
     "data": {
      "text/plain": [
       "(4, 4)"
      ]
     },
     "execution_count": 25,
     "metadata": {},
     "output_type": "execute_result"
    }
   ],
   "source": [
    "array2.shape"
   ]
  },
  {
   "cell_type": "code",
   "execution_count": 30,
   "id": "f7064580-d1ee-4126-a033-421023357378",
   "metadata": {},
   "outputs": [
    {
     "name": "stdout",
     "output_type": "stream",
     "text": [
      "[[ 5  7]\n",
      " [ 6 34]]\n"
     ]
    }
   ],
   "source": [
    "# print(array2[<row_slice>, <col_slice>])\n",
    "print(array2[::2, 1:3])"
   ]
  },
  {
   "cell_type": "code",
   "execution_count": 31,
   "id": "c8fbb9cb-82a0-4e96-8232-bfe55b2a5a4c",
   "metadata": {},
   "outputs": [],
   "source": [
    "# ND Array\n",
    "random_array = np.random.randint(low = 10, high = 50, size = (2,3,4))"
   ]
  },
  {
   "cell_type": "code",
   "execution_count": 32,
   "id": "7580fdeb-9f26-4e32-920a-a5bc9d21e736",
   "metadata": {},
   "outputs": [
    {
     "name": "stdout",
     "output_type": "stream",
     "text": [
      "[[[17 28 17 46]\n",
      "  [14 43 27 33]\n",
      "  [35 14 43 15]]\n",
      "\n",
      " [[31 35 29 15]\n",
      "  [27 22 10 24]\n",
      "  [44 25 25 16]]]\n"
     ]
    }
   ],
   "source": [
    "print(random_array)"
   ]
  },
  {
   "cell_type": "code",
   "execution_count": 36,
   "id": "a0c5cb03-a442-45d2-9299-c7c29cf10f56",
   "metadata": {},
   "outputs": [
    {
     "name": "stdout",
     "output_type": "stream",
     "text": [
      "43\n"
     ]
    }
   ],
   "source": [
    "# Find element : 1st Matrix , 2x2 element\n",
    "print(random_array[0,2,2])"
   ]
  },
  {
   "cell_type": "code",
   "execution_count": 38,
   "id": "fd85ab64-7dcc-4582-9f23-dad021a66b55",
   "metadata": {},
   "outputs": [
    {
     "name": "stdout",
     "output_type": "stream",
     "text": [
      "[[[17 28 17 46]\n",
      "  [14 43 27 33]\n",
      "  [35 14 43 15]]]\n"
     ]
    }
   ],
   "source": [
    "print(random_array[::2,:3,:4])"
   ]
  },
  {
   "cell_type": "code",
   "execution_count": 49,
   "id": "a164bea3-1ad7-41f6-b4e9-79bb4d17991e",
   "metadata": {},
   "outputs": [
    {
     "name": "stdout",
     "output_type": "stream",
     "text": [
      "[[35 29 15]]\n"
     ]
    }
   ],
   "source": [
    "print(random_array[-1, 0:-2, 1:])"
   ]
  },
  {
   "cell_type": "code",
   "execution_count": null,
   "id": "f18e50c6-31cc-48d6-a9a2-f59dae8ba0cf",
   "metadata": {},
   "outputs": [],
   "source": []
  },
  {
   "cell_type": "code",
   "execution_count": 51,
   "id": "e0449dd5-6844-4003-a442-f3e257f177bc",
   "metadata": {},
   "outputs": [
    {
     "name": "stdout",
     "output_type": "stream",
     "text": [
      "(10, 16, 8)\n"
     ]
    }
   ],
   "source": [
    "random_array1 = np.random.randint(low = 10, high = 50, size = (10,16,8))\n",
    "print(random_array1.shape)"
   ]
  },
  {
   "cell_type": "code",
   "execution_count": 55,
   "id": "a336aa1d-cace-41e5-bdf6-880d31ad9679",
   "metadata": {},
   "outputs": [
    {
     "data": {
      "text/plain": [
       "array([[[43, 41, 30, 20, 21, 20, 47, 44],\n",
       "        [49, 26, 46, 32, 43, 45, 31, 20],\n",
       "        [12, 12, 32, 45, 31, 32, 24, 43],\n",
       "        [36, 39, 16, 45, 44, 10, 38, 42]]])"
      ]
     },
     "execution_count": 55,
     "metadata": {},
     "output_type": "execute_result"
    }
   ],
   "source": [
    "random_array1[4:5,:4]"
   ]
  },
  {
   "cell_type": "code",
   "execution_count": null,
   "id": "d0cbe82d-729a-4cc7-adb9-9099f779a3a5",
   "metadata": {},
   "outputs": [],
   "source": []
  },
  {
   "cell_type": "markdown",
   "id": "a4c123aa-cbfb-42dd-b17e-0b9694530465",
   "metadata": {},
   "source": [
    "### Boolean or Mask Indexing:\n",
    "\n",
    "Boolean or mask indexing is a powerful feature in NumPy that allows you to use boolean arrays (or masks) to select elements from another array. The basic idea behind boolean indexing is to create a boolean array with the same shape as the array you want to select from, where each element of the boolean array corresponds to whether or not you want to select the corresponding element from the other array."
   ]
  },
  {
   "cell_type": "code",
   "execution_count": 57,
   "id": "502d6320-2036-48fa-92b5-48cb85dba78a",
   "metadata": {},
   "outputs": [
    {
     "name": "stdout",
     "output_type": "stream",
     "text": [
      "[[1 2]\n",
      " [3 4]\n",
      " [5 6]]\n"
     ]
    }
   ],
   "source": [
    "a = np.array([[1, 2], [3, 4], [5, 6]])\n",
    "print(a)"
   ]
  },
  {
   "cell_type": "code",
   "execution_count": 72,
   "id": "7a536dea-0d9c-4a2b-ad93-5ac6e8d3a2c0",
   "metadata": {},
   "outputs": [
    {
     "data": {
      "text/plain": [
       "array([[ True,  True],\n",
       "       [ True, False],\n",
       "       [False, False]])"
      ]
     },
     "execution_count": 72,
     "metadata": {},
     "output_type": "execute_result"
    }
   ],
   "source": [
    "mask = a < 4\n",
    "mask"
   ]
  },
  {
   "cell_type": "code",
   "execution_count": 67,
   "id": "3f479a1c-18d5-47b4-9e58-6af258760383",
   "metadata": {},
   "outputs": [
    {
     "name": "stdout",
     "output_type": "stream",
     "text": [
      "[1 2 3]\n"
     ]
    }
   ],
   "source": [
    "print(a[mask])"
   ]
  },
  {
   "cell_type": "code",
   "execution_count": null,
   "id": "48b409a6-7384-46ca-a2b6-c7fec3a748e0",
   "metadata": {},
   "outputs": [],
   "source": []
  },
  {
   "cell_type": "code",
   "execution_count": 70,
   "id": "93592c58-1995-44bd-ac8d-fdbcb85c37ba",
   "metadata": {},
   "outputs": [
    {
     "name": "stdout",
     "output_type": "stream",
     "text": [
      "[[1 2]\n",
      " [3 4]\n",
      " [5 6]]\n",
      "[ True False  True]\n"
     ]
    }
   ],
   "source": [
    "a = np.array([[1, 2], [3, 4], [5, 6]])\n",
    "mask = np.array([True, False, True])\n",
    "print(a)\n",
    "print(mask)"
   ]
  },
  {
   "cell_type": "code",
   "execution_count": 71,
   "id": "733c1f02-007a-45a2-be5f-401da26b1555",
   "metadata": {},
   "outputs": [
    {
     "data": {
      "text/plain": [
       "array([[1, 2],\n",
       "       [5, 6]])"
      ]
     },
     "execution_count": 71,
     "metadata": {},
     "output_type": "execute_result"
    }
   ],
   "source": [
    "a[mask]"
   ]
  },
  {
   "cell_type": "code",
   "execution_count": null,
   "id": "5ed3eda7-0f40-45fb-b921-bb07612db905",
   "metadata": {},
   "outputs": [],
   "source": []
  }
 ],
 "metadata": {
  "kernelspec": {
   "display_name": "Python 3 (ipykernel)",
   "language": "python",
   "name": "python3"
  },
  "language_info": {
   "codemirror_mode": {
    "name": "ipython",
    "version": 3
   },
   "file_extension": ".py",
   "mimetype": "text/x-python",
   "name": "python",
   "nbconvert_exporter": "python",
   "pygments_lexer": "ipython3",
   "version": "3.10.12"
  }
 },
 "nbformat": 4,
 "nbformat_minor": 5
}
