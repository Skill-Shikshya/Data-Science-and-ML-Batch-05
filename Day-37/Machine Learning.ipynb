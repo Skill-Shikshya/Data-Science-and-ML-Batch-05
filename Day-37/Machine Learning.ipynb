{
 "cells": [
  {
   "cell_type": "markdown",
   "id": "ef3c58d0-d1a5-476b-b16d-16d10f9b6590",
   "metadata": {},
   "source": [
    "# Machine Learning\n",
    "\n",
    "Machine learning is a branch of artificial intelligence (AI) that involves developing algorithms and statistical models that enable computers to automatically learn from data without being explicitly programmed. In machine learning, algorithms use data to identify patterns and make decisions with minimal human intervention. Machine learning is used in a wide range of applications, from self-driving cars and facial recognition technology to medical diagnosis and natural language processing."
   ]
  },
  {
   "cell_type": "markdown",
   "id": "2c8185d1-6ee3-4db9-8770-9f8c4e895692",
   "metadata": {},
   "source": [
    "### Major Approaches of ML\n",
    "\n",
    "1. **Supervised learning:** This approach involves using a labeled dataset to train a model that can predict output values for new input data. It is called \"supervised\" because the training data includes the correct answers, and the goal is for the model to learn how to produce the correct output for new, unseen data."
   ]
  },
  {
   "cell_type": "markdown",
   "id": "03692488-c1d5-4026-b9f8-f252d1a8fe56",
   "metadata": {},
   "source": [
    "2. **Unsupervised learning:** This approach involves using an unlabeled dataset to train a model that can identify patterns or structure in the data. There is no \"correct answer\" to learn from, so the model is typically used for tasks like clustering, where similar data points are grouped together."
   ]
  },
  {
   "cell_type": "markdown",
   "id": "8ba11aa8-0bb4-48ec-8598-a45d39e750f7",
   "metadata": {},
   "source": [
    "3. **Reinforcement learning:** This approach involves training a model to make decisions based on rewards or penalties received in response to its actions. The goal is for the model to learn to take actions that maximize its cumulative reward over time. This approach is often used in areas like game-playing and robotics, where an agent must learn to navigate an environment and make decisions based on feedback."
   ]
  },
  {
   "cell_type": "markdown",
   "id": "a9140534-845f-44c8-b1be-0cf040ebbc80",
   "metadata": {},
   "source": [
    "## Terminology\n",
    "\n",
    "1. Dataset\n",
    "2. Training and Testing Set"
   ]
  },
  {
   "cell_type": "code",
   "execution_count": null,
   "id": "7746bc0c-f0f5-43f1-ba38-aaf5a4a4e61c",
   "metadata": {},
   "outputs": [],
   "source": []
  },
  {
   "cell_type": "markdown",
   "id": "9bd9dfa2-b385-4daa-abc8-7d8174212e4a",
   "metadata": {},
   "source": [
    "# Supervised learning"
   ]
  },
  {
   "cell_type": "markdown",
   "id": "0c287961-bf8b-4e7e-be53-79f48ceab9ba",
   "metadata": {},
   "source": [
    "1. Classification Algo\n",
    "    * Logistic Regression\n",
    "    * Naive Bayes\n",
    "    * Decision Trees\n",
    "    * Neural Classification"
   ]
  },
  {
   "cell_type": "markdown",
   "id": "d81970d2-de6f-4074-b301-82a054630c01",
   "metadata": {},
   "source": [
    "2. Regression Algo\n",
    "   * Linear Regression\n",
    "   * Neural Regression\n",
    "   * SVM"
   ]
  },
  {
   "cell_type": "code",
   "execution_count": null,
   "id": "262f2e6b-b10c-44a5-ab89-60022113ea40",
   "metadata": {},
   "outputs": [],
   "source": []
  }
 ],
 "metadata": {
  "kernelspec": {
   "display_name": "Python 3 (ipykernel)",
   "language": "python",
   "name": "python3"
  },
  "language_info": {
   "codemirror_mode": {
    "name": "ipython",
    "version": 3
   },
   "file_extension": ".py",
   "mimetype": "text/x-python",
   "name": "python",
   "nbconvert_exporter": "python",
   "pygments_lexer": "ipython3",
   "version": "3.10.12"
  }
 },
 "nbformat": 4,
 "nbformat_minor": 5
}
