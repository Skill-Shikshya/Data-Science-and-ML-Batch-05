{
 "cells": [
  {
   "cell_type": "markdown",
   "id": "5483bca1-a277-48ec-842a-80121b1ea44e",
   "metadata": {},
   "source": [
    "# Linear Regression\n",
    "\n",
    "Linear regression is a widely used statistical technique for modeling the relationship between a dependent variable and one or more independent variables. It assumes a linear relationship between the variables and aims to find the best-fit line that minimizes the difference between the predicted and actual values. The goal of linear regression is to make predictions or understand the impact of independent variables on the dependent variable."
   ]
  },
  {
   "cell_type": "markdown",
   "id": "c682a0b0-7a9f-46cb-8f49-2caaa300643b",
   "metadata": {},
   "source": [
    "In simple linear regression, we consider a single independent variable and a single dependent variable. The relationship between the variables can be represented by the equation:\n",
    "\n",
    "$y = mx + c$\n",
    "\n",
    "Where:\n",
    "\n",
    "- `y` is the dependent variable\n",
    "- `x` is the independent variable\n",
    "- `c` is the y-intercept (the value of `y` when `x` is 0)\n",
    "- `m` is the slope (the change in `y` for a unit change in `x`)\n",
    "\n",
    "In higher dimension this equation becomes:\n",
    "\n",
    "$y = wx + b$\n",
    "\n",
    "The goal is to estimate the values of $w$ and $b$ that best fit the data."
   ]
  },
  {
   "cell_type": "code",
   "execution_count": null,
   "id": "bf33ba1f-e50e-447b-be46-887db5cadc5b",
   "metadata": {},
   "outputs": [],
   "source": []
  }
 ],
 "metadata": {
  "kernelspec": {
   "display_name": "Python 3 (ipykernel)",
   "language": "python",
   "name": "python3"
  },
  "language_info": {
   "codemirror_mode": {
    "name": "ipython",
    "version": 3
   },
   "file_extension": ".py",
   "mimetype": "text/x-python",
   "name": "python",
   "nbconvert_exporter": "python",
   "pygments_lexer": "ipython3",
   "version": "3.10.12"
  }
 },
 "nbformat": 4,
 "nbformat_minor": 5
}
