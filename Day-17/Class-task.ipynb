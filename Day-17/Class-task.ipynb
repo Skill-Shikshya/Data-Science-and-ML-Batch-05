{
 "cells": [
  {
   "cell_type": "markdown",
   "id": "50d129c1-65aa-449f-a6f6-339f79d8b5c9",
   "metadata": {},
   "source": [
    "## Custom Exception: \n",
    "\n",
    "Define a custom exception NegativeNumberError. Write a function sqrt_of_number that calculates the square root of a number but raises NegativeNumberError if the input is a negative number.\n",
    "\n",
    "```python\n",
    "class NegativeNumberError(Exception):\n",
    "    pass\n",
    "\n",
    "def sqrt_of_number(x):\n",
    "    # Your code here\n",
    "```"
   ]
  },
  {
   "cell_type": "code",
   "execution_count": 15,
   "id": "1274ace6-77dd-4942-9609-699043b87f5f",
   "metadata": {},
   "outputs": [],
   "source": [
    "from math import sqrt\n",
    "\n",
    "class NegativeNumberError(Exception):\n",
    "    pass\n",
    "\n",
    "def sqrt_of_number(x: int | float) -> float:\n",
    "    \"\"\"Calculate square root of a given number\n",
    "\n",
    "    Parameters\n",
    "    ----------\n",
    "    x : int | float\n",
    "        Input number to calculate sqrt\n",
    "\n",
    "    Returns\n",
    "    -------\n",
    "    float\n",
    "        Result of sqrt function\n",
    "\n",
    "    Raises\n",
    "    ------\n",
    "    NegativeNumberError\n",
    "        raise error when input number is neagtive\n",
    "    \"\"\"\n",
    "    if x < 0:\n",
    "        raise NegativeNumberError(\"Cannot calculate sq.root of negative number\")\n",
    "\n",
    "    return sqrt(x)"
   ]
  },
  {
   "cell_type": "code",
   "execution_count": null,
   "id": "2a49886e-840a-417a-bf62-9503686e09c9",
   "metadata": {},
   "outputs": [],
   "source": [
    "sqrt_of_number(-4)"
   ]
  },
  {
   "cell_type": "code",
   "execution_count": 14,
   "id": "c2adc629-110f-43af-8291-34d55d40f354",
   "metadata": {},
   "outputs": [
    {
     "name": "stdout",
     "output_type": "stream",
     "text": [
      "Cannot calculate sq.root of negative number\n"
     ]
    }
   ],
   "source": [
    "try:\n",
    "    print(f\"Square Root : {sqrt_of_number(-4)}\")\n",
    "except NegativeNumberError as neg_error:\n",
    "    print(neg_error)\n",
    "except Exception as ex:\n",
    "    print(f\"Error with function : {ex}\")\n",
    "    "
   ]
  },
  {
   "cell_type": "code",
   "execution_count": null,
   "id": "fec98416-1263-4508-8258-13e05e6e63ed",
   "metadata": {},
   "outputs": [],
   "source": []
  }
 ],
 "metadata": {
  "kernelspec": {
   "display_name": "Python 3 (ipykernel)",
   "language": "python",
   "name": "python3"
  },
  "language_info": {
   "codemirror_mode": {
    "name": "ipython",
    "version": 3
   },
   "file_extension": ".py",
   "mimetype": "text/x-python",
   "name": "python",
   "nbconvert_exporter": "python",
   "pygments_lexer": "ipython3",
   "version": "3.10.12"
  }
 },
 "nbformat": 4,
 "nbformat_minor": 5
}
