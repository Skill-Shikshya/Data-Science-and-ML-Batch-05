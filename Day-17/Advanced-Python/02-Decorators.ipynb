{
 "cells": [
  {
   "cell_type": "markdown",
   "metadata": {},
   "source": [
    "# Python Decorators\n",
    "\n",
    "In Python, a decorator is a special kind of function that can be used to modify the behavior of another function. Decorators are indicated by the `@` symbol followed by the name of the decorator function, and they are placed immediately before the function that they modify. Here's an example:"
   ]
  },
  {
   "cell_type": "code",
   "execution_count": null,
   "metadata": {},
   "outputs": [],
   "source": []
  },
  {
   "cell_type": "code",
   "execution_count": 3,
   "metadata": {},
   "outputs": [],
   "source": [
    "def my_decorator(func):\n",
    "    def wrapper():\n",
    "        print(\"Before function execution\")\n",
    "        func()\n",
    "        print(\"After function execution\")\n",
    "    return wrapper\n"
   ]
  },
  {
   "cell_type": "code",
   "execution_count": null,
   "metadata": {},
   "outputs": [],
   "source": []
  },
  {
   "cell_type": "code",
   "execution_count": 4,
   "metadata": {},
   "outputs": [],
   "source": [
    "@my_decorator\n",
    "def say_hello():\n",
    "    print(\"Hello, world!\")"
   ]
  },
  {
   "cell_type": "code",
   "execution_count": 8,
   "metadata": {},
   "outputs": [
    {
     "name": "stdout",
     "output_type": "stream",
     "text": [
      "Before function execution\n",
      "Hello, world!\n",
      "After function execution\n"
     ]
    }
   ],
   "source": [
    "say_hello()"
   ]
  },
  {
   "cell_type": "markdown",
   "metadata": {},
   "source": [
    "In this example, we define a decorator function `my_decorator` that takes a function `func` as an argument. The decorator function defines an inner function `wrapper` that prints a message before and after calling the original function `func`. The decorator function then returns the `wrapper` function.\n",
    "\n",
    "To apply the decorator to a function, we simply add the `@my_decorator` annotation immediately before the function definition. In this case, we are decorating the `say_hello` function. When we call `say_hello()`, the decorator function `my_decorator` is called with `say_hello` as its argument. The decorator returns the `wrapper` function, which is then used to call the original `say_hello` function.\n",
    "\n",
    "Decorators can also take arguments. For example:"
   ]
  },
  {
   "cell_type": "code",
   "execution_count": 8,
   "metadata": {},
   "outputs": [],
   "source": [
    "import time\n",
    "\n",
    "def repeat(n):\n",
    "    \n",
    "    def decorator(my_func):\n",
    "        \n",
    "        def wrapper(*args, **kwargs):\n",
    "            \n",
    "            print(f\"It will run {n} times\")\n",
    "            \n",
    "            for i in range(n):\n",
    "                my_func(*args, **kwargs)\n",
    "                time.sleep(1)\n",
    "                \n",
    "        return wrapper\n",
    "        \n",
    "    return decorator\n"
   ]
  },
  {
   "cell_type": "code",
   "execution_count": 9,
   "metadata": {},
   "outputs": [
    {
     "name": "stdout",
     "output_type": "stream",
     "text": [
      "It will run 3 times\n",
      "Hello, Alice!\n",
      "Hello, Alice!\n",
      "Hello, Alice!\n"
     ]
    }
   ],
   "source": [
    "@repeat(3)\n",
    "def say_hello(name):\n",
    "    print(f\"Hello, {name}!\")\n",
    "\n",
    "say_hello(\"Alice\")"
   ]
  },
  {
   "cell_type": "markdown",
   "metadata": {},
   "source": [
    "In this example, `repeat` is a function that takes an argument `n` and returns another function `decorator`. The `decorator` function takes a function `func` as an argument and returns a new function `wrapper`. The `wrapper` function takes any number of positional and keyword arguments, calls `func` with those arguments `n` times, and discards the results.\n",
    "\n",
    "The `@repeat(3)` syntax is a shorthand way of applying the `repeat` decorator to the `say_hello` function with an argument of `3`. It's equivalent to calling `say_hello` = `repeat(3)(say_hello)`.\n",
    "\n",
    "Notice that the `wrapper` function called `say_hello` three times."
   ]
  },
  {
   "cell_type": "code",
   "execution_count": null,
   "metadata": {},
   "outputs": [],
   "source": []
  },
  {
   "cell_type": "code",
   "execution_count": 33,
   "metadata": {},
   "outputs": [],
   "source": [
    "def validate_email(func):\n",
    "    def wrapper(user_email):\n",
    "        if user_email.endswith(\"@vrit.com\"):\n",
    "            func(user_email)\n",
    "        else:\n",
    "            print(\"Only Vrit client are supported\")\n",
    "    return wrapper\n"
   ]
  },
  {
   "cell_type": "code",
   "execution_count": 34,
   "metadata": {},
   "outputs": [],
   "source": [
    "@validate_email\n",
    "def get_data(email):\n",
    "    print(\"Accessing DB ..\")\n",
    "    print(f\"Data Fetched by {email}\")\n",
    "    "
   ]
  },
  {
   "cell_type": "code",
   "execution_count": 35,
   "metadata": {},
   "outputs": [
    {
     "name": "stdout",
     "output_type": "stream",
     "text": [
      "Accessing DB ..\n",
      "Data Fetched by shailesh@vrit.com\n"
     ]
    }
   ],
   "source": [
    "get_data(\"shailesh@vrit.com\")"
   ]
  },
  {
   "cell_type": "code",
   "execution_count": null,
   "metadata": {},
   "outputs": [],
   "source": []
  },
  {
   "cell_type": "markdown",
   "metadata": {},
   "source": [
    "## Function Timing Decorator: \n",
    "\n",
    "Write a decorator `time_it` that measures the time it takes for a function to execute. \n",
    "\n",
    "*Apply it to a function slow_function that sleeps for 2 seconds and prints \"Done sleeping\".*\n",
    "\n"
   ]
  },
  {
   "cell_type": "code",
   "execution_count": 61,
   "metadata": {},
   "outputs": [],
   "source": [
    "import time\n",
    "\n",
    "def time_it(func):\n",
    "    \n",
    "    def wrapper(*args, **kwargs):\n",
    "        st = time.time()\n",
    "        result = func(*args, **kwargs)\n",
    "        ed = time.time()\n",
    "        print(f\"Time Taken: {ed - st}\")\n",
    "        return result\n",
    "        \n",
    "    return wrapper\n",
    "\n"
   ]
  },
  {
   "cell_type": "code",
   "execution_count": 62,
   "metadata": {},
   "outputs": [],
   "source": [
    "@time_it\n",
    "def slow_function ():\n",
    "    time.sleep(2)\n",
    "    print(\"Done Sleeping!\")\n",
    "\n",
    "@time_it\n",
    "def find_square(x : int):\n",
    "    time.sleep(1.5)\n",
    "    return x * x\n",
    "\n",
    "@time_it\n",
    "def get_full_name(first, last, middel = \"\" ):\n",
    "    return f\"{first} {middel} {last}\"\n",
    "\n"
   ]
  },
  {
   "cell_type": "code",
   "execution_count": 63,
   "metadata": {},
   "outputs": [
    {
     "name": "stdout",
     "output_type": "stream",
     "text": [
      "Done Sleeping!\n",
      "Time Taken: 2.0016469955444336\n",
      "result None\n"
     ]
    }
   ],
   "source": [
    "res = slow_function()\n",
    "print(\"result\", res)"
   ]
  },
  {
   "cell_type": "code",
   "execution_count": 64,
   "metadata": {},
   "outputs": [
    {
     "name": "stdout",
     "output_type": "stream",
     "text": [
      "Time Taken: 1.5015864372253418\n",
      "Square is 36\n"
     ]
    }
   ],
   "source": [
    "sq = find_square(6)\n",
    "print(f\"Square is {sq}\")"
   ]
  },
  {
   "cell_type": "code",
   "execution_count": 66,
   "metadata": {},
   "outputs": [
    {
     "name": "stdout",
     "output_type": "stream",
     "text": [
      "Time Taken: 2.6226043701171875e-06\n",
      "hari  rai\n"
     ]
    }
   ],
   "source": [
    "name = get_full_name(first = \"hari\" , last = \"rai\")\n",
    "print(name)"
   ]
  },
  {
   "cell_type": "code",
   "execution_count": null,
   "metadata": {},
   "outputs": [],
   "source": []
  },
  {
   "cell_type": "code",
   "execution_count": null,
   "metadata": {},
   "outputs": [],
   "source": []
  },
  {
   "cell_type": "code",
   "execution_count": 72,
   "metadata": {},
   "outputs": [],
   "source": [
    "# Decorator for caching results\n",
    "def cache_results(func):\n",
    "    cache = {}\n",
    "\n",
    "    def wrapper(n):\n",
    "        if n in cache:\n",
    "            return cache[n]\n",
    "        result = func(n)\n",
    "        cache[n] = result\n",
    "        return result\n",
    "\n",
    "    return wrapper"
   ]
  },
  {
   "cell_type": "code",
   "execution_count": 77,
   "metadata": {},
   "outputs": [],
   "source": [
    "@cache_results\n",
    "def fibonacci(n : int):\n",
    "    if n <= 1:\n",
    "        return n\n",
    "    else:\n",
    "        return fibonacci(n-1) + fibonacci(n-2)"
   ]
  },
  {
   "cell_type": "code",
   "execution_count": 78,
   "metadata": {},
   "outputs": [
    {
     "name": "stdout",
     "output_type": "stream",
     "text": [
      "Time Taken: 2.384185791015625e-07\n",
      "Time Taken: 7.152557373046875e-07\n",
      "Time Taken: 4.9114227294921875e-05\n",
      "Time Taken: 2.384185791015625e-07\n",
      "Time Taken: 5.602836608886719e-05\n",
      "Time Taken: 0.0\n",
      "Time Taken: 6.341934204101562e-05\n",
      "Time Taken: 0.0\n",
      "Time Taken: 6.961822509765625e-05\n",
      "Time Taken: 2.384185791015625e-07\n",
      "Time Taken: 7.581710815429688e-05\n",
      "Time Taken: 0.0\n",
      "Time Taken: 8.344650268554688e-05\n",
      "Time Taken: 0.0\n",
      "Time Taken: 8.988380432128906e-05\n",
      "Time Taken: 2.384185791015625e-07\n",
      "Time Taken: 9.584426879882812e-05\n",
      "Time Taken: 4.76837158203125e-07\n",
      "Time Taken: 0.00010347366333007812\n",
      "Time Taken: 2.384185791015625e-07\n",
      "Time Taken: 0.00010991096496582031\n",
      "Time Taken: 0.0\n",
      "Time Taken: 0.00011610984802246094\n",
      "Time Taken: 2.384185791015625e-07\n",
      "Time Taken: 0.00012373924255371094\n",
      "Time Taken: 4.76837158203125e-07\n",
      "Time Taken: 0.00012969970703125\n",
      "Time Taken: 2.384185791015625e-07\n",
      "Time Taken: 0.0001385211944580078\n",
      "Time Taken: 2.384185791015625e-07\n",
      "Time Taken: 0.00014400482177734375\n",
      "Time Taken: 0.0\n",
      "Time Taken: 0.00014972686767578125\n",
      "Time Taken: 0.0\n",
      "Time Taken: 0.000156402587890625\n",
      "Time Taken: 2.384185791015625e-07\n",
      "Time Taken: 0.00016260147094726562\n",
      "Time Taken: 0.0\n",
      "Time Taken: 0.0001678466796875\n",
      "Time Taken: 0.0\n",
      "Time Taken: 0.0001800060272216797\n",
      "Time Taken: 2.384185791015625e-07\n",
      "Time Taken: 0.0001857280731201172\n",
      "Time Taken: 2.384185791015625e-07\n",
      "Time Taken: 0.0001914501190185547\n",
      "Time Taken: 0.0\n",
      "Time Taken: 0.0001976490020751953\n",
      "Time Taken: 4.76837158203125e-07\n",
      "Time Taken: 0.00020384788513183594\n",
      "Time Taken: 0.0\n",
      "Time Taken: 0.000209808349609375\n",
      "Time Taken: 0.0\n",
      "Time Taken: 0.00021576881408691406\n",
      "Time Taken: 0.0\n",
      "Time Taken: 0.00022149085998535156\n",
      "Time Taken: 0.0\n",
      "Time Taken: 0.00022745132446289062\n",
      "Time Taken: 2.384185791015625e-07\n",
      "Time Taken: 0.00023436546325683594\n",
      "Time Taken: 0.0\n",
      "Time Taken: 0.00024056434631347656\n",
      "Time Taken: 2.384185791015625e-07\n",
      "Time Taken: 0.00024700164794921875\n",
      "Time Taken: 0.0\n",
      "Time Taken: 0.0002529621124267578\n",
      "Time Taken: 2.384185791015625e-07\n",
      "Time Taken: 0.00025916099548339844\n",
      "Time Taken: 2.384185791015625e-07\n",
      "Time Taken: 0.00026607513427734375\n",
      "Time Taken: 0.0\n",
      "Time Taken: 0.00027179718017578125\n",
      "Time Taken: 0.0\n",
      "Time Taken: 0.00027751922607421875\n",
      "Time Taken: 2.384185791015625e-07\n",
      "Time Taken: 0.0002846717834472656\n",
      "Time Taken: 2.384185791015625e-07\n",
      "Time Taken: 0.0002913475036621094\n",
      "Time Taken: 2.384185791015625e-07\n",
      "Time Taken: 0.00029730796813964844\n",
      "Time Taken: 0.0\n",
      "Time Taken: 0.00031113624572753906\n",
      "Time Taken: 2.384185791015625e-07\n",
      "Time Taken: 0.0003178119659423828\n",
      "Time Taken: 2.384185791015625e-07\n",
      "Time Taken: 0.00032401084899902344\n",
      "Time Taken: 0.0\n",
      "Time Taken: 0.0003292560577392578\n",
      "Time Taken: 2.384185791015625e-07\n",
      "Time Taken: 0.000335693359375\n",
      "Time Taken: 2.384185791015625e-07\n",
      "Time Taken: 0.0003414154052734375\n",
      "Time Taken: 2.384185791015625e-07\n",
      "Time Taken: 0.0003478527069091797\n",
      "Time Taken: 0.0\n",
      "Time Taken: 0.0003535747528076172\n",
      "Time Taken: 4.76837158203125e-07\n",
      "Time Taken: 0.0003592967987060547\n",
      "Time Taken: 2.384185791015625e-07\n",
      "Time Taken: 0.00036525726318359375\n",
      "Time Taken: 0.0\n",
      "Time Taken: 0.00037097930908203125\n",
      "Time Taken: 0.0\n",
      "Time Taken: 0.00037789344787597656\n",
      "Time Taken: 2.384185791015625e-07\n",
      "Time Taken: 0.0003840923309326172\n",
      "Time Taken: 0.0\n",
      "Time Taken: 0.0003898143768310547\n",
      "Time Taken: 2.384185791015625e-07\n",
      "Time Taken: 0.0003960132598876953\n",
      "Time Taken: 0.0\n",
      "Time Taken: 0.0004017353057861328\n",
      "Time Taken: 4.76837158203125e-07\n",
      "Time Taken: 0.0004074573516845703\n",
      "Time Taken: 2.384185791015625e-07\n",
      "Time Taken: 0.00041365623474121094\n",
      "Time Taken: 2.384185791015625e-07\n",
      "Time Taken: 0.00041985511779785156\n",
      "Time Taken: 2.384185791015625e-07\n",
      "Time Taken: 0.0004260540008544922\n",
      "Time Taken: 2.384185791015625e-07\n",
      "Time Taken: 0.00043201446533203125\n",
      "Time Taken: 2.384185791015625e-07\n",
      "Time Taken: 0.000438690185546875\n",
      "Time Taken: 0.0\n",
      "Time Taken: 0.00044417381286621094\n",
      "Time Taken: 0.0\n",
      "Time Taken: 0.00044989585876464844\n",
      "Time Taken: 0.0\n",
      "Time Taken: 0.0004570484161376953\n",
      "Time Taken: 2.384185791015625e-07\n",
      "Time Taken: 0.0004642009735107422\n",
      "Time Taken: 2.384185791015625e-07\n",
      "Time Taken: 0.0004703998565673828\n",
      "Time Taken: 0.0\n",
      "Time Taken: 0.0004761219024658203\n",
      "Time Taken: 0.0\n",
      "Time Taken: 0.00048160552978515625\n",
      "Time Taken: 2.384185791015625e-07\n",
      "Time Taken: 0.00048804283142089844\n",
      "Time Taken: 0.0\n",
      "Time Taken: 0.0004932880401611328\n",
      "Time Taken: 2.384185791015625e-07\n",
      "Time Taken: 0.0004994869232177734\n",
      "Time Taken: 0.0\n",
      "Time Taken: 0.0005047321319580078\n",
      "Time Taken: 0.0\n",
      "Time Taken: 0.0005104541778564453\n",
      "Time Taken: 0.0\n",
      "Time Taken: 0.0005161762237548828\n",
      "Time Taken: 0.0\n",
      "Time Taken: 0.0005218982696533203\n",
      "Time Taken: 2.384185791015625e-07\n",
      "Time Taken: 0.0005283355712890625\n",
      "Time Taken: 2.384185791015625e-07\n",
      "Time Taken: 0.0005345344543457031\n",
      "Time Taken: 0.0\n",
      "Time Taken: 0.0005407333374023438\n",
      "Time Taken: 2.384185791015625e-07\n",
      "Time Taken: 0.0005469322204589844\n",
      "Time Taken: 0.0\n",
      "Time Taken: 0.000553131103515625\n",
      "Time Taken: 2.384185791015625e-07\n",
      "Time Taken: 0.0005595684051513672\n",
      "Time Taken: 0.0\n",
      "Time Taken: 0.0005657672882080078\n",
      "Time Taken: 0.0\n",
      "Time Taken: 0.0005717277526855469\n",
      "Time Taken: 2.384185791015625e-07\n",
      "Time Taken: 0.0005791187286376953\n",
      "Time Taken: 2.384185791015625e-07\n",
      "Time Taken: 0.0005855560302734375\n",
      "Time Taken: 2.384185791015625e-07\n",
      "Time Taken: 0.0005917549133300781\n",
      "Time Taken: 0.0\n",
      "Time Taken: 0.0005974769592285156\n",
      "Time Taken: 2.384185791015625e-07\n",
      "Time Taken: 0.0006041526794433594\n",
      "Time Taken: 0.0\n",
      "Time Taken: 0.0006108283996582031\n",
      "Time Taken: 2.384185791015625e-07\n",
      "Time Taken: 0.0006175041198730469\n",
      "Time Taken: 2.384185791015625e-07\n",
      "Time Taken: 0.0006248950958251953\n",
      "Time Taken: 0.0\n",
      "Time Taken: 0.0006310939788818359\n",
      "Time Taken: 4.76837158203125e-07\n",
      "Time Taken: 0.0006372928619384766\n",
      "Time Taken: 0.0\n",
      "Time Taken: 0.0006439685821533203\n",
      "Time Taken: 2.384185791015625e-07\n",
      "Time Taken: 0.0006511211395263672\n",
      "Time Taken: 0.0\n",
      "Time Taken: 0.0006577968597412109\n",
      "Time Taken: 2.384185791015625e-07\n",
      "Time Taken: 0.00066375732421875\n",
      "Time Taken: 0.0\n",
      "Time Taken: 0.0006697177886962891\n",
      "Time Taken: 2.384185791015625e-07\n",
      "Time Taken: 0.0006778240203857422\n"
     ]
    },
    {
     "data": {
      "text/plain": [
       "354224848179261915075"
      ]
     },
     "execution_count": 78,
     "metadata": {},
     "output_type": "execute_result"
    }
   ],
   "source": [
    "fibonacci(100)"
   ]
  },
  {
   "cell_type": "code",
   "execution_count": null,
   "metadata": {},
   "outputs": [],
   "source": []
  }
 ],
 "metadata": {
  "kernelspec": {
   "display_name": "Python 3 (ipykernel)",
   "language": "python",
   "name": "python3"
  },
  "language_info": {
   "codemirror_mode": {
    "name": "ipython",
    "version": 3
   },
   "file_extension": ".py",
   "mimetype": "text/x-python",
   "name": "python",
   "nbconvert_exporter": "python",
   "pygments_lexer": "ipython3",
   "version": "3.10.12"
  },
  "vscode": {
   "interpreter": {
    "hash": "52d0895b74d46736af80307792bc794eabfd4ba41b3599b718f838e53d9478fc"
   }
  }
 },
 "nbformat": 4,
 "nbformat_minor": 4
}
