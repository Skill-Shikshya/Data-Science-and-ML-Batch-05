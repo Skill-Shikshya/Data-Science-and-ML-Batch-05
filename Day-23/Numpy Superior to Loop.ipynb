{
 "cells": [
  {
   "cell_type": "markdown",
   "id": "53a61def-3418-4c68-b2c7-9529b6e383fb",
   "metadata": {},
   "source": [
    "## Why Numpy over Python `for` Loop?\n",
    "\n",
    "NumPy is faster than Python for loops because it is designed to perform operations on entire arrays rather than individual elements. This allows it to take advantage of lower-level optimizations such as vectorization and caching. Here's an example that illustrates the performance difference between NumPy and Python for loops:"
   ]
  },
  {
   "cell_type": "code",
   "execution_count": 1,
   "id": "38b3e280-b6c3-4b2f-a536-e52af9d70541",
   "metadata": {},
   "outputs": [],
   "source": [
    "import numpy as np\n",
    "import time\n",
    "\n",
    "# Using NumPy for element-wise multiplication\n",
    "a = np.random.rand(50000000)\n",
    "b = np.random.rand(50000000)"
   ]
  },
  {
   "cell_type": "code",
   "execution_count": 2,
   "id": "cd8d12f3-31a6-477a-9f7b-995f0a2a7c21",
   "metadata": {},
   "outputs": [
    {
     "name": "stdout",
     "output_type": "stream",
     "text": [
      "Time Taken by python loop: 4.221372604370117\n"
     ]
    }
   ],
   "source": [
    "# Using Pure Python for loop\n",
    "\n",
    "lsa = list(a)\n",
    "lsb = list(b)\n",
    "res = []\n",
    "\n",
    "start = time.time()\n",
    "for i in range(len(lsa)):\n",
    "    res.append(lsa[i] * lsb[i])\n",
    "end = time.time()\n",
    "\n",
    "print(f\"Time Taken by python loop: {end - start}\")"
   ]
  },
  {
   "cell_type": "code",
   "execution_count": 3,
   "id": "2e40370e-ac88-4d46-828a-c1cbaddb31fc",
   "metadata": {},
   "outputs": [
    {
     "name": "stdout",
     "output_type": "stream",
     "text": [
      "Time Taken by list comprehension: 3.0167832374572754\n"
     ]
    }
   ],
   "source": [
    "# Using list comprehension\n",
    "\n",
    "start = time.time()\n",
    "res = [ lsa[i]*lsb[i] for i in range(len(lsa))]\n",
    "end = time.time()\n",
    "\n",
    "print(f\"Time Taken by list comprehension: {end - start}\")"
   ]
  },
  {
   "cell_type": "code",
   "execution_count": 9,
   "id": "74e8a3e0-c8f5-42c9-bef7-e2564ef0d644",
   "metadata": {},
   "outputs": [
    {
     "name": "stdout",
     "output_type": "stream",
     "text": [
      "Time Taken by map function: 2.6711225509643555\n"
     ]
    }
   ],
   "source": [
    "# Using map function\n",
    "\n",
    "start = time.time()\n",
    "gen = map(lambda x, y: x*y, lsa,lsb)\n",
    "result = list(gen)\n",
    "end = time.time()\n",
    "\n",
    "print(f\"Time Taken by map function: {end - start}\")"
   ]
  },
  {
   "cell_type": "code",
   "execution_count": 10,
   "id": "c7b06be2-2ebe-4fb3-a944-b23b854cb5c7",
   "metadata": {},
   "outputs": [
    {
     "name": "stdout",
     "output_type": "stream",
     "text": [
      "Time Taken by map function: 0.09068989753723145\n"
     ]
    }
   ],
   "source": [
    "# Using Numpy element-wise operation\n",
    "\n",
    "start = time.time()\n",
    "res = a * b\n",
    "end = time.time()\n",
    "\n",
    "print(f\"Time Taken by map function: {end - start}\")"
   ]
  },
  {
   "cell_type": "code",
   "execution_count": null,
   "id": "e646cc67-461e-4bef-b2f5-2abaebfc0945",
   "metadata": {},
   "outputs": [],
   "source": []
  }
 ],
 "metadata": {
  "kernelspec": {
   "display_name": "Python 3 (ipykernel)",
   "language": "python",
   "name": "python3"
  },
  "language_info": {
   "codemirror_mode": {
    "name": "ipython",
    "version": 3
   },
   "file_extension": ".py",
   "mimetype": "text/x-python",
   "name": "python",
   "nbconvert_exporter": "python",
   "pygments_lexer": "ipython3",
   "version": "3.10.12"
  }
 },
 "nbformat": 4,
 "nbformat_minor": 5
}
