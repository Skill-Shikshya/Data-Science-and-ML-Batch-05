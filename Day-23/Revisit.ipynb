{
 "cells": [
  {
   "cell_type": "markdown",
   "id": "a64194cb-4a31-4754-bfec-cdd87051f402",
   "metadata": {},
   "source": [
    "## WAP to check weather a given number is Armstrong or not \n",
    "\n",
    "A positive integer will be known as an Armstrong number in python of order n if\n",
    "\n",
    "abcd… = a<sup>n</sup>+ b<sup>n</sup> + c<sup>n</sup> + d<sup>n</sup> + …\n",
    "\n",
    "Eg.: 371 = 3^3 + 7^3 + 1^3 = 27 + 343 + 1 // 153 = 0 is an Armstrong number"
   ]
  },
  {
   "cell_type": "code",
   "execution_count": null,
   "id": "fef7b602-9b41-4db6-8878-d0d2e3f1ccff",
   "metadata": {},
   "outputs": [],
   "source": [
    "1634, 8208, 9474, 54748"
   ]
  },
  {
   "cell_type": "code",
   "execution_count": 16,
   "id": "64fb57d2-552b-4fdb-ad95-a45e5c72a6d7",
   "metadata": {},
   "outputs": [
    {
     "name": "stdout",
     "output_type": "stream",
     "text": [
      "0 is an Armstrong Number\n",
      "1 is an Armstrong Number\n",
      "2 is an Armstrong Number\n",
      "3 is an Armstrong Number\n",
      "4 is an Armstrong Number\n",
      "5 is an Armstrong Number\n",
      "6 is an Armstrong Number\n",
      "7 is an Armstrong Number\n",
      "8 is an Armstrong Number\n",
      "9 is an Armstrong Number\n",
      "153 is an Armstrong Number\n",
      "370 is an Armstrong Number\n",
      "371 is an Armstrong Number\n",
      "407 is an Armstrong Number\n",
      "1634 is an Armstrong Number\n",
      "8208 is an Armstrong Number\n",
      "9474 is an Armstrong Number\n",
      "54748 is an Armstrong Number\n",
      "92727 is an Armstrong Number\n",
      "93084 is an Armstrong Number\n"
     ]
    }
   ],
   "source": [
    "def check_armstrong(number:int) -> bool:\n",
    "    num_str = str(number)\n",
    "    order = len(num_str)\n",
    "\n",
    "    sum_of_order = sum([int(each) ** order for each in num_str])\n",
    "    \n",
    "    return number == sum_of_order\n",
    "\n",
    "for num in range(10000):\n",
    "    if check_armstrong(num):\n",
    "        print(f\"{num} is an Armstrong Number\")"
   ]
  },
  {
   "cell_type": "code",
   "execution_count": 15,
   "id": "90c53604-b49e-4f6a-bcad-f8b44f0445f5",
   "metadata": {},
   "outputs": [
    {
     "name": "stdout",
     "output_type": "stream",
     "text": [
      "0 is an Armstrong Number\n",
      "1 is an Armstrong Number\n",
      "2 is an Armstrong Number\n",
      "3 is an Armstrong Number\n",
      "4 is an Armstrong Number\n",
      "5 is an Armstrong Number\n",
      "6 is an Armstrong Number\n",
      "7 is an Armstrong Number\n",
      "8 is an Armstrong Number\n",
      "9 is an Armstrong Number\n",
      "153 is an Armstrong Number\n",
      "370 is an Armstrong Number\n",
      "371 is an Armstrong Number\n",
      "407 is an Armstrong Number\n",
      "1634 is an Armstrong Number\n",
      "8208 is an Armstrong Number\n",
      "9474 is an Armstrong Number\n"
     ]
    }
   ],
   "source": [
    "import numpy as np\n",
    "\n",
    "def check_armstrong(number:int) -> bool:\n",
    "    \"\"\"\n",
    "    \n",
    "    \"\"\"\n",
    "     original_number = number\n",
    "     counts = []\n",
    "\n",
    "     while number > 0:\n",
    "        counts.append(number % 10)  \n",
    "        \n",
    "        number //= 10\n",
    "\n",
    "     counts = np.array(counts) \n",
    "     power = len(counts)  # Number of digits\n",
    "     result = np.sum(np.power(counts, power)) \n",
    "     return result == original_number\n",
    "\n",
    "\n",
    "for num in range(10000):\n",
    "    if check_armstrong(num):\n",
    "        print(f\"{num} is an Armstrong Number\")"
   ]
  },
  {
   "cell_type": "code",
   "execution_count": null,
   "id": "6303ebf2-1a69-4b79-9ec5-a4f8c35ff830",
   "metadata": {},
   "outputs": [],
   "source": []
  }
 ],
 "metadata": {
  "kernelspec": {
   "display_name": "Python 3 (ipykernel)",
   "language": "python",
   "name": "python3"
  },
  "language_info": {
   "codemirror_mode": {
    "name": "ipython",
    "version": 3
   },
   "file_extension": ".py",
   "mimetype": "text/x-python",
   "name": "python",
   "nbconvert_exporter": "python",
   "pygments_lexer": "ipython3",
   "version": "3.10.12"
  }
 },
 "nbformat": 4,
 "nbformat_minor": 5
}
