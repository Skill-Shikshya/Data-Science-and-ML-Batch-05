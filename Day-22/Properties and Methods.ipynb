{
 "cells": [
  {
   "cell_type": "markdown",
   "id": "ff56a29e-dac6-4ad2-8f20-d41bfe9b56ed",
   "metadata": {},
   "source": [
    "## NumPy Array Properties and Methods\n",
    "\n",
    "NumPy arrays have several useful properties and methods that can be used to manipulate them.\n",
    "\n",
    "- `shape`: Property that returns the dimensions of the array\n",
    "- `ndim`: Property that returns number of array dimensions\n",
    "- `dtype`: Property that returns data-type of the array’s elements\n",
    "- `T`: Transpose of the array’s elements\n",
    "- -------------------------------------------------------------------\n",
    "- `reshape()`: Method to change the dimensions of an array. The product of old dimensions should match the product of new dimensions\n",
    "- `ravel()`: Method that collapses all values into a single axis or dimension and returns view of original array\n",
    "- `flatten()`: Method that collapses all values into a single axis or dimension and returns an independent copy of original array\n",
    "- `np.concatenate()`: Method to concatenate two or more arrays\n",
    "- `sum()`: Method that returns the sum of all elements in an array\n",
    "- `cumsum()`: Method that returns cumulative sum over given axis\n",
    "- `prod()`: Method that compute product over given axis\n",
    "- `max()`: Method that returns the maximum along a given axis\n",
    "- `argmax()`: Method that returns indeces of the maximum values along a given axis\n",
    "- `clip()`: Clip values beyond range to threshold values\n",
    "- `np.split()`: Method to split an array into multiple sub-arrays\n",
    "- `np.vstack()`: Method to stack arrays vertically\n",
    "- `np.hstack()`: Method to stack arrays horizontally"
   ]
  },
  {
   "cell_type": "code",
   "execution_count": 1,
   "id": "51677204-69d6-4fd8-bd37-37095f1caaf5",
   "metadata": {},
   "outputs": [],
   "source": [
    "import numpy as np"
   ]
  },
  {
   "cell_type": "code",
   "execution_count": 2,
   "id": "9a631c78-5fb9-4bb6-8831-ca1b378ae267",
   "metadata": {},
   "outputs": [
    {
     "data": {
      "text/plain": [
       "array([[[33, 24, 36],\n",
       "        [31, 30, 29]],\n",
       "\n",
       "       [[49, 10, 11],\n",
       "        [27, 36, 36]],\n",
       "\n",
       "       [[36, 10, 11],\n",
       "        [49, 29, 14]],\n",
       "\n",
       "       [[21, 35, 34],\n",
       "        [48, 44, 23]],\n",
       "\n",
       "       [[37, 23, 24],\n",
       "        [21, 10, 45]]])"
      ]
     },
     "execution_count": 2,
     "metadata": {},
     "output_type": "execute_result"
    }
   ],
   "source": [
    "arr = np.random.randint(low = 10, high = 50, size = (5,2,3))\n",
    "arr"
   ]
  },
  {
   "cell_type": "code",
   "execution_count": 3,
   "id": "bedb3ed0-6c93-4211-8883-2f06332f85eb",
   "metadata": {},
   "outputs": [
    {
     "data": {
      "text/plain": [
       "(5, 2, 3)"
      ]
     },
     "execution_count": 3,
     "metadata": {},
     "output_type": "execute_result"
    }
   ],
   "source": [
    "arr.shape"
   ]
  },
  {
   "cell_type": "code",
   "execution_count": 4,
   "id": "d979728d-14ba-4d79-af0a-6b733c283862",
   "metadata": {},
   "outputs": [
    {
     "data": {
      "text/plain": [
       "dtype('int64')"
      ]
     },
     "execution_count": 4,
     "metadata": {},
     "output_type": "execute_result"
    }
   ],
   "source": [
    "arr.dtype"
   ]
  },
  {
   "cell_type": "code",
   "execution_count": 5,
   "id": "f98fa7f2-03f5-445d-a650-b336f00958da",
   "metadata": {},
   "outputs": [
    {
     "data": {
      "text/plain": [
       "3"
      ]
     },
     "execution_count": 5,
     "metadata": {},
     "output_type": "execute_result"
    }
   ],
   "source": [
    "arr.ndim"
   ]
  },
  {
   "cell_type": "code",
   "execution_count": 6,
   "id": "9676e24b-0332-46b4-98d8-86c13787bd3d",
   "metadata": {},
   "outputs": [
    {
     "data": {
      "text/plain": [
       "array([[[33, 49, 36, 21, 37],\n",
       "        [31, 27, 49, 48, 21]],\n",
       "\n",
       "       [[24, 10, 10, 35, 23],\n",
       "        [30, 36, 29, 44, 10]],\n",
       "\n",
       "       [[36, 11, 11, 34, 24],\n",
       "        [29, 36, 14, 23, 45]]])"
      ]
     },
     "execution_count": 6,
     "metadata": {},
     "output_type": "execute_result"
    }
   ],
   "source": [
    "arr.T"
   ]
  },
  {
   "cell_type": "code",
   "execution_count": null,
   "id": "86df31b6-468d-4035-9c78-50a718182fda",
   "metadata": {},
   "outputs": [],
   "source": []
  },
  {
   "cell_type": "code",
   "execution_count": 7,
   "id": "48a367ee-855b-44c2-ae8e-df600792689f",
   "metadata": {},
   "outputs": [
    {
     "data": {
      "text/plain": [
       "(3, 5, 2)"
      ]
     },
     "execution_count": 7,
     "metadata": {},
     "output_type": "execute_result"
    }
   ],
   "source": [
    "new_arr = arr.reshape((3,5,2))\n",
    "new_arr.shape"
   ]
  },
  {
   "cell_type": "code",
   "execution_count": null,
   "id": "78663eab-dacc-4ac7-a645-d948a12343c2",
   "metadata": {},
   "outputs": [],
   "source": []
  },
  {
   "cell_type": "code",
   "execution_count": 8,
   "id": "989e74c8-9485-478b-ab01-21286169801b",
   "metadata": {},
   "outputs": [
    {
     "data": {
      "text/plain": [
       "(30,)"
      ]
     },
     "execution_count": 8,
     "metadata": {},
     "output_type": "execute_result"
    }
   ],
   "source": [
    "flat_arr = new_arr.flatten()\n",
    "flat_arr.shape"
   ]
  },
  {
   "cell_type": "code",
   "execution_count": null,
   "id": "8b18f215-cc19-4d4c-931a-fdf80c79903b",
   "metadata": {},
   "outputs": [],
   "source": []
  },
  {
   "cell_type": "code",
   "execution_count": 9,
   "id": "c7bd9e8a-c5dc-489a-a227-2eb34dbd9141",
   "metadata": {},
   "outputs": [
    {
     "data": {
      "text/plain": [
       "np.int64(866)"
      ]
     },
     "execution_count": 9,
     "metadata": {},
     "output_type": "execute_result"
    }
   ],
   "source": [
    "arr.sum()"
   ]
  },
  {
   "cell_type": "code",
   "execution_count": 10,
   "id": "92e6b36f-86de-4e66-ac32-8c5305561dc5",
   "metadata": {},
   "outputs": [
    {
     "data": {
      "text/plain": [
       "array([[176, 102, 116],\n",
       "       [176, 149, 147]])"
      ]
     },
     "execution_count": 10,
     "metadata": {},
     "output_type": "execute_result"
    }
   ],
   "source": [
    "arr.sum(axis = 0)"
   ]
  },
  {
   "cell_type": "code",
   "execution_count": null,
   "id": "67986f47-3c2d-42ff-ac56-322a90ea3ae3",
   "metadata": {},
   "outputs": [],
   "source": []
  },
  {
   "cell_type": "code",
   "execution_count": null,
   "id": "f541e856-f95b-40fa-b038-d377feba66b8",
   "metadata": {},
   "outputs": [],
   "source": []
  },
  {
   "cell_type": "code",
   "execution_count": 11,
   "id": "ee7cbf84-2536-47e6-b222-50d97caaabc9",
   "metadata": {},
   "outputs": [
    {
     "data": {
      "text/plain": [
       "np.int64(49)"
      ]
     },
     "execution_count": 11,
     "metadata": {},
     "output_type": "execute_result"
    }
   ],
   "source": [
    "arr.max()"
   ]
  },
  {
   "cell_type": "code",
   "execution_count": 12,
   "id": "ceac5731-42ba-4468-884c-e12cba8f8261",
   "metadata": {},
   "outputs": [
    {
     "data": {
      "text/plain": [
       "array([[33, 30, 36],\n",
       "       [49, 36, 36],\n",
       "       [49, 29, 14],\n",
       "       [48, 44, 34],\n",
       "       [37, 23, 45]])"
      ]
     },
     "execution_count": 12,
     "metadata": {},
     "output_type": "execute_result"
    }
   ],
   "source": [
    "arr.max(axis = 1)"
   ]
  },
  {
   "cell_type": "markdown",
   "id": "76af2283-82f1-4513-b444-5336f17fb191",
   "metadata": {},
   "source": [
    "## 0 > column wise\n",
    "## 1 > row wise"
   ]
  },
  {
   "cell_type": "code",
   "execution_count": 13,
   "id": "8e175502-a4cb-4ab9-a90f-72eae7be0743",
   "metadata": {},
   "outputs": [],
   "source": [
    "lsr3 = [[40, 40, 45],\n",
    "       [44, 18, 47],\n",
    "       [17, 40, 46]]\n",
    "arr3 = np.array(lsr3)"
   ]
  },
  {
   "cell_type": "code",
   "execution_count": 14,
   "id": "673cc21b-6a9a-4161-93f4-501b7e19e609",
   "metadata": {},
   "outputs": [
    {
     "data": {
      "text/plain": [
       "array([[40, 40, 45],\n",
       "       [44, 18, 47],\n",
       "       [17, 40, 46]])"
      ]
     },
     "execution_count": 14,
     "metadata": {},
     "output_type": "execute_result"
    }
   ],
   "source": [
    "arr3"
   ]
  },
  {
   "cell_type": "code",
   "execution_count": 15,
   "id": "3c4d07cd-4c8c-473f-8a36-6a32d930a567",
   "metadata": {},
   "outputs": [
    {
     "data": {
      "text/plain": [
       "np.int64(47)"
      ]
     },
     "execution_count": 15,
     "metadata": {},
     "output_type": "execute_result"
    }
   ],
   "source": [
    "arr3.max()"
   ]
  },
  {
   "cell_type": "code",
   "execution_count": null,
   "id": "aca53385-be6c-49d5-8734-9b4dc1c50923",
   "metadata": {},
   "outputs": [],
   "source": []
  },
  {
   "cell_type": "code",
   "execution_count": 16,
   "id": "0fd64360-2a76-4635-8089-5e514af9d417",
   "metadata": {},
   "outputs": [
    {
     "data": {
      "text/plain": [
       "array([72000, 37224, 31280])"
      ]
     },
     "execution_count": 16,
     "metadata": {},
     "output_type": "execute_result"
    }
   ],
   "source": [
    "arr3.prod(axis =1)"
   ]
  },
  {
   "cell_type": "code",
   "execution_count": null,
   "id": "43cdd96e-9692-40d1-9274-4a151044c1d6",
   "metadata": {},
   "outputs": [],
   "source": []
  },
  {
   "cell_type": "code",
   "execution_count": 17,
   "id": "b8a0bdb9-07db-478a-8a4e-455e90aeda3e",
   "metadata": {},
   "outputs": [
    {
     "data": {
      "text/plain": [
       "array([2, 2, 2])"
      ]
     },
     "execution_count": 17,
     "metadata": {},
     "output_type": "execute_result"
    }
   ],
   "source": [
    "arr3.argmax(axis = 1)"
   ]
  },
  {
   "cell_type": "code",
   "execution_count": null,
   "id": "875cafda-aeec-4c2b-8fb2-062bf80fe1f3",
   "metadata": {},
   "outputs": [],
   "source": []
  },
  {
   "cell_type": "code",
   "execution_count": 20,
   "id": "ec860f79-c2a0-4091-81d0-18c2ef8fe559",
   "metadata": {},
   "outputs": [
    {
     "data": {
      "text/plain": [
       "array([[40, 40, 45],\n",
       "       [44, 18, 47],\n",
       "       [17, 40, 46]])"
      ]
     },
     "execution_count": 20,
     "metadata": {},
     "output_type": "execute_result"
    }
   ],
   "source": [
    "arr3"
   ]
  },
  {
   "cell_type": "code",
   "execution_count": 21,
   "id": "671e82d7-0e82-4133-9de7-c1f4cfd01d4d",
   "metadata": {},
   "outputs": [
    {
     "data": {
      "text/plain": [
       "array([[ 40,  80, 125],\n",
       "       [ 44,  62, 109],\n",
       "       [ 17,  57, 103]])"
      ]
     },
     "execution_count": 21,
     "metadata": {},
     "output_type": "execute_result"
    }
   ],
   "source": [
    "arr3.cumsum(axis = 1)"
   ]
  },
  {
   "cell_type": "code",
   "execution_count": null,
   "id": "8928bed4-bc98-477a-b3e5-916f44cecf8b",
   "metadata": {},
   "outputs": [],
   "source": []
  },
  {
   "cell_type": "code",
   "execution_count": 37,
   "id": "4eac83f3-4ddc-48ca-86b4-670ccdcc3a43",
   "metadata": {},
   "outputs": [],
   "source": [
    "arr1 = np.random.randint(low = 10, high = 50, size = (2,3))\n",
    "arr11 = np.random.randint(low = 10, high = 50, size = (2,3))\n"
   ]
  },
  {
   "cell_type": "code",
   "execution_count": 38,
   "id": "fe757cbb-ef91-494e-bd9b-3d114d5b9f53",
   "metadata": {},
   "outputs": [
    {
     "data": {
      "text/plain": [
       "(array([[48, 48, 10],\n",
       "        [39, 28, 47]]),\n",
       " array([[43, 42, 44],\n",
       "        [16, 41, 25]]))"
      ]
     },
     "execution_count": 38,
     "metadata": {},
     "output_type": "execute_result"
    }
   ],
   "source": [
    "arr1 , arr11"
   ]
  },
  {
   "cell_type": "code",
   "execution_count": 39,
   "id": "fcaf209d-e246-45a0-9d74-533712b6c793",
   "metadata": {},
   "outputs": [
    {
     "data": {
      "text/plain": [
       "array([[48, 48, 10],\n",
       "       [39, 28, 47],\n",
       "       [43, 42, 44],\n",
       "       [16, 41, 25]])"
      ]
     },
     "execution_count": 39,
     "metadata": {},
     "output_type": "execute_result"
    }
   ],
   "source": [
    "np.vstack((arr1, arr11))"
   ]
  },
  {
   "cell_type": "code",
   "execution_count": 40,
   "id": "6cdafdfd-3a7d-4931-8bc4-8636da3ad14e",
   "metadata": {},
   "outputs": [
    {
     "data": {
      "text/plain": [
       "array([[48, 48, 10, 43, 42, 44],\n",
       "       [39, 28, 47, 16, 41, 25]])"
      ]
     },
     "execution_count": 40,
     "metadata": {},
     "output_type": "execute_result"
    }
   ],
   "source": [
    "np.hstack((arr1, arr11))"
   ]
  },
  {
   "cell_type": "code",
   "execution_count": null,
   "id": "ec23bfe9-7074-4fb6-919f-f3395e682605",
   "metadata": {},
   "outputs": [],
   "source": []
  }
 ],
 "metadata": {
  "kernelspec": {
   "display_name": "Python 3 (ipykernel)",
   "language": "python",
   "name": "python3"
  },
  "language_info": {
   "codemirror_mode": {
    "name": "ipython",
    "version": 3
   },
   "file_extension": ".py",
   "mimetype": "text/x-python",
   "name": "python",
   "nbconvert_exporter": "python",
   "pygments_lexer": "ipython3",
   "version": "3.10.12"
  }
 },
 "nbformat": 4,
 "nbformat_minor": 5
}
