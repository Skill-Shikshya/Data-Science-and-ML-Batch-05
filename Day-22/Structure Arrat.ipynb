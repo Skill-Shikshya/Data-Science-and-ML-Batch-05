{
 "cells": [
  {
   "cell_type": "markdown",
   "id": "d3780bb8-4175-4b0f-ad50-0e2a8d02bd8d",
   "metadata": {},
   "source": [
    "## Structured Arrays\n",
    "\n",
    "Structured arrays in NumPy are arrays where each element can have a different data type or multiple fields with different data types. This allows you to create arrays that behave like structured data types or database tables.\n",
    "\n",
    "A structured array is defined using a data type descriptor that specifies the layout of each element."
   ]
  },
  {
   "cell_type": "code",
   "execution_count": 4,
   "id": "1df1888e-b2f7-4a00-a27f-7e4945863a4b",
   "metadata": {},
   "outputs": [
    {
     "name": "stdout",
     "output_type": "stream",
     "text": [
      "['foo' 'bar' 'baz']\n",
      "[1.23 4.56 7.89]\n"
     ]
    }
   ],
   "source": [
    "import numpy as np\n",
    "\n",
    "# Define a data type with two fields: a string field and a float field\n",
    "dt = np.dtype([('name', np.str_, 16), ('value', np.float64)])\n",
    "\n",
    "# Create a structured array with three elements\n",
    "a = np.array([('foo', 1.23), ('bar', 4.56), ('baz', 7.89)], dtype=dt)\n",
    "\n",
    "# Access individual fields using the field name\n",
    "print(a['name'])\n",
    "print(a['value'])"
   ]
  },
  {
   "cell_type": "code",
   "execution_count": 3,
   "id": "f6ddf091-93d1-49cb-b6ca-91b94a1397d1",
   "metadata": {},
   "outputs": [
    {
     "data": {
      "text/plain": [
       "array([('foo', 1.23), ('bar', 4.56), ('baz', 7.89)],\n",
       "      dtype=[('name', '<U16'), ('value', '<f8')])"
      ]
     },
     "execution_count": 3,
     "metadata": {},
     "output_type": "execute_result"
    }
   ],
   "source": [
    "a"
   ]
  },
  {
   "cell_type": "markdown",
   "id": "97b26435-fac2-45f7-bfe5-93cdab1378f5",
   "metadata": {},
   "source": [
    "In this example, we define a data type with two fields: a string field called 'name' with a maximum length of 16 characters, and a float field called 'value'. We then create a structured array with three elements, where each element consists of a string and a float.\n",
    "\n",
    "You can access individual fields of a structured array using the field name as a key. You can also access individual elements of the array using standard indexing syntax.\n",
    "\n",
    "Structured arrays are a powerful tool for working with heterogeneous data in NumPy. They allow you to store and manipulate data with different data types in a convenient and efficient way.\n",
    "\n",
    "In general, the decision to use structured arrays should be based on the specific requirements of your project and the characteristics of your data. If you have data with multiple fields or columns, and you need to perform database-like operations or store metadata, then a structured array may be the best choice. However, if your data has a simple structure or you need to perform complex calculations, then a regular array or another data structure may be more appropriate."
   ]
  },
  {
   "cell_type": "code",
   "execution_count": null,
   "id": "34732cac-b7a6-4269-b3ea-5bd7872c0fc0",
   "metadata": {},
   "outputs": [],
   "source": []
  }
 ],
 "metadata": {
  "kernelspec": {
   "display_name": "Python 3 (ipykernel)",
   "language": "python",
   "name": "python3"
  },
  "language_info": {
   "codemirror_mode": {
    "name": "ipython",
    "version": 3
   },
   "file_extension": ".py",
   "mimetype": "text/x-python",
   "name": "python",
   "nbconvert_exporter": "python",
   "pygments_lexer": "ipython3",
   "version": "3.10.12"
  }
 },
 "nbformat": 4,
 "nbformat_minor": 5
}
