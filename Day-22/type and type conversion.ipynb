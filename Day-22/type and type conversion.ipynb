{
 "cells": [
  {
   "cell_type": "markdown",
   "id": "e825867c-8f92-4d2b-8f5d-799b9a1d5296",
   "metadata": {},
   "source": [
    "## Types and Type Conversion\n",
    "\n",
    "NumPy supports a wide range of data types for arrays, including numeric, boolean, and string types. Each data type is identified by a unique character code, such as 'i' for integers and 'f' for floating-point numbers, and can have a specific size in bytes.\n",
    "\n",
    "Here are some of the most common data types in NumPy:\n",
    "\n",
    "- `bool`: Boolean (True or False) stored as a byte.\n",
    "- `int8`, `int16`, `int32`, `int64`: Integer with a specific number of bits (8, 16, 32, or 64).\n",
    "- `uint8`, `uint16`, `uint32`, `uint64`: Unsigned integer with a specific number of bits (8, 16, 32, or 64).\n",
    "- `float16`, `float32`, `float64`: Floating-point number with a specific precision (half, single, or double precision).\n",
    "- `complex64`, `complex128`: Complex number with a specific precision (single or double precision).\n",
    "\n",
    "You can create arrays of a specific data type using the dtype argument when you create the array."
   ]
  },
  {
   "cell_type": "code",
   "execution_count": 1,
   "id": "77eea0bb-7ff8-4254-9136-4829819b21dc",
   "metadata": {},
   "outputs": [],
   "source": [
    "import numpy as np"
   ]
  },
  {
   "cell_type": "code",
   "execution_count": 15,
   "id": "73c2f12c-1957-4fb1-ad56-bcea3a89557f",
   "metadata": {},
   "outputs": [],
   "source": [
    "a = np.array([1,225,3], dtype = np.int16)"
   ]
  },
  {
   "cell_type": "code",
   "execution_count": 16,
   "id": "73210820-29e5-4c13-974b-8921096a5732",
   "metadata": {},
   "outputs": [
    {
     "data": {
      "text/plain": [
       "dtype('int16')"
      ]
     },
     "execution_count": 16,
     "metadata": {},
     "output_type": "execute_result"
    }
   ],
   "source": [
    "a.dtype"
   ]
  },
  {
   "cell_type": "code",
   "execution_count": 12,
   "id": "b80038f2-82eb-4110-a6e3-415aa426bf3b",
   "metadata": {},
   "outputs": [],
   "source": [
    "arr11 = np.random.randint(low = 10, high = 50, size = (2,3), dtype = np.int16)"
   ]
  },
  {
   "cell_type": "code",
   "execution_count": 17,
   "id": "29c6fe2a-c78a-4ce5-a8bc-5466f780fe99",
   "metadata": {},
   "outputs": [
    {
     "data": {
      "text/plain": [
       "dtype('int16')"
      ]
     },
     "execution_count": 17,
     "metadata": {},
     "output_type": "execute_result"
    }
   ],
   "source": [
    "arr11.dtype"
   ]
  },
  {
   "cell_type": "code",
   "execution_count": 19,
   "id": "5d7c2c91-245f-4db4-94b2-3736d1a6ce6e",
   "metadata": {},
   "outputs": [
    {
     "data": {
      "text/plain": [
       "array([[27., 33., 49.],\n",
       "       [41., 43., 28.]], dtype=float32)"
      ]
     },
     "execution_count": 19,
     "metadata": {},
     "output_type": "execute_result"
    }
   ],
   "source": [
    "arr11.astype(np.float32)"
   ]
  },
  {
   "cell_type": "code",
   "execution_count": null,
   "id": "d670196d-d7da-4ca3-a4b9-1887b099909f",
   "metadata": {},
   "outputs": [],
   "source": []
  },
  {
   "cell_type": "code",
   "execution_count": 24,
   "id": "08d778d5-9426-498b-aa8f-dc5b0c174047",
   "metadata": {},
   "outputs": [],
   "source": [
    "b = np.array([1,0,0,1], dtype = np.bool)"
   ]
  },
  {
   "cell_type": "code",
   "execution_count": 27,
   "id": "b014fc25-39a8-4fb7-bfcb-e4ece2467cd9",
   "metadata": {},
   "outputs": [
    {
     "data": {
      "text/plain": [
       "array([ True, False, False,  True])"
      ]
     },
     "execution_count": 27,
     "metadata": {},
     "output_type": "execute_result"
    }
   ],
   "source": [
    "b"
   ]
  },
  {
   "cell_type": "code",
   "execution_count": null,
   "id": "78ef0b3c-83ce-4e00-b467-3addbdad13f4",
   "metadata": {},
   "outputs": [],
   "source": []
  }
 ],
 "metadata": {
  "kernelspec": {
   "display_name": "Python 3 (ipykernel)",
   "language": "python",
   "name": "python3"
  },
  "language_info": {
   "codemirror_mode": {
    "name": "ipython",
    "version": 3
   },
   "file_extension": ".py",
   "mimetype": "text/x-python",
   "name": "python",
   "nbconvert_exporter": "python",
   "pygments_lexer": "ipython3",
   "version": "3.10.12"
  }
 },
 "nbformat": 4,
 "nbformat_minor": 5
}
