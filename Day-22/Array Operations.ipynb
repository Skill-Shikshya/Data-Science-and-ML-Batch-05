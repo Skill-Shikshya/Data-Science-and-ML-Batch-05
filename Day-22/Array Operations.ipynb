{
 "cells": [
  {
   "cell_type": "markdown",
   "id": "45a1f879-5ef9-48bd-84e7-f6703b11f9f9",
   "metadata": {},
   "source": [
    "## 1. Elementwise Operations\n",
    "\n",
    "Refer to : https://numpy.org/doc/1.26/reference/array_api.html#elementwise-functions"
   ]
  },
  {
   "cell_type": "code",
   "execution_count": 2,
   "id": "968b9742-4d2e-421f-9791-dd7d84c7bece",
   "metadata": {},
   "outputs": [],
   "source": [
    "import numpy as np"
   ]
  },
  {
   "cell_type": "code",
   "execution_count": 3,
   "id": "c4ae3f82-69ae-441e-8977-1947c3516818",
   "metadata": {},
   "outputs": [],
   "source": [
    "a = np.array([[4, 5, 6], [5, 7, 9]])\n",
    "b = np.array([[1, 2, 3], [9, 8,7 ]])"
   ]
  },
  {
   "cell_type": "code",
   "execution_count": 6,
   "id": "352075b2-fbd1-47ed-8d0a-aaebd4b92270",
   "metadata": {},
   "outputs": [
    {
     "name": "stdout",
     "output_type": "stream",
     "text": [
      "[[4 5 6]\n",
      " [5 7 9]]\n",
      "\n",
      "[[1 2 3]\n",
      " [9 8 7]]\n"
     ]
    }
   ],
   "source": [
    "print(a) \n",
    "print()\n",
    "print(b)"
   ]
  },
  {
   "cell_type": "markdown",
   "id": "4658559e-89b9-4868-b76c-21275938ed0e",
   "metadata": {},
   "source": [
    "### Arithmetic Operations"
   ]
  },
  {
   "cell_type": "code",
   "execution_count": 4,
   "id": "c2124c1e-88f0-4554-8c65-c3c7658bc680",
   "metadata": {},
   "outputs": [
    {
     "data": {
      "text/plain": [
       "array([[ 5,  7,  9],\n",
       "       [14, 15, 16]])"
      ]
     },
     "execution_count": 4,
     "metadata": {},
     "output_type": "execute_result"
    }
   ],
   "source": [
    "a + b # np.add()"
   ]
  },
  {
   "cell_type": "code",
   "execution_count": 7,
   "id": "4d800937-72c5-4592-8fa0-9df410c4bb1a",
   "metadata": {},
   "outputs": [
    {
     "data": {
      "text/plain": [
       "array([[ 3,  3,  3],\n",
       "       [-4, -1,  2]])"
      ]
     },
     "execution_count": 7,
     "metadata": {},
     "output_type": "execute_result"
    }
   ],
   "source": [
    "a - b # np.subtract()"
   ]
  },
  {
   "cell_type": "code",
   "execution_count": 8,
   "id": "e4e89284-2313-4007-89a1-36dfbb880f25",
   "metadata": {},
   "outputs": [
    {
     "data": {
      "text/plain": [
       "array([[ 4, 10, 18],\n",
       "       [45, 56, 63]])"
      ]
     },
     "execution_count": 8,
     "metadata": {},
     "output_type": "execute_result"
    }
   ],
   "source": [
    "a * b # np.multiply"
   ]
  },
  {
   "cell_type": "code",
   "execution_count": 9,
   "id": "d2f0189a-7c7d-4ffe-80d6-5f4ab35ec0d7",
   "metadata": {},
   "outputs": [
    {
     "data": {
      "text/plain": [
       "array([[16, 25, 36],\n",
       "       [25, 49, 81]])"
      ]
     },
     "execution_count": 9,
     "metadata": {},
     "output_type": "execute_result"
    }
   ],
   "source": [
    "a ** 2 # np.square , np.power()"
   ]
  },
  {
   "cell_type": "code",
   "execution_count": 11,
   "id": "b67b4e0f-9083-4cf9-85ba-a86cfd3201b7",
   "metadata": {},
   "outputs": [
    {
     "data": {
      "text/plain": [
       "array([[1, 2, 0],\n",
       "       [2, 1, 0]])"
      ]
     },
     "execution_count": 11,
     "metadata": {},
     "output_type": "execute_result"
    }
   ],
   "source": [
    "a % 3 # np.divmod()"
   ]
  },
  {
   "cell_type": "code",
   "execution_count": 13,
   "id": "5d68de6f-f68d-4ac8-8d07-49a6f767e0e3",
   "metadata": {},
   "outputs": [
    {
     "data": {
      "text/plain": [
       "array([[2.        , 2.23606798, 2.44948974],\n",
       "       [2.23606798, 2.64575131, 3.        ]])"
      ]
     },
     "execution_count": 13,
     "metadata": {},
     "output_type": "execute_result"
    }
   ],
   "source": [
    "np.sqrt(a)"
   ]
  },
  {
   "cell_type": "code",
   "execution_count": null,
   "id": "078e33ae-eb1b-44d8-b143-eee255b965c0",
   "metadata": {},
   "outputs": [],
   "source": []
  },
  {
   "cell_type": "markdown",
   "id": "a46a3511-d73f-47a9-86c4-4a2fcf1ce067",
   "metadata": {},
   "source": [
    "### Trignometric"
   ]
  },
  {
   "cell_type": "code",
   "execution_count": 19,
   "id": "c3a3697f-5738-4b52-bf10-8059cd95cb08",
   "metadata": {},
   "outputs": [
    {
     "name": "stdout",
     "output_type": "stream",
     "text": [
      "[[-1.32134871 -1.04283521 -3.57889955]\n",
      " [-1.04283521  1.52210106  2.42648664]]\n"
     ]
    }
   ],
   "source": [
    "new = 1 / np.sin(a)\n",
    "print(new)"
   ]
  },
  {
   "cell_type": "code",
   "execution_count": 16,
   "id": "5b168c71-0675-46e0-b9d1-6a337e201a5e",
   "metadata": {},
   "outputs": [
    {
     "data": {
      "text/plain": [
       "array([[ 0.64209262, -0.45765755, -7.01525255],\n",
       "       [-2.21084541, -0.14706506,  1.14751542]])"
      ]
     },
     "execution_count": 16,
     "metadata": {},
     "output_type": "execute_result"
    }
   ],
   "source": [
    "1 / np.tan(b)"
   ]
  },
  {
   "cell_type": "code",
   "execution_count": null,
   "id": "66667209-1c35-4ff6-92fe-6fa00dbcbce7",
   "metadata": {},
   "outputs": [],
   "source": []
  },
  {
   "cell_type": "markdown",
   "id": "2f25ff64-ca10-4abe-9081-f890eb40b4fa",
   "metadata": {},
   "source": [
    "### Rounding operations"
   ]
  },
  {
   "cell_type": "code",
   "execution_count": 18,
   "id": "b21f2dd4-a8ed-4a1c-82c2-d6571f7539f3",
   "metadata": {},
   "outputs": [
    {
     "data": {
      "text/plain": [
       "array([[-1., -1., -4.],\n",
       "       [-1.,  2.,  2.]])"
      ]
     },
     "execution_count": 18,
     "metadata": {},
     "output_type": "execute_result"
    }
   ],
   "source": [
    "np.round(new)"
   ]
  },
  {
   "cell_type": "code",
   "execution_count": 20,
   "id": "6e45801d-88bf-4332-ae28-c84738351e71",
   "metadata": {},
   "outputs": [
    {
     "data": {
      "text/plain": [
       "array([[-1.32, -1.04, -3.58],\n",
       "       [-1.04,  1.52,  2.43]])"
      ]
     },
     "execution_count": 20,
     "metadata": {},
     "output_type": "execute_result"
    }
   ],
   "source": [
    "np.around(new, 2)"
   ]
  },
  {
   "cell_type": "code",
   "execution_count": 24,
   "id": "2ae93576-d433-4433-81bd-b2818c8b4cc8",
   "metadata": {},
   "outputs": [
    {
     "data": {
      "text/plain": [
       "array([[-1., -1., -3.],\n",
       "       [-1.,  1.,  2.]])"
      ]
     },
     "execution_count": 24,
     "metadata": {},
     "output_type": "execute_result"
    }
   ],
   "source": [
    "np.fix(new)"
   ]
  },
  {
   "cell_type": "code",
   "execution_count": 23,
   "id": "15021065-a1ae-4490-ba25-62227ac5b951",
   "metadata": {},
   "outputs": [
    {
     "data": {
      "text/plain": [
       "array([[-2., -2., -4.],\n",
       "       [-2.,  1.,  2.]])"
      ]
     },
     "execution_count": 23,
     "metadata": {},
     "output_type": "execute_result"
    }
   ],
   "source": [
    "np.floor(new)"
   ]
  },
  {
   "cell_type": "code",
   "execution_count": null,
   "id": "6f0bd69e-fd5d-40b6-aff7-db93e75f7cf1",
   "metadata": {},
   "outputs": [],
   "source": []
  },
  {
   "cell_type": "markdown",
   "id": "f23a9be6-191a-4066-ae89-6f53cd78fd8e",
   "metadata": {},
   "source": [
    "### Exponential Functions"
   ]
  },
  {
   "cell_type": "code",
   "execution_count": 26,
   "id": "d25dc8a1-fb3e-4b77-a517-8ed345d42f61",
   "metadata": {},
   "outputs": [
    {
     "data": {
      "text/plain": [
       "array([[  54.59815003,  148.4131591 ,  403.42879349],\n",
       "       [ 148.4131591 , 1096.63315843, 8103.08392758]])"
      ]
     },
     "execution_count": 26,
     "metadata": {},
     "output_type": "execute_result"
    }
   ],
   "source": [
    "np.exp(a)"
   ]
  },
  {
   "cell_type": "code",
   "execution_count": 27,
   "id": "85e82de8-719c-4d59-a981-025731c67f44",
   "metadata": {},
   "outputs": [
    {
     "data": {
      "text/plain": [
       "array([[0.        , 0.69314718, 1.09861229],\n",
       "       [2.19722458, 2.07944154, 1.94591015]])"
      ]
     },
     "execution_count": 27,
     "metadata": {},
     "output_type": "execute_result"
    }
   ],
   "source": [
    "np.log(b)"
   ]
  },
  {
   "cell_type": "code",
   "execution_count": null,
   "id": "32e4cfb0-f2cb-4846-b59d-99ce32a723a5",
   "metadata": {},
   "outputs": [],
   "source": []
  },
  {
   "cell_type": "markdown",
   "id": "f3af9f66-d9b4-4d23-8fc0-8fbaf65712ec",
   "metadata": {},
   "source": [
    "## 2. Matrix Operations\n",
    "\n",
    "Refer to : https://numpy.org/doc/1.26/reference/array_api.html#elementwise-functions"
   ]
  },
  {
   "cell_type": "code",
   "execution_count": 28,
   "id": "ceaf52f6-852e-43c1-a85d-f91dd819cb9c",
   "metadata": {},
   "outputs": [],
   "source": [
    "a = np.array([[1, 2], [3, 4]])\n",
    "b = np.array([[5, 6], [7, 8]])\n"
   ]
  },
  {
   "cell_type": "code",
   "execution_count": 31,
   "id": "245d2d26-927b-4316-a96b-585ea3087a69",
   "metadata": {},
   "outputs": [
    {
     "name": "stdout",
     "output_type": "stream",
     "text": [
      "[[1 2]\n",
      " [3 4]]\n",
      "\n",
      "[[5 6]\n",
      " [7 8]]\n"
     ]
    }
   ],
   "source": [
    "print(a) \n",
    "print()\n",
    "print(b)"
   ]
  },
  {
   "cell_type": "code",
   "execution_count": 29,
   "id": "7c4d49fa-a141-423d-82d2-04ed7c8a3d80",
   "metadata": {},
   "outputs": [
    {
     "data": {
      "text/plain": [
       "array([[19, 22],\n",
       "       [43, 50]])"
      ]
     },
     "execution_count": 29,
     "metadata": {},
     "output_type": "execute_result"
    }
   ],
   "source": [
    "np.dot(a,b)"
   ]
  },
  {
   "cell_type": "code",
   "execution_count": 34,
   "id": "415648bc-26d6-45ac-bbd4-bcbf747ba250",
   "metadata": {},
   "outputs": [
    {
     "data": {
      "text/plain": [
       "array([[5, 7],\n",
       "       [6, 8]])"
      ]
     },
     "execution_count": 34,
     "metadata": {},
     "output_type": "execute_result"
    }
   ],
   "source": [
    "np.transpose(b)"
   ]
  },
  {
   "cell_type": "code",
   "execution_count": 38,
   "id": "6bd33f7c-5d6c-4fc3-9081-521c609aab4a",
   "metadata": {},
   "outputs": [
    {
     "data": {
      "text/plain": [
       "array([[1, 3],\n",
       "       [2, 4]])"
      ]
     },
     "execution_count": 38,
     "metadata": {},
     "output_type": "execute_result"
    }
   ],
   "source": [
    "a.transpose()"
   ]
  },
  {
   "cell_type": "code",
   "execution_count": 39,
   "id": "f0d344e4-9806-4b9d-9c2a-fbd3b2826871",
   "metadata": {},
   "outputs": [
    {
     "data": {
      "text/plain": [
       "np.int64(5)"
      ]
     },
     "execution_count": 39,
     "metadata": {},
     "output_type": "execute_result"
    }
   ],
   "source": [
    "np.trace(a)"
   ]
  },
  {
   "cell_type": "code",
   "execution_count": null,
   "id": "e21fe8dc-8a0d-436e-a1d8-44280213da9a",
   "metadata": {},
   "outputs": [],
   "source": []
  },
  {
   "cell_type": "code",
   "execution_count": 40,
   "id": "50cc9fea-acfd-43eb-a267-3af65f34e58b",
   "metadata": {},
   "outputs": [
    {
     "data": {
      "text/plain": [
       "np.float64(-2.0000000000000004)"
      ]
     },
     "execution_count": 40,
     "metadata": {},
     "output_type": "execute_result"
    }
   ],
   "source": [
    "np.linalg.det(a)"
   ]
  },
  {
   "cell_type": "code",
   "execution_count": 43,
   "id": "2d3936b9-39f6-4427-89e5-a888d704d422",
   "metadata": {},
   "outputs": [
    {
     "data": {
      "text/plain": [
       "array([[1., 0.],\n",
       "       [0., 1.]])"
      ]
     },
     "execution_count": 43,
     "metadata": {},
     "output_type": "execute_result"
    }
   ],
   "source": [
    "# A . A-1 = I\n",
    "np.dot(\n",
    "    a, np.linalg.inv(a)\n",
    ").round()"
   ]
  },
  {
   "cell_type": "code",
   "execution_count": 44,
   "id": "1524e69e-dc12-40f2-a6c1-3de5d1172abc",
   "metadata": {},
   "outputs": [
    {
     "data": {
      "text/plain": [
       "EigResult(eigenvalues=array([-0.37228132,  5.37228132]), eigenvectors=array([[-0.82456484, -0.41597356],\n",
       "       [ 0.56576746, -0.90937671]]))"
      ]
     },
     "execution_count": 44,
     "metadata": {},
     "output_type": "execute_result"
    }
   ],
   "source": [
    "np.linalg.eig(a)"
   ]
  },
  {
   "cell_type": "code",
   "execution_count": 45,
   "id": "3d9349d5-d8db-40f9-adb3-3b7d78fd7e1e",
   "metadata": {},
   "outputs": [
    {
     "name": "stdout",
     "output_type": "stream",
     "text": [
      "Solution to the Equations is: [-1.  1.]\n"
     ]
    }
   ],
   "source": [
    "# Solve Equations: x + 2*y = 1 and 3*x + 5*y = 2\n",
    "a = [[1, 2], [3, 5]]\n",
    "b = [1, 2]\n",
    "print('Solution to the Equations is:', np.linalg.solve(a, b))"
   ]
  },
  {
   "cell_type": "code",
   "execution_count": null,
   "id": "db090730-9dcf-4fee-943d-b2db0f2985d6",
   "metadata": {},
   "outputs": [],
   "source": []
  }
 ],
 "metadata": {
  "kernelspec": {
   "display_name": "Python 3 (ipykernel)",
   "language": "python",
   "name": "python3"
  },
  "language_info": {
   "codemirror_mode": {
    "name": "ipython",
    "version": 3
   },
   "file_extension": ".py",
   "mimetype": "text/x-python",
   "name": "python",
   "nbconvert_exporter": "python",
   "pygments_lexer": "ipython3",
   "version": "3.10.12"
  }
 },
 "nbformat": 4,
 "nbformat_minor": 5
}
