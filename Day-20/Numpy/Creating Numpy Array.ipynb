{
 "cells": [
  {
   "cell_type": "code",
   "execution_count": 4,
   "id": "708499fb-cc77-443e-a436-202ba2a33ae5",
   "metadata": {},
   "outputs": [
    {
     "name": "stdout",
     "output_type": "stream",
     "text": [
      "Collecting numpy\n",
      "  Using cached numpy-2.1.1-cp310-cp310-manylinux_2_17_x86_64.manylinux2014_x86_64.whl (16.3 MB)\n",
      "Installing collected packages: numpy\n",
      "Successfully installed numpy-2.1.1\n"
     ]
    }
   ],
   "source": [
    "!pip install numpy"
   ]
  },
  {
   "cell_type": "code",
   "execution_count": 5,
   "id": "54792a7a-6fba-436e-bed9-20c30f81e4a6",
   "metadata": {},
   "outputs": [],
   "source": [
    "import numpy as np"
   ]
  },
  {
   "cell_type": "markdown",
   "id": "d08ada56-4237-4a54-a15c-c0c4e3faedbc",
   "metadata": {},
   "source": [
    "## Creating Numpy Array"
   ]
  },
  {
   "cell_type": "code",
   "execution_count": 15,
   "id": "49ab413c-8cee-4104-b0a9-57f3d5a436e6",
   "metadata": {},
   "outputs": [],
   "source": [
    "list1 = [2,4,5]\n",
    "\n",
    "array = np.array(list1)"
   ]
  },
  {
   "cell_type": "code",
   "execution_count": 16,
   "id": "9e6c726b-2ea6-46f9-9e2d-4521688d78c3",
   "metadata": {},
   "outputs": [
    {
     "name": "stdout",
     "output_type": "stream",
     "text": [
      "<class 'numpy.ndarray'>\n",
      "1\n",
      "(3,)\n"
     ]
    }
   ],
   "source": [
    "print(type(array))\n",
    "print(array.ndim)\n",
    "print(array.shape)"
   ]
  },
  {
   "cell_type": "code",
   "execution_count": null,
   "id": "9209c9a2-dd5a-47f3-9b3b-55d3c2ec06a1",
   "metadata": {},
   "outputs": [],
   "source": []
  },
  {
   "cell_type": "code",
   "execution_count": 18,
   "id": "85d85f49-80ee-42c1-b717-c30480fe954d",
   "metadata": {},
   "outputs": [],
   "source": [
    "list2 = [\n",
    "            [1,5,9],\n",
    "            [6,8,2]\n",
    "        ]\n",
    "\n",
    "array2 = np.array(list2)"
   ]
  },
  {
   "cell_type": "code",
   "execution_count": 21,
   "id": "222e031c-0809-4d59-a1e2-22c48ee7fd9e",
   "metadata": {},
   "outputs": [
    {
     "name": "stdout",
     "output_type": "stream",
     "text": [
      "[[1 5 9]\n",
      " [6 8 2]]\n",
      "2\n",
      "(2, 3)\n"
     ]
    }
   ],
   "source": [
    "print(array2)\n",
    "print(array2.ndim)\n",
    "print(array2.shape)"
   ]
  },
  {
   "cell_type": "code",
   "execution_count": 39,
   "id": "a0acf332-e56a-40ac-bab4-909ccb717392",
   "metadata": {},
   "outputs": [
    {
     "data": {
      "text/plain": [
       "dtype('int64')"
      ]
     },
     "execution_count": 39,
     "metadata": {},
     "output_type": "execute_result"
    }
   ],
   "source": [
    "array2.dtype"
   ]
  },
  {
   "cell_type": "markdown",
   "id": "a9c95635-e90f-4494-9166-81721857dcdc",
   "metadata": {},
   "source": [
    "NumPy arrays can be created in several ways. Here are some of the most common methods:\n",
    "\n",
    "- `array()`: Creates NumPy arrays from Python lists\n",
    "- `zeros()`: Creates NumPy arrays with all elements initialized to 0\n",
    "- `ones()`: Creates NumPy arrays with all elements initialized to 1\n",
    "- `full()`: Creates an array with all elements initialized to same user-specified value\n",
    "- `arange()`: Creates NumPy arrays with a sequence of values (similar to python range() function)\n",
    "- `linspace()`: Creates NumPy arrays with a sequence of evenly spaced values\n",
    "- `diag()`: Creates NumPy array with the provided list of numbers as the diagonal elements and zeros elsewhere\n",
    "- `eye()`: Creates NumPy array with ones on the diagonal and zeros elsewhere\n",
    "- `identity()`: Creates an identity matrix\n",
    "- `random.rand()`: Creates NumPy array of random numbers sampled from a uniform distribution"
   ]
  },
  {
   "cell_type": "code",
   "execution_count": 40,
   "id": "55113e24-a05d-4825-ab4a-d26b85b7168b",
   "metadata": {},
   "outputs": [
    {
     "data": {
      "text/plain": [
       "array([0., 0., 0., 0., 0.])"
      ]
     },
     "execution_count": 40,
     "metadata": {},
     "output_type": "execute_result"
    }
   ],
   "source": [
    "zero = np.zeros(5)\n",
    "zero"
   ]
  },
  {
   "cell_type": "code",
   "execution_count": 41,
   "id": "56f2b0b3-0246-44fa-b9c1-f6773e8c0215",
   "metadata": {},
   "outputs": [
    {
     "data": {
      "text/plain": [
       "dtype('float64')"
      ]
     },
     "execution_count": 41,
     "metadata": {},
     "output_type": "execute_result"
    }
   ],
   "source": [
    "zero.dtype"
   ]
  },
  {
   "cell_type": "code",
   "execution_count": null,
   "id": "70366649-f7e9-4180-93c8-50b3f71b29b0",
   "metadata": {},
   "outputs": [],
   "source": []
  },
  {
   "cell_type": "code",
   "execution_count": 23,
   "id": "84bd611b-f8ba-42cd-95b6-787881c37cac",
   "metadata": {},
   "outputs": [
    {
     "name": "stdout",
     "output_type": "stream",
     "text": [
      "[[0. 0. 0. 0. 0.]\n",
      " [0. 0. 0. 0. 0.]\n",
      " [0. 0. 0. 0. 0.]\n",
      " [0. 0. 0. 0. 0.]\n",
      " [0. 0. 0. 0. 0.]]\n"
     ]
    }
   ],
   "source": [
    "print(np.zeros((5,5)))"
   ]
  },
  {
   "cell_type": "code",
   "execution_count": 24,
   "id": "045fea13-f129-4ae7-bb6e-0415a9df7212",
   "metadata": {},
   "outputs": [
    {
     "name": "stdout",
     "output_type": "stream",
     "text": [
      "[1. 1. 1. 1. 1.]\n"
     ]
    }
   ],
   "source": [
    "print(np.ones(5))"
   ]
  },
  {
   "cell_type": "code",
   "execution_count": 31,
   "id": "76ea6b77-5541-4360-b669-5b6495516ffd",
   "metadata": {},
   "outputs": [
    {
     "name": "stdout",
     "output_type": "stream",
     "text": [
      "[[1. 1. 1. 1. 1.]\n",
      " [1. 1. 1. 1. 1.]\n",
      " [1. 1. 1. 1. 1.]\n",
      " [1. 1. 1. 1. 1.]\n",
      " [1. 1. 1. 1. 1.]]\n"
     ]
    }
   ],
   "source": [
    "print(np.ones((5,5)))"
   ]
  },
  {
   "cell_type": "code",
   "execution_count": 29,
   "id": "6f0c872a-5d11-43bc-9a6a-311765d65025",
   "metadata": {},
   "outputs": [
    {
     "name": "stdout",
     "output_type": "stream",
     "text": [
      "[[1. 0. 0. 0.]\n",
      " [0. 1. 0. 0.]\n",
      " [0. 0. 1. 0.]\n",
      " [0. 0. 0. 1.]]\n"
     ]
    }
   ],
   "source": [
    "print(np.identity(4))"
   ]
  },
  {
   "cell_type": "code",
   "execution_count": 57,
   "id": "3ade59a3-0690-4dfb-9592-dea39434e70e",
   "metadata": {},
   "outputs": [
    {
     "name": "stdout",
     "output_type": "stream",
     "text": [
      "[[1. 0. 0.]\n",
      " [0. 1. 0.]\n",
      " [0. 0. 1.]\n",
      " [0. 0. 0.]]\n"
     ]
    }
   ],
   "source": [
    "print(np.eye(N=4, M= 3))"
   ]
  },
  {
   "cell_type": "code",
   "execution_count": 33,
   "id": "b9311dfe-c0c2-41e7-b50f-d46d6b3bf8ae",
   "metadata": {},
   "outputs": [
    {
     "name": "stdout",
     "output_type": "stream",
     "text": [
      "[[0.87210061 0.26905036 0.6706653 ]\n",
      " [0.29669792 0.49745734 0.98677196]]\n"
     ]
    }
   ],
   "source": [
    "print(np.random.rand(2,3))"
   ]
  },
  {
   "cell_type": "code",
   "execution_count": null,
   "id": "450874ee-5a8b-4427-aab7-785979d7f2ac",
   "metadata": {},
   "outputs": [],
   "source": []
  },
  {
   "cell_type": "code",
   "execution_count": 44,
   "id": "8fb1bcbd-a05d-4ebf-87e7-4c84cba68c87",
   "metadata": {},
   "outputs": [
    {
     "data": {
      "text/plain": [
       "[5, 10, 15, 20, 25, 30, 35, 40, 45, 50]"
      ]
     },
     "execution_count": 44,
     "metadata": {},
     "output_type": "execute_result"
    }
   ],
   "source": [
    "list(range(5,55,5))"
   ]
  },
  {
   "cell_type": "code",
   "execution_count": 38,
   "id": "57fada0e-0283-4537-8d44-cf79f40e4f3a",
   "metadata": {},
   "outputs": [
    {
     "data": {
      "text/plain": [
       "array([1, 3, 5, 7, 9])"
      ]
     },
     "execution_count": 38,
     "metadata": {},
     "output_type": "execute_result"
    }
   ],
   "source": [
    "np.arange(1,10,2)"
   ]
  },
  {
   "cell_type": "code",
   "execution_count": 48,
   "id": "ea43be36-1508-450c-94b7-64265a2a5986",
   "metadata": {},
   "outputs": [
    {
     "data": {
      "text/plain": [
       "array([-6.3 , -3.63, -0.96,  1.71,  4.38,  7.05,  9.72, 12.39])"
      ]
     },
     "execution_count": 48,
     "metadata": {},
     "output_type": "execute_result"
    }
   ],
   "source": [
    "np.arange(-6.3,13.6,2.67)"
   ]
  },
  {
   "cell_type": "code",
   "execution_count": 45,
   "id": "6b6c8d91-74e9-4120-9cda-ba35a43f79d2",
   "metadata": {},
   "outputs": [
    {
     "name": "stdout",
     "output_type": "stream",
     "text": [
      "[ 0.   2.5  5.   7.5 10. ]\n"
     ]
    }
   ],
   "source": [
    "# np.linspace(start, stop, no_element) > linear space\n",
    "\n",
    "array_linspace1 = np.linspace(start=0, stop=10, num=5)\n",
    "print(array_linspace1)"
   ]
  },
  {
   "cell_type": "code",
   "execution_count": 50,
   "id": "ca79f6b4-48ed-460d-bab0-257152bb437f",
   "metadata": {},
   "outputs": [
    {
     "name": "stdout",
     "output_type": "stream",
     "text": [
      "[[ 0.   2.5  5.   7.5 10. ]\n",
      " [ 0.   5.  10.  15.  20. ]\n",
      " [ 0.   7.5 15.  22.5 30. ]]\n"
     ]
    }
   ],
   "source": [
    "array_linspace1 = np.linspace(start=(0,0,0), stop=(10,20,30), num=5, axis=1)\n",
    "print(array_linspace1)"
   ]
  },
  {
   "cell_type": "code",
   "execution_count": 55,
   "id": "746bf163-19b8-4fc6-ac97-6ec383905ab4",
   "metadata": {},
   "outputs": [
    {
     "data": {
      "text/plain": [
       "array([[3, 0, 0, 0],\n",
       "       [0, 6, 0, 0],\n",
       "       [0, 0, 3, 0],\n",
       "       [0, 0, 0, 6]])"
      ]
     },
     "execution_count": 55,
     "metadata": {},
     "output_type": "execute_result"
    }
   ],
   "source": [
    "diag_array = np.diag([3,6,3,6])\n",
    "diag_array"
   ]
  },
  {
   "cell_type": "code",
   "execution_count": 74,
   "id": "f7c5d7ad-dd27-4199-ba9e-a716b121fce6",
   "metadata": {},
   "outputs": [],
   "source": [
    "\n",
    "nDarray = np.random.randint(low = 4, high=34, size = (2,3,2,2))"
   ]
  },
  {
   "cell_type": "code",
   "execution_count": 75,
   "id": "a973e006-536d-465b-bd2b-924eaff37d3f",
   "metadata": {},
   "outputs": [
    {
     "data": {
      "text/plain": [
       "(2, 3, 2, 2)"
      ]
     },
     "execution_count": 75,
     "metadata": {},
     "output_type": "execute_result"
    }
   ],
   "source": [
    "nDarray.shape"
   ]
  },
  {
   "cell_type": "code",
   "execution_count": 76,
   "id": "a66b95ee-dbea-4b5f-bcd9-5aa4760771fb",
   "metadata": {},
   "outputs": [
    {
     "data": {
      "text/plain": [
       "array([[[[30, 18],\n",
       "         [ 4, 14]],\n",
       "\n",
       "        [[ 9, 10],\n",
       "         [32, 26]],\n",
       "\n",
       "        [[19, 18],\n",
       "         [25, 30]]],\n",
       "\n",
       "\n",
       "       [[[ 6, 13],\n",
       "         [ 6, 15]],\n",
       "\n",
       "        [[31,  4],\n",
       "         [15, 10]],\n",
       "\n",
       "        [[15, 27],\n",
       "         [16, 21]]]])"
      ]
     },
     "execution_count": 76,
     "metadata": {},
     "output_type": "execute_result"
    }
   ],
   "source": [
    "nDarray"
   ]
  },
  {
   "cell_type": "code",
   "execution_count": null,
   "id": "f69bdcb0-2233-4daf-a28a-358bfc5b300e",
   "metadata": {},
   "outputs": [],
   "source": []
  }
 ],
 "metadata": {
  "kernelspec": {
   "display_name": "Python 3 (ipykernel)",
   "language": "python",
   "name": "python3"
  },
  "language_info": {
   "codemirror_mode": {
    "name": "ipython",
    "version": 3
   },
   "file_extension": ".py",
   "mimetype": "text/x-python",
   "name": "python",
   "nbconvert_exporter": "python",
   "pygments_lexer": "ipython3",
   "version": "3.10.12"
  }
 },
 "nbformat": 4,
 "nbformat_minor": 5
}
