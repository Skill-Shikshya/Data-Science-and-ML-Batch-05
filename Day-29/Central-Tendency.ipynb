{
 "cells": [
  {
   "cell_type": "code",
   "execution_count": 1,
   "id": "98e8a983-637f-4f48-bded-7fc277a1ad16",
   "metadata": {},
   "outputs": [],
   "source": [
    "import numpy as np\n",
    "from scipy import stats\n",
    "import matplotlib.pyplot as plt"
   ]
  },
  {
   "cell_type": "code",
   "execution_count": 2,
   "id": "06b9d00b-453b-4fd3-8433-8b28ae2479c3",
   "metadata": {},
   "outputs": [
    {
     "data": {
      "text/plain": [
       "array([ 1.0501542 ,  0.7990685 , -0.54728235,  0.33701933, -3.81624453,\n",
       "        1.15357106, -0.48669045,  1.5234515 , -0.80381826, -0.66939185,\n",
       "        1.84861959, -1.06714731,  0.32898557,  1.63389801,  1.2161978 ])"
      ]
     },
     "execution_count": 2,
     "metadata": {},
     "output_type": "execute_result"
    }
   ],
   "source": [
    "x = np.random.standard_t(15,size=1000)\n",
    "x[:15]"
   ]
  },
  {
   "cell_type": "markdown",
   "id": "2b0b7fab-93b6-439e-a0cf-dd3897bcb76f",
   "metadata": {},
   "source": [
    "## Measure of Central Tendency"
   ]
  },
  {
   "cell_type": "markdown",
   "id": "dc0bdb28-b6f9-43bc-b483-229c47407769",
   "metadata": {},
   "source": [
    "Measures of central tendency are statistical measures that provide information about the central or typical value of a dataset. They give us a sense of where the data is centered or concentrated. The three common measures of central tendency are: \n",
    "\n",
    "- Mean\n",
    "- Median\n",
    "- Mode"
   ]
  },
  {
   "cell_type": "markdown",
   "id": "c04fd5e2-8acd-44bd-889b-6d46be6f733f",
   "metadata": {},
   "source": [
    "### Mean"
   ]
  },
  {
   "cell_type": "markdown",
   "id": "b91a011e-7949-43e1-90e1-be7b0611923b",
   "metadata": {},
   "source": [
    "The mean, denoted by $\\mu$, is a measure of central tendency that represents the average value of a dataset. It is calculated by summing all the values in the dataset and dividing by the number of observations.\n",
    "\n",
    "\\begin{equation}\n",
    "\\mu = \\frac{\\sum_{i=1}^{n} x_i}{n}\n",
    "\\end{equation}"
   ]
  },
  {
   "cell_type": "code",
   "execution_count": 3,
   "id": "ec94f290-9b9a-498b-8467-31bac7ca9828",
   "metadata": {},
   "outputs": [
    {
     "name": "stdout",
     "output_type": "stream",
     "text": [
      "Mean of x: -0.04601780510464053\n"
     ]
    }
   ],
   "source": [
    "_mean = np.mean(x)\n",
    "print(f\"Mean of x: {_mean}\")"
   ]
  },
  {
   "cell_type": "code",
   "execution_count": 4,
   "id": "dd74643b-6add-4a80-953e-4ed0806cb5b8",
   "metadata": {},
   "outputs": [
    {
     "data": {
      "text/plain": [
       "<matplotlib.lines.Line2D at 0x793b92d95720>"
      ]
     },
     "execution_count": 4,
     "metadata": {},
     "output_type": "execute_result"
    },
    {
     "data": {
      "image/png": "[encoded data removed]",
      "text/plain": [
       "<Figure size 640x480 with 1 Axes>"
      ]
     },
     "metadata": {},
     "output_type": "display_data"
    }
   ],
   "source": [
    "plt.hist(x, color='blue')\n",
    "plt.axvline(x = _mean, color = 'yellow')"
   ]
  },
  {
   "cell_type": "code",
   "execution_count": null,
   "id": "032149f6-64ff-4f21-bc1e-50f008a15410",
   "metadata": {},
   "outputs": [],
   "source": []
  },
  {
   "cell_type": "markdown",
   "id": "5887c870-522d-4201-a621-cf58da79d05d",
   "metadata": {},
   "source": [
    "### Median"
   ]
  },
  {
   "cell_type": "markdown",
   "id": "4cedd38f-c04a-44b2-a49e-dae5f10f7a1d",
   "metadata": {},
   "source": [
    "The median is another measure of central tendency that represents the middle value of a sorted dataset. If the dataset has an odd number of observations, the median is the middle value. If the dataset has an even number of observations, the median is the average of the two middle values.\n",
    "\n",
    "We can calculate the median values in two different ways:\n",
    "\n",
    "#### Odd Number of Observations:\n",
    "\n",
    "If the dataset has an odd number of observations (n), the median is the middle value when the dataset is arranged in ascending order. The formula for calculating the median in this case is:\n",
    "\n",
    "\\begin{equation}\n",
    "\\text{Median} = x_{\\left(\\frac{n+1}{2}\\right)}\n",
    "\\end{equation}\n",
    "\n",
    "#### Even Number of Observations:\n",
    "\n",
    "If the dataset has an even number of observations (n), the median is the average of the two middle values when the dataset is arranged in ascending order. The formula for calculating the median in this case is:\n",
    "\n",
    "\\begin{equation}\n",
    "\\text{Median} = \\frac{x_{\\left(\\frac{n}{2}\\right)} + x_{\\left(\\frac{n}{2}+1\\right)}}{2}\n",
    "\\end{equation}"
   ]
  },
  {
   "cell_type": "code",
   "execution_count": null,
   "id": "83f0cfba-ce8d-4108-8fd4-3e6cd511eb5b",
   "metadata": {},
   "outputs": [],
   "source": [
    "_median = np.median(x)\n",
    "print(f\"Median of x: {_median}\")"
   ]
  },
  {
   "cell_type": "code",
   "execution_count": null,
   "id": "767f3774-b211-4ce6-bff5-ad61611f215e",
   "metadata": {},
   "outputs": [],
   "source": [
    "plt.hist(x, color='blue')\n",
    "plt.axvline(x = _mean, color = 'yellow')\n",
    "plt.axvline(x = _median, color = 'red')"
   ]
  },
  {
   "cell_type": "code",
   "execution_count": null,
   "id": "568154c4-ea33-4161-8ff7-1650538f40f6",
   "metadata": {},
   "outputs": [],
   "source": []
  },
  {
   "cell_type": "markdown",
   "id": "886cbfce-60e9-409e-9561-fe1f709eab11",
   "metadata": {},
   "source": [
    "### Mode"
   ]
  },
  {
   "attachments": {},
   "cell_type": "markdown",
   "id": "97ccdb6a-3135-4854-b214-59d249988d9a",
   "metadata": {},
   "source": [
    "The mode is a measure of central tendency that represents the most frequently occurring value(s) in a dataset. A dataset can have one mode (unimodal) or multiple modes (multimodal). MOstly used with Categorical data"
   ]
  },
  {
   "cell_type": "code",
   "execution_count": null,
   "id": "dd00ad3a-60bf-4f38-8f2d-9d4d5c13fd54",
   "metadata": {},
   "outputs": [],
   "source": [
    "_mode = stats.mode(x).mode\n",
    "print(\"Mode: \", _mode)"
   ]
  },
  {
   "cell_type": "code",
   "execution_count": null,
   "id": "daa06fc6-f70e-4c2f-ab94-a93f8e8187df",
   "metadata": {},
   "outputs": [],
   "source": [
    "plt.hist(x, color='blue')\n",
    "plt.axvline(x = _mean, color = 'yellow')\n",
    "plt.axvline(x = _median, color = 'red')\n",
    "plt.axvline(x = _mode, color = 'green')"
   ]
  },
  {
   "cell_type": "code",
   "execution_count": null,
   "id": "138a1c57-dcff-4f59-85c8-6e1583a4b377",
   "metadata": {},
   "outputs": [],
   "source": []
  }
 ],
 "metadata": {
  "kernelspec": {
   "display_name": "Python 3 (ipykernel)",
   "language": "python",
   "name": "python3"
  },
  "language_info": {
   "codemirror_mode": {
    "name": "ipython",
    "version": 3
   },
   "file_extension": ".py",
   "mimetype": "text/x-python",
   "name": "python",
   "nbconvert_exporter": "python",
   "pygments_lexer": "ipython3",
   "version": "3.10.12"
  }
 },
 "nbformat": 4,
 "nbformat_minor": 5
}
