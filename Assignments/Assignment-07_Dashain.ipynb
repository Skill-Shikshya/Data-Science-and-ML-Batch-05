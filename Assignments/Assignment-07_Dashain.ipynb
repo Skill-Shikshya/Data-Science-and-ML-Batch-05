{
 "cells": [
  {
   "cell_type": "markdown",
   "metadata": {},
   "source": [
    "## Pandas : Data Exploring and Insights\n",
    "\n",
    "### **Dataset**: [House Prices Dataset](https://www.kaggle.com/competitions/house-prices-advanced-regression-techniques/data)\n",
    "\n",
    "The dataset includes 79 explanatory variables that describe aspects of residential homes.\n",
    "\n",
    "#### **Instructions**:\n",
    "- Use Python and Jupyter Notebook to solve the questions.\n",
    "- Ensure your code is efficient, well-commented, and follows best practices for handling missing data and outliers.\n",
    "- Use appropriate visualizations where needed and include explanations for your analysis."
   ]
  },
  {
   "cell_type": "markdown",
   "metadata": {},
   "source": [
    "---"
   ]
  },
  {
   "cell_type": "markdown",
   "metadata": {},
   "source": [
    "### **Problem 1: Data Exploration with Pandas**  \n",
    "1. Load the House Prices dataset using Pandas and perform initial exploration:\n",
    "   - Display the first and last 5 rows.\n",
    "   - Display the **data types** of each column.\n",
    "   - Check for **missing values** and calculate the percentage of missing data for each column.\n",
    "   - Summarize the **statistical properties** of the numerical columns using `describe()`.\n",
    "\n",
    "2. Based on the dataset, identify the following:\n",
    "   - Columns that are **categorical** and **numerical**.\n",
    "   - Any potential **outliers** in the numerical columns (use visualizations like boxplots)."
   ]
  },
  {
   "cell_type": "code",
   "execution_count": null,
   "metadata": {},
   "outputs": [],
   "source": []
  },
  {
   "cell_type": "markdown",
   "metadata": {},
   "source": [
    "### **Problem 2: Data Manipulation with Pandas**  \n",
    "1. Filter the dataset to include only houses where the **SalePrice** is above the **90th percentile**.\n",
    "2. Create a new **calculated column**: `Price_Per_SqFt = SalePrice / GrLivArea`.\n",
    "3. **Group the data** by `Neighborhood` and calculate the **mean** and **median** for `SalePrice`.\n",
    "4. Sort the dataset by `Price_Per_SqFt` and display the **top 10 rows**."
   ]
  },
  {
   "cell_type": "code",
   "execution_count": null,
   "metadata": {},
   "outputs": [],
   "source": []
  },
  {
   "cell_type": "markdown",
   "metadata": {},
   "source": [
    "### **Problem 3: Handling Missing Data and Imputation**  \n",
    "1. Identify columns with **missing values**.\n",
    "2. Impute the missing values:\n",
    "   - For **numerical columns**, replace missing values with the **median**.\n",
    "   - For **categorical columns**, replace missing values with the **most frequent** value.\n",
    "3. Justify your choice of imputation methods and check if any missing data remains."
   ]
  },
  {
   "cell_type": "code",
   "execution_count": null,
   "metadata": {},
   "outputs": [],
   "source": []
  },
  {
   "cell_type": "markdown",
   "metadata": {},
   "source": [
    "### **Problem 4: Numpy Array Operations**  \n",
    "1. Convert the numerical columns (such as `LotArea`, `YearBuilt`, `GrLivArea`, `SalePrice`, etc.) into a **NumPy array**.\n",
    "2. Perform the following NumPy operations on the array:\n",
    "   - Compute the **mean** and **standard deviation** of each column.\n",
    "   - Normalize the data using **min-max scaling** and **z-score normalization**.\n",
    "   - Compute the **dot product** between two numerical columns of your choice."
   ]
  },
  {
   "cell_type": "code",
   "execution_count": null,
   "metadata": {},
   "outputs": [],
   "source": []
  },
  {
   "cell_type": "markdown",
   "metadata": {},
   "source": [
    "### **Problem 5: Data Visualization**  \n",
    "Using Matplotlib and/or Seaborn, visualize the following:\n",
    "1. **Distribution** of `SalePrice` using a **histogram**.\n",
    "2. **Box plot** of `SalePrice` grouped by `OverallQual` (overall quality of the house).\n",
    "3. **Scatter plot** between `GrLivArea` (Above-ground living area) and `SalePrice`. Analyze the relationship.\n",
    "4. Plot a **correlation heatmap** for the numerical columns."
   ]
  },
  {
   "cell_type": "code",
   "execution_count": null,
   "metadata": {},
   "outputs": [],
   "source": []
  },
  {
   "cell_type": "markdown",
   "metadata": {},
   "source": [
    "### **Problem 6: Aggregation and Transformation**  \n",
    "1. Perform a **groupby** operation on `Neighborhood` and calculate the **mean** and **median** for `SalePrice`.\n",
    "2. Use the `apply()` function to create a custom transformation for `SalePrice` (e.g., scaling or transformation).\n",
    "3. Aggregate multiple statistical values (e.g., **mean**, **median**, and **count**) for `SalePrice` grouped by `OverallQual`."
   ]
  },
  {
   "cell_type": "code",
   "execution_count": null,
   "metadata": {},
   "outputs": [],
   "source": []
  }
 ],
 "metadata": {
  "kernelspec": {
   "display_name": "Python 3 (ipykernel)",
   "language": "python",
   "name": "python3"
  },
  "language_info": {
   "codemirror_mode": {
    "name": "ipython",
    "version": 3
   },
   "file_extension": ".py",
   "mimetype": "text/x-python",
   "name": "python",
   "nbconvert_exporter": "python",
   "pygments_lexer": "ipython3",
   "version": "3.10.12"
  }
 },
 "nbformat": 4,
 "nbformat_minor": 4
}
