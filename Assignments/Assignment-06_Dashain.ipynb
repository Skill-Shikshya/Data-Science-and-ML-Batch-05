{
 "cells": [
  {
   "cell_type": "markdown",
   "metadata": {},
   "source": [
    "## Python Programming Language Assignment"
   ]
  },
  {
   "cell_type": "markdown",
   "metadata": {},
   "source": [
    "#### **Instructions**:\n",
    "- Solve each problem using Python. Ensure that your code is efficient and handles exceptions where applicable.\n",
    "- Solutions should be submitted in a well-structured `.py` file or Jupyter Notebook with clear comments.\n",
    "- You are encouraged to research, but the code must be your own.\n"
   ]
  },
  {
   "cell_type": "markdown",
   "metadata": {},
   "source": [
    "### **Problem 1: Numerical Operations and String Manipulation**  \n",
    "Write a Python program that:\n",
    "1. Accepts two numbers (int or float) as input and performs the following:\n",
    "   - **Exponentiation** using both `**` and `pow()`.\n",
    "   - Calculates the **modulus** of both numbers.\n",
    "   - Computes the **floor** and **ceiling** of the division of the two numbers using the `math` module.\n",
    "2. Asks the user to input a string. The program should:\n",
    "   - Count the frequency of each character using a dictionary.\n",
    "   - Identify the character that occurs the most and print it.\n",
    "   - Convert the string into an acronym by taking the first letter of each word (handle multi-word strings)."
   ]
  },
  {
   "cell_type": "code",
   "execution_count": null,
   "metadata": {},
   "outputs": [],
   "source": []
  },
  {
   "cell_type": "markdown",
   "metadata": {},
   "source": [
    "### **Problem 2: Nested Data Structures with Lists and Tuples**  \n",
    "You are given a nested list of tuples representing product sales data. Each tuple contains the product name, sales quantity, and price per unit:\n",
    "```python\n",
    "sales_data = [('Laptop', 30, 1500), ('Tablet', 50, 600), ('Smartphone', 120, 800)]\n",
    "```\n",
    "Write a program that:\n",
    "1. Calculates the **total revenue** for each product and stores it in a new list.\n",
    "2. Sorts the list of tuples by total revenue in **descending order**.\n",
    "3. Converts this list into a **tuple of tuples** and performs the following:\n",
    "   - Find the product with the **maximum total revenue**.\n",
    "   - Extract a **sub-tuple** containing the top 2 products by revenue."
   ]
  },
  {
   "cell_type": "code",
   "execution_count": null,
   "metadata": {},
   "outputs": [],
   "source": []
  },
  {
   "cell_type": "markdown",
   "metadata": {},
   "source": [
    "### **Problem 3: Set Operations with Unique Data and Optimization**  \n",
    "You have two sets representing the IDs of users who logged into a system over two different weeks:\n",
    "```python\n",
    "week1 = {1001, 1002, 1003, 1004, 1005}\n",
    "week2 = {1003, 1004, 1005, 1006, 1007}\n",
    "```\n",
    "Write a Python program that:\n",
    "1. Identifies users who logged in during **both weeks** and stores them in a new set.\n",
    "2. Computes the **symmetric difference** (users who logged in only in one of the weeks).\n",
    "3. Optimizes set operations by handling cases where sets could be very large. Use `timeit` to compare the performance of your set operations.\n",
    "4. Write an explanation of the performance differences you observe."
   ]
  },
  {
   "cell_type": "code",
   "execution_count": null,
   "metadata": {},
   "outputs": [],
   "source": []
  },
  {
   "cell_type": "markdown",
   "metadata": {},
   "source": [
    "### **Problem 4: Dictionary with Nested Structures and Data Aggregation**  \n",
    "You have a dictionary representing the monthly sales data for a year, where each value is a dictionary with details about the sales for different categories:\n",
    "```python\n",
    "sales = {\n",
    "    'January': {'Electronics': 5000, 'Clothing': 3000, 'Grocery': 2000},\n",
    "    'February': {'Electronics': 6000, 'Clothing': 3500, 'Grocery': 2500},\n",
    "    'March': {'Electronics': 5500, 'Clothing': 3200, 'Grocery': 2400}\n",
    "}\n",
    "```\n",
    "Write a program that:\n",
    "1. **Adds** a new category \"Home Appliances\" with random sales values for each month.\n",
    "2. Calculates the **total sales** for each month and stores the result in a new dictionary.\n",
    "3. Identifies the **best performing month** by total sales.\n",
    "4. Extracts and prints the top **two categories** that contributed the most to the sales in the best performing month."
   ]
  },
  {
   "cell_type": "code",
   "execution_count": null,
   "metadata": {},
   "outputs": [],
   "source": []
  },
  {
   "cell_type": "markdown",
   "metadata": {},
   "source": [
    "### **Problem 5: Control Flow with Nested Loops and Complex Logic**  \n",
    "Write a Python program that simulates a **number guessing game**:\n",
    "1. The program should generate a random number between 1 and 100 and give the user 7 attempts to guess it.\n",
    "2. After each wrong guess, the program should provide a hint whether the guess was too high or too low.\n",
    "3. If the user fails to guess the number within the attempts, the program should reveal the number and ask if they would like to play again.\n",
    "4. Implement **exception handling** to handle non-integer inputs and prompt the user to try again without counting the attempt."
   ]
  },
  {
   "cell_type": "code",
   "execution_count": null,
   "metadata": {},
   "outputs": [],
   "source": []
  },
  {
   "cell_type": "markdown",
   "metadata": {},
   "source": [
    "### **Problem 6: Functions with Memoization and Advanced Usage**  \n",
    "Write a Python program that:\n",
    "1. Implements a recursive function to calculate the **Nth Fibonacci number** but uses **memoization** to optimize repeated calculations. Use a dictionary to store already computed Fibonacci numbers.\n",
    "2. Implements a lambda function that checks if a number is **prime**, and uses it to filter prime numbers from a list of random integers.\n",
    "3. Uses the `reduce` function to find the **greatest common divisor (GCD)** of a list of integers."
   ]
  },
  {
   "cell_type": "code",
   "execution_count": null,
   "metadata": {},
   "outputs": [],
   "source": []
  },
  {
   "cell_type": "markdown",
   "metadata": {},
   "source": [
    "### **Problem 7: OOP Concepts**  \n",
    "Create a class `BankAccount` that:\n",
    "1. Allows a user to create an account by providing a **name** and an initial **balance**.\n",
    "2. Includes methods to **deposit**, **withdraw**, and **check balance**. The withdrawal should not allow an account to go negative.\n",
    "3. Overloads the `+` operator to allow merging of two accounts (sum of their balances) and returns a new account.\n",
    "4. Uses **Inheritance** to create a subclass `SavingsAccount` that adds an interest rate. Implement a method to calculate interest on the balance and update it accordingly."
   ]
  },
  {
   "cell_type": "code",
   "execution_count": null,
   "metadata": {},
   "outputs": [],
   "source": []
  },
  {
   "cell_type": "markdown",
   "metadata": {},
   "source": [
    "### **Problem 8: File Handling with Data Processing**  \n",
    "Write a Python program that:\n",
    "1. Reads data from a text file containing multiple lines, where each line contains a name and a score (e.g., `John, 89`).\n",
    "2. Stores the data in a dictionary and sorts the dictionary by score.\n",
    "3. Writes the sorted data back into a new file, where the highest scores appear first.\n",
    "4. The program should handle potential file I/O errors using appropriate exception handling techniques.\n"
   ]
  },
  {
   "cell_type": "code",
   "execution_count": null,
   "metadata": {},
   "outputs": [],
   "source": []
  },
  {
   "cell_type": "markdown",
   "metadata": {},
   "source": [
    "### **Problem 9: Exception Handling and Debugging**  \n",
    "Write a Python program that:\n",
    "1. Takes a string input from the user and tries to convert it into an integer.\n",
    "2. Raises a **custom exception** called `InvalidInputError` if the string contains non-numeric characters.\n",
    "3. Ensures that the program continues to prompt for input until a valid integer is entered, and logs the errors into a text file for future reference."
   ]
  },
  {
   "cell_type": "code",
   "execution_count": null,
   "metadata": {},
   "outputs": [],
   "source": []
  },
  {
   "cell_type": "markdown",
   "metadata": {},
   "source": [
    "### **Problem 10: Numpy, Pandas, and Data Processing**  \n",
    "1. Create a **3D numpy array** of random numbers. Compute the **mean** across each axis and the standard deviation of the entire array.\n",
    "2. Using a Pandas DataFrame, simulate daily stock prices for 5 companies over a month (generate random data). Perform the following:\n",
    "   - Calculate the **daily percentage change** in stock prices.\n",
    "   - Identify the days with the highest and lowest percentage change for each stock.\n",
    "   - Plot the **trend of stock prices** for any two selected companies on the same graph using Matplotlib."
   ]
  },
  {
   "cell_type": "code",
   "execution_count": null,
   "metadata": {},
   "outputs": [],
   "source": []
  }
 ],
 "metadata": {
  "kernelspec": {
   "display_name": "Python 3 (ipykernel)",
   "language": "python",
   "name": "python3"
  },
  "language_info": {
   "codemirror_mode": {
    "name": "ipython",
    "version": 3
   },
   "file_extension": ".py",
   "mimetype": "text/x-python",
   "name": "python",
   "nbconvert_exporter": "python",
   "pygments_lexer": "ipython3",
   "version": "3.10.12"
  }
 },
 "nbformat": 4,
 "nbformat_minor": 4
}
